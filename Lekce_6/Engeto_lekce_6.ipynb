{
  "cells": [
    {
      "cell_type": "code",
      "source": [
        "# napište kód, který se bude ptát uživatele na písmena.\n",
        "# zároveň si bude nová písmena ukládat, pokud ale písmeno už je uložené tak ho ze seznamu naopak odstraní\n",
        "# program končí po zadaní ´q´\n",
        "\n",
        "# zde vychozi kod (uvazujte o tom jako o refaktorovani)\n",
        "\n",
        "pismena = [\"a\", \"a\", \"b\", \"c\", \"d\", \"a\", \"e\", \"g\", \"m\"]\n",
        "\n",
        "print(\"Začátek\", pismena)\n",
        "while len(pismena):\n",
        "# while len(pismena) != 0:\n",
        "    input_user = input(\"ktere písmeno chceš vyhodit?\")\n",
        "    if input_user not in pismena:\n",
        "        print(input_user, \"není součástí písmen!\")\n",
        "    else:\n",
        "        pismena.remove(input_user)\n",
        "    if len(pismena) != 0:\n",
        "        print(\"Zbývají písmena\", pismena)\n",
        "\n",
        "print(\"Seznam je prázdný!\")"
      ],
      "metadata": {
        "id": "3Ayes3k6qkn6"
      },
      "execution_count": null,
      "outputs": []
    },
    {
      "cell_type": "code",
      "source": [
        "# vytvořte slovník, který bude popisovat nějaký realný objekt (třeba stát, recept, slavnou osobu ...), zkuste si ho nejak pekne vypsat"
      ],
      "metadata": {
        "id": "j73Ym0brrSRK"
      },
      "execution_count": null,
      "outputs": []
    },
    {
      "cell_type": "code",
      "source": [
        "# jaky je rozdil mezi enumerate/range/zip\n",
        "# nejaky priklad a ukazku kodu\n"
      ],
      "metadata": {
        "id": "W3sNxR-WrmEK"
      },
      "execution_count": null,
      "outputs": []
    },
    {
      "cell_type": "markdown",
      "metadata": {
        "id": "R_60nVlBnb2j"
      },
      "source": [
        "### Úvod\n",
        "\n",
        "---\n",
        "\n",
        "1. [Obecně ke knihovnám](#Obecně-ke-knihovnám),\n",
        "2. [ohlášení knihoven](#Ohlášení-knihoven),\n",
        "3. [moduly](#Moduly),\n",
        "4. [balíčky](#Balíčky),"
      ]
    },
    {
      "cell_type": "markdown",
      "metadata": {
        "id": "mllVhAg9nb2m"
      },
      "source": [
        "<br>\n",
        "\n",
        "<img src=\"https://external-content.duckduckgo.com/iu/?u=https%3A%2F%2Ftse3.mm.bing.net%2Fth%3Fid%3DOIP.lcaRsa47BhZ7k0yfLdB6AgHaHa%26pid%3DApi&f=1\" width=\"200\">\n",
        "\n",
        "## Obecně ke knihovnám\n",
        "\n",
        "---"
      ]
    },
    {
      "cell_type": "markdown",
      "metadata": {
        "id": "aFhsCTBPnb2m"
      },
      "source": [
        "##### Co je to knihovna?\n",
        "\n",
        "*Knihovny* v Pythonu jsou teoreticky všechny soubory s příponou `.py`."
      ]
    },
    {
      "cell_type": "markdown",
      "metadata": {
        "id": "WgHkbZjcnb2n"
      },
      "source": [
        "##### Jak vypadá knihovna?\n",
        "Obsahují v sobě kód, který ty můžeš použít a nemusíš ho přepisovat od začátku.\n",
        "\n",
        "Autor knihovny si dal práci, že napsal funkce, proměnné, podmínkové zápisy a smyčky tak, že ty už je psát nemusíš."
      ]
    },
    {
      "cell_type": "markdown",
      "metadata": {
        "id": "bso0oUY0nb2n"
      },
      "source": [
        "###### Demo: Knihovna `random.py`\n",
        "* https://github.com/python/cpython/blob/3.12/Lib/random.py\n",
        "\n",
        "```python\n",
        "\n",
        "\"\"\"\n",
        "Random variable generators.\n",
        "\n",
        "bytes\n",
        "-----\n",
        "    uniform bytes (values between 0 and 255)\n",
        "integers\n",
        "--------\n",
        "    uniform within range\n",
        "    ...\n",
        "```"
      ]
    },
    {
      "cell_type": "markdown",
      "metadata": {
        "id": "1JFTYO5Unb2n"
      },
      "source": [
        "##### Proč psát/používat knihovny?\n",
        "\n",
        "Pro tebe je to velká výhoda, protože si tento kód jednoduše:\n",
        "1. Vyhledáš,\n",
        "2. nahraješ,\n",
        "3. používáš, co potřebuješ.\n",
        "\n",
        "##### Demo: Hledám knihovnu (zatim bez instalace - to az pozdeji)\n",
        "* vim jakou chci - https://pypi.org/, https://python.libhunt.com/\n",
        "* nevim jakou chci - https://www.google.com/\n",
        "\n",
        "Některé knihovny ale hledat nemusíš a jsou už dostupné přímo po instalaci Pythonu.\n",
        " * https://docs.python.org/3/library/index.html\n",
        "\n",
        "##### Praktické ukázky knihoven"
      ]
    },
    {
      "cell_type": "markdown",
      "metadata": {
        "id": "384GiZYGnb2o"
      },
      "source": [
        "Ověř **operační systém** pomocí Pythonu:"
      ]
    },
    {
      "cell_type": "code",
      "execution_count": null,
      "metadata": {
        "id": "kcI2PCcKnb2o"
      },
      "outputs": [],
      "source": [
        "import sys"
      ]
    },
    {
      "cell_type": "code",
      "execution_count": null,
      "metadata": {
        "id": "W1xCvW6Ynb2p"
      },
      "outputs": [],
      "source": [
        "print(sys.platform)"
      ]
    },
    {
      "cell_type": "code",
      "execution_count": null,
      "metadata": {
        "id": "aQle61h7nb2q"
      },
      "outputs": [],
      "source": [
        "type(sys.platform)"
      ]
    },
    {
      "cell_type": "code",
      "execution_count": null,
      "metadata": {
        "id": "U6P5_FfQnb2q"
      },
      "outputs": [],
      "source": [
        "if sys.platform == \"windows\":\n",
        "    print(\"Spouštím cmd pro Win..\")\n",
        "else:\n",
        "    print(\"Spouštím cmd pro unix-based systémy..\")"
      ]
    },
    {
      "cell_type": "markdown",
      "metadata": {
        "id": "3fT6Bumsnb2q"
      },
      "source": [
        "<br>\n",
        "\n",
        "Operace **se soubory, cestami** v rámci tvého OS:"
      ]
    },
    {
      "cell_type": "code",
      "execution_count": null,
      "metadata": {
        "id": "ATizDtaRnb2q"
      },
      "outputs": [],
      "source": [
        "import os  # Obdoba: pathlib"
      ]
    },
    {
      "cell_type": "code",
      "execution_count": null,
      "metadata": {
        "id": "4xHNEicLnb2r"
      },
      "outputs": [],
      "source": [
        "print(os.getcwd())   # aktuální umístení"
      ]
    },
    {
      "cell_type": "code",
      "execution_count": null,
      "metadata": {
        "id": "28gf9rhZnb2r"
      },
      "outputs": [],
      "source": [
        "print(os.listdir())  # dostupné soubory"
      ]
    },
    {
      "cell_type": "markdown",
      "metadata": {
        "id": "ELlFW1F-nb2r"
      },
      "source": [
        "<br>\n",
        "\n",
        "Spočítej **3 nejčastější znaky** v zadaném `str`:"
      ]
    },
    {
      "cell_type": "code",
      "execution_count": null,
      "metadata": {
        "id": "wZuJM-tsnb2r"
      },
      "outputs": [],
      "source": [
        "from collections import Counter"
      ]
    },
    {
      "cell_type": "code",
      "execution_count": null,
      "metadata": {
        "id": "X4tnN-Qvnb2r"
      },
      "outputs": [],
      "source": [
        "pocitadlo = Counter(\"abcdeabcdabcaba\")"
      ]
    },
    {
      "cell_type": "code",
      "execution_count": null,
      "metadata": {
        "id": "2vsHMcfSnb2s"
      },
      "outputs": [],
      "source": [
        "print(pocitadlo.most_common(3))"
      ]
    },
    {
      "cell_type": "markdown",
      "source": [
        "Potřebujete **náhodnost**?"
      ],
      "metadata": {
        "id": "9ftHOra6zq3b"
      }
    },
    {
      "cell_type": "code",
      "execution_count": null,
      "metadata": {
        "id": "ziPoebp4nb2s"
      },
      "outputs": [],
      "source": [
        "import random"
      ]
    },
    {
      "cell_type": "code",
      "execution_count": null,
      "metadata": {
        "id": "aDCAeqTOnb2s"
      },
      "outputs": [],
      "source": [
        "random.random()"
      ]
    },
    {
      "cell_type": "markdown",
      "metadata": {
        "id": "s51HnulVnb2s"
      },
      "source": [
        "<br>\n",
        "\n",
        "## Ohlášení knihoven\n",
        "\n",
        "---"
      ]
    },
    {
      "cell_type": "markdown",
      "metadata": {
        "id": "gYSALz6-nb2s"
      },
      "source": [
        "Jak můžu knihovny **používat**? *Použít* knihovnu znamená **nahrát ji**."
      ]
    },
    {
      "cell_type": "markdown",
      "metadata": {
        "id": "kwvkKvRznb2s"
      },
      "source": [
        "Nezapomeň na to, že pokud knihovnu nenahraješ, *interpret* netuší, kde ji má hledat:"
      ]
    },
    {
      "cell_type": "code",
      "execution_count": null,
      "metadata": {
        "id": "FOzJtiZCnb2s"
      },
      "outputs": [],
      "source": [
        "print(datetime.datetime.now())  # bez ohlášení knihovny"
      ]
    },
    {
      "cell_type": "markdown",
      "metadata": {
        "id": "fDrJsssLnb2s"
      },
      "source": [
        "Teprve po **ohlášení nahrátí knihovny** si uvědomí, kam se má podívat a pokusí se knihovnu dohledat:"
      ]
    },
    {
      "cell_type": "code",
      "execution_count": null,
      "metadata": {
        "id": "4bVv6OHgnb2t"
      },
      "outputs": [],
      "source": [
        "import datetime"
      ]
    },
    {
      "cell_type": "code",
      "execution_count": null,
      "metadata": {
        "id": "DS9IguCznb2t"
      },
      "outputs": [],
      "source": [
        "print(datetime.datetime.now())  # s ohlášením knihovny"
      ]
    },
    {
      "cell_type": "markdown",
      "metadata": {
        "id": "qLBlvWc2nb2t"
      },
      "source": [
        "Samotný způsob **nahrátí** (nebo také ohlášení) o nahrávání může mít několik podob:\n",
        "1. `import <knihovna>`,\n",
        "2. `from <knihovna> import *`,\n",
        "3. `from <knihovna> import <objekt>`,\n",
        "4. `from <knihovna> import <objekt> as <alias>`,\n",
        "5. `import <knihovna> as <alias>`."
      ]
    },
    {
      "cell_type": "markdown",
      "metadata": {
        "id": "LbVgVyqBnb2t"
      },
      "source": [
        "### Nahrávání s `import`\n",
        "\n",
        "----\n",
        "    \n",
        "Nejjednodušší a nejpoužívanější ohlášení pomocí klíčové výrazu:"
      ]
    },
    {
      "cell_type": "code",
      "execution_count": null,
      "metadata": {
        "id": "KYXTT-lHnb2t"
      },
      "outputs": [],
      "source": [
        "import math"
      ]
    },
    {
      "cell_type": "code",
      "execution_count": null,
      "metadata": {
        "id": "T7XEIWqxnb2t"
      },
      "outputs": [],
      "source": [
        "print(math.pi)"
      ]
    },
    {
      "cell_type": "markdown",
      "metadata": {
        "id": "694R0hDYnb2t"
      },
      "source": [
        "Použiješ klíčové slovo `import` a následně jméno knihovny `math`.\n",
        "\n",
        "Následně použiješ potřebný objekt (v ukázce konstantu `pi`).\n",
        "\n",
        "V případě, že chceš nahrát tvůj vlastní modul, zapiš **jméno souboru** bez přípony."
      ]
    },
    {
      "cell_type": "code",
      "execution_count": null,
      "metadata": {
        "id": "4qC_RlSFnb2u"
      },
      "outputs": [],
      "source": [
        "import math"
      ]
    },
    {
      "cell_type": "code",
      "execution_count": null,
      "metadata": {
        "scrolled": true,
        "id": "a0RZapyEnb2u"
      },
      "outputs": [],
      "source": [
        "print(math.pi)"
      ]
    },
    {
      "cell_type": "code",
      "source": [
        "del math"
      ],
      "metadata": {
        "id": "HtsXUikquJ0a"
      },
      "execution_count": null,
      "outputs": []
    },
    {
      "cell_type": "code",
      "source": [
        "print(math.pi)"
      ],
      "metadata": {
        "id": "tsb1Nci-uK6y"
      },
      "execution_count": null,
      "outputs": []
    },
    {
      "cell_type": "code",
      "execution_count": null,
      "metadata": {
        "id": "f5Jt3iyJnb2y"
      },
      "outputs": [],
      "source": [
        "import os"
      ]
    },
    {
      "cell_type": "code",
      "execution_count": null,
      "metadata": {
        "id": "xjvQxdL2nb2y"
      },
      "outputs": [],
      "source": [
        "print(os.getcwd())"
      ]
    },
    {
      "cell_type": "code",
      "execution_count": null,
      "metadata": {
        "id": "tWs7Ihudnb2z"
      },
      "outputs": [],
      "source": [
        "print(os.listdir())  # dostupné soubory"
      ]
    },
    {
      "cell_type": "markdown",
      "metadata": {
        "id": "VFYdA6N_nb21"
      },
      "source": [
        "##### Rekapitulace\n",
        "Ohlášení `import <knihovna>` je příhodné, pokud potřebuješ z jedné knihovny **použít více objektů** a současně mít pěkně přehled, ke které knihovně tyto objekty patří."
      ]
    },
    {
      "cell_type": "code",
      "source": [
        "# zkus https://docs.python.org/3/library/index.html najít nějakou zajímavou knihovnu\n",
        "# a pomocí \"import knihovna\" si ji zpřístupnit a ukázat/popsat kolegům, co dělá"
      ],
      "metadata": {
        "id": "9RWRZznJtjrq"
      },
      "execution_count": null,
      "outputs": []
    },
    {
      "cell_type": "markdown",
      "metadata": {
        "id": "MtFxvi-Znb21"
      },
      "source": [
        "### Nahrávání s `from` a hvězdičkou\n",
        "\n",
        "----\n",
        "\n",
        "Tento způsob nahrávání **není moc častý**.\n",
        "\n",
        "Použiješ jej zejména při práci s *interaktivním interpretem* a jednodušších zápisech či kratších ukázkách:"
      ]
    },
    {
      "cell_type": "code",
      "execution_count": null,
      "metadata": {
        "id": "J5NJijhunb21"
      },
      "outputs": [],
      "source": [
        "from sys import *"
      ]
    },
    {
      "cell_type": "code",
      "execution_count": null,
      "metadata": {
        "id": "0XUpKqhenb21"
      },
      "outputs": [],
      "source": [
        "from math import *"
      ]
    },
    {
      "cell_type": "code",
      "execution_count": null,
      "metadata": {
        "scrolled": true,
        "id": "AOw5gBGnnb22"
      },
      "outputs": [],
      "source": [
        "print(\n",
        "    e,            # odkud pochází proměnná 'e'? sys/math?\n",
        "    version,      # ... a odkud 'version'?\n",
        "    sep=\"\\n\"\n",
        ")"
      ]
    },
    {
      "cell_type": "code",
      "execution_count": null,
      "metadata": {
        "id": "y8gQnjSenb22"
      },
      "outputs": [],
      "source": [
        "# copy\n",
        "\"\"\"\n",
        "PI = 3.14\n",
        "E = 2.71\n",
        "MY_NUMBER = 42\n",
        "VERY_LONG_VARIABLE_WHICH_IS_NEEDED_ALMOST_EVERYWHERE = 11\n",
        "\"\"\"\n",
        "from ImportProject.constants import *"
      ]
    },
    {
      "cell_type": "code",
      "execution_count": null,
      "metadata": {
        "id": "BsszG5KLnb22"
      },
      "outputs": [],
      "source": [
        "PI"
      ]
    },
    {
      "cell_type": "code",
      "execution_count": null,
      "metadata": {
        "id": "VBjxTlx9nb23"
      },
      "outputs": [],
      "source": [
        "E"
      ]
    },
    {
      "cell_type": "code",
      "execution_count": null,
      "metadata": {
        "id": "9HHbovQhnb24"
      },
      "outputs": [],
      "source": [
        "MY_NUMBER"
      ]
    },
    {
      "cell_type": "code",
      "execution_count": null,
      "metadata": {
        "id": "LM0Rxd9Jnb25"
      },
      "outputs": [],
      "source": [
        "# copy\n",
        "\"\"\"\n",
        "PI = 3.1\n",
        "E = 3.0\n",
        "MY_NUMBER = 1\n",
        "\"\"\"\n",
        "from ImportProject.constants_2 import *"
      ]
    },
    {
      "cell_type": "code",
      "execution_count": null,
      "metadata": {
        "id": "HOsBTmHMnb25"
      },
      "outputs": [],
      "source": [
        "PI"
      ]
    },
    {
      "cell_type": "code",
      "execution_count": null,
      "metadata": {
        "id": "EDreQo41nb26"
      },
      "outputs": [],
      "source": [
        "E"
      ]
    },
    {
      "cell_type": "code",
      "execution_count": null,
      "metadata": {
        "id": "3ARBQpOWnb26"
      },
      "outputs": [],
      "source": [
        "MY_NUMBER"
      ]
    },
    {
      "cell_type": "code",
      "execution_count": null,
      "metadata": {
        "id": "z1QXwCaLnb26"
      },
      "outputs": [],
      "source": [
        "from ImportProject.constants import *\n",
        "from ImportProject.constants_2 import *"
      ]
    },
    {
      "cell_type": "code",
      "execution_count": null,
      "metadata": {
        "id": "fK3ZEZRDnb26"
      },
      "outputs": [],
      "source": [
        "MY_NUMBER"
      ]
    },
    {
      "cell_type": "code",
      "execution_count": null,
      "metadata": {
        "id": "PqFKapLenb27"
      },
      "outputs": [],
      "source": [
        "from ImportProject.constants_2 import *\n",
        "from ImportProject.constants import *"
      ]
    },
    {
      "cell_type": "code",
      "execution_count": null,
      "metadata": {
        "scrolled": true,
        "id": "a-qpsPEQnb27"
      },
      "outputs": [],
      "source": [
        "MY_NUMBER"
      ]
    },
    {
      "cell_type": "markdown",
      "metadata": {
        "id": "S-0iITcynb2_"
      },
      "source": [
        "Materiál navíc: https://docs.python.org/3/tutorial/modules.html#importing-from-a-package\n",
        "\n",
        "\n",
        "##### Rekapitulace\n",
        "\n",
        "Obecně se **tato varianta nahrávání nedoporučuje**, zejména kvůli svojí špatné přehlednosti a zanesení aktuálního prostředí spoustou nevyužitých objektů."
      ]
    },
    {
      "cell_type": "markdown",
      "metadata": {
        "id": "tVgWFNCfnb3A"
      },
      "source": [
        "### Nahrávání s `from` a jménem objektu\n",
        "\n",
        "----"
      ]
    },
    {
      "cell_type": "markdown",
      "metadata": {
        "id": "G5kGIf9tnb3A"
      },
      "source": [
        "Pokud potřebuješ použít třeba **jen jednu proměnnou** nebo objekt obecně, určitě oceníš právě toto ohlášení:"
      ]
    },
    {
      "cell_type": "code",
      "execution_count": null,
      "metadata": {
        "id": "KnKcw22fnb3A"
      },
      "outputs": [],
      "source": [
        "from math import cos # math.cos"
      ]
    },
    {
      "cell_type": "code",
      "execution_count": null,
      "metadata": {
        "id": "yXGhC7-Pnb3A"
      },
      "outputs": [],
      "source": [
        "# import math # math.e\n",
        "# from math import * # e !! importuje vsechno, nevim co se prepise\n",
        "from math import e # e"
      ]
    },
    {
      "cell_type": "code",
      "execution_count": null,
      "metadata": {
        "id": "9_czSgvvnb3B"
      },
      "outputs": [],
      "source": [
        "print(e)"
      ]
    },
    {
      "cell_type": "code",
      "execution_count": null,
      "metadata": {
        "id": "WVIhNnXnnb3B"
      },
      "outputs": [],
      "source": [
        "from ImportProject.constants import PI\n",
        "from ImportProject.constants_2 import E, MY_NUMBER"
      ]
    },
    {
      "cell_type": "code",
      "execution_count": null,
      "metadata": {
        "id": "SHObiZFxnb3B"
      },
      "outputs": [],
      "source": [
        "PI"
      ]
    },
    {
      "cell_type": "code",
      "execution_count": null,
      "metadata": {
        "id": "EmMbMmYLnb3B"
      },
      "outputs": [],
      "source": [
        "E"
      ]
    },
    {
      "cell_type": "code",
      "execution_count": null,
      "metadata": {
        "id": "emUpUCcInb3C"
      },
      "outputs": [],
      "source": [
        "MY_NUMBER"
      ]
    },
    {
      "cell_type": "markdown",
      "metadata": {
        "id": "Mpdlx3vHnb3C"
      },
      "source": [
        "Oproti variantě s hvězdičkou je rozdíl, že tento způsob napíšeš, pokud potřebuješ **jen velmi málo konkrétních objektů**.\n",
        "\n",
        "Současně musíš uvádět, jaký objekt, **odkud nahráváš**.\n",
        "\n",
        "Při tomto ohlašování vypadá zápis následovně:\n",
        "\n",
        "1. `from`, tedy klíčové slovo,\n",
        "2. `math`, jméno knihovny,\n",
        "3. `import`, klíčové slovo,\n",
        "4. `e`, jméno proměnné, funkce, aj."
      ]
    },
    {
      "cell_type": "markdown",
      "metadata": {
        "id": "4Y9rkb6Wnb3C"
      },
      "source": [
        "##### Rekapitulace\n",
        "\n",
        "Jde o způsobem, kdy potřebuješ třeba **jen jedinný objekt z knihovny**, a ten si explicitně ohlášením nahraješ."
      ]
    },
    {
      "cell_type": "markdown",
      "metadata": {
        "id": "PK5TfAqhnb3C"
      },
      "source": [
        "### Nahrávání s `from` bez hvězdičky a s aliasem\n",
        "\n",
        "----\n",
        "\n",
        "Pokud je **jméno nahrávaného objektu** příliš dlouhé (např. `EXTRA_DLOUHE_JMENO_KONSTANTY`), případně náročné pro zápis, potom může být přepisování takového jména nepohodlné.\n",
        "\n",
        "Pokud na takový objekt narazíš, můžeš vyzkoušet **alias**, který definuješ pomocí klíčového slova `as`:\n",
        "```python\n",
        "from <knihovna> import <EXTRA_DLOUHE_JMENO_KONSTANTY> as <alias>\n",
        "\n",
        "print(<alias>)\n",
        "```"
      ]
    },
    {
      "cell_type": "markdown",
      "metadata": {
        "id": "JZ2Zxclcnb3D"
      },
      "source": [
        "*Alias* pro kostantu `pi` není zrovna šikovný, ale jde hlavně o ukázku zápisu a použití:"
      ]
    },
    {
      "cell_type": "code",
      "execution_count": null,
      "metadata": {
        "id": "aTZk2LOlnb3D"
      },
      "outputs": [],
      "source": [
        "from string import punctuation as p  # obdoba: p = punctuation"
      ]
    },
    {
      "cell_type": "code",
      "execution_count": null,
      "metadata": {
        "id": "lPuMLV12nb3D"
      },
      "outputs": [],
      "source": [
        "print(p)"
      ]
    },
    {
      "cell_type": "code",
      "execution_count": null,
      "metadata": {
        "id": "ccBmPoCbnb3D"
      },
      "outputs": [],
      "source": [
        "from ImportProject.constants import PI\n",
        "from ImportProject.constants_2 import PI as NEW_PI"
      ]
    },
    {
      "cell_type": "code",
      "execution_count": null,
      "metadata": {
        "id": "qC-XGUl_nb3E"
      },
      "outputs": [],
      "source": [
        "PI"
      ]
    },
    {
      "cell_type": "code",
      "source": [
        "NEW_PI"
      ],
      "metadata": {
        "id": "eDIBkmWvy749"
      },
      "execution_count": null,
      "outputs": []
    },
    {
      "cell_type": "markdown",
      "metadata": {
        "id": "eu6LYYnynb3F"
      },
      "source": [
        "Samozřejmě u jména proměnné jako `pi` není potřeba zapisovat *alias* (jméno je stručné a jasné samo o sobě).\n",
        "\n",
        "S aliasy ale opět pozor. Pokud se jich v jednom souboru objeví víc (3+), potom se opět čtení zápisu stává **méně přehledné**.\n",
        "\n",
        "1. Nejprve uvidíš *alias* (v ukázce `p`),\n",
        "2. po té potřebuješ najít proměnnou (v ukázce `punctuation`), kterou **alias přebírá**,\n",
        "3. nakonec dohledat knihovnu (.. `string`), ze které pochází."
      ]
    },
    {
      "cell_type": "code",
      "execution_count": null,
      "metadata": {
        "id": "xzeImYwZnb3E"
      },
      "outputs": [],
      "source": [
        "from ImportProject.constants import VERY_LONG_VARIABLE_WHICH_IS_NEEDED_ALMOST_EVERYWHERE as MAGIC_VAR"
      ]
    },
    {
      "cell_type": "code",
      "execution_count": null,
      "metadata": {
        "id": "cvuNYUc6nb3E"
      },
      "outputs": [],
      "source": [
        "MAGIC_VAR"
      ]
    },
    {
      "cell_type": "markdown",
      "metadata": {
        "id": "o2okDOYEnb3G"
      },
      "source": [
        "##### Rekapitulace\n",
        "\n",
        "*Alias* je výhodný, pokud potkáš v knihovně objekt s dlouhým jménem."
      ]
    },
    {
      "cell_type": "markdown",
      "metadata": {
        "id": "ZsnHptw1nb3G"
      },
      "source": [
        "### Nahrávání s `import` a s aliasem\n",
        "\n",
        "----\n",
        "\n",
        "Stejně tak je možné použít alias pro delší jméno knihovny (např. `EXTRA_DLOUHE_JMENO_KNIHOVNY`).\n",
        "\n",
        "Teoreticky potom nastává tato situace:\n",
        "```python\n",
        "import <EXTRA_DLOUHE_JMENO_KNIHOVNY> as <alias>\n",
        "\n",
        "print(<EXTRA_DLOUHE_JMENO_KNIHOVNY>.objekt)\n",
        "```\n",
        "\n",
        "\n",
        "*Alias* pro knihovnu `configparser`:"
      ]
    },
    {
      "cell_type": "code",
      "execution_count": null,
      "metadata": {
        "id": "GE1QI-B_nb3G"
      },
      "outputs": [],
      "source": [
        "import configparser as cp  # obdoba: cp = configparser"
      ]
    },
    {
      "cell_type": "code",
      "execution_count": null,
      "metadata": {
        "id": "EXlfIt4jnb3H"
      },
      "outputs": [],
      "source": [
        "print(cp)"
      ]
    },
    {
      "cell_type": "markdown",
      "metadata": {
        "id": "y462mxWTnb3H"
      },
      "source": [
        "Pokud je jméno knihovny (třeba `math`) **dostatečně stručné a jasné**, nemusíš *alias* používat."
      ]
    },
    {
      "cell_type": "markdown",
      "metadata": {
        "id": "Haj0TJtMnb3H"
      },
      "source": [
        "##### Rekapitulace\n",
        "\n",
        "*Alias* je výhodný, pokud potkáš knihovnu s dlouhým jménem."
      ]
    },
    {
      "cell_type": "markdown",
      "metadata": {
        "id": "CPigXHFYnb3I"
      },
      "source": [
        "### Souhrn\n",
        "1. `import <knihovna>`,\n",
        "2. `from <knihovna> import *`,\n",
        "3. `from <knihovna> import <objekt>`,\n",
        "4. `from <knihovna> import <objekt> as <alias>`,\n",
        "5. `import <knihovna> as <alias>`."
      ]
    },
    {
      "cell_type": "markdown",
      "metadata": {
        "id": "r_jHIQuQnb3L"
      },
      "source": [
        "<img src=\"https://external-content.duckduckgo.com/iu/?u=https%3A%2F%2Ftse2.mm.bing.net%2Fth%3Fid%3DOIP.cjfmUt8xYHoEdmQWxT1fBgHaHa%26pid%3DApi&f=1\" width=\"200\">"
      ]
    },
    {
      "cell_type": "markdown",
      "metadata": {
        "id": "gcR8lS3tnb3L"
      },
      "source": [
        "### Obecné dělení\n",
        "Podle struktury knihovny:\n",
        "1. **Moduly**, tedy samotný soubor s příponou `.py`,\n",
        "2. **balíčky**, celý adresář, který může obsahovat několik modulů.\n",
        "\n",
        "Modul nebo balíček nazýváme knihovnou, pokud ho naimportujeme. Tj. modul, který naimportujeme je zároveň knihovnou a zároveň modulem."
      ]
    },
    {
      "cell_type": "markdown",
      "metadata": {
        "id": "M_yb4C02nb3M"
      },
      "source": [
        "## Moduly\n",
        "\n",
        "---"
      ]
    },
    {
      "cell_type": "markdown",
      "metadata": {
        "id": "FiZgbD3unb3M"
      },
      "source": [
        "Modulem je tedy jakýkoliv soubor s příponou `.py`, který napíšeš ty, nebo jiní programátoři.\n",
        "\n",
        "Už víme: ty **nejčastější moduly** jsou již součástí instalace Pythonu.\n",
        "\n",
        "Takže už v tento moment máš u sebe **nainstalovanou paletu těch nejpoužívanějších** (*zabudovaných* nebo také *built-in*) modulů:"
      ]
    },
    {
      "cell_type": "code",
      "execution_count": null,
      "metadata": {
        "id": "yg0nexHanb3M"
      },
      "outputs": [],
      "source": [
        "import os      # modul pro práci s operačním systémem\n",
        "import sys     # modul pro přístup k některým systémovým proměnným\n",
        "import random  # modul pro práci s pseudo-náhodnými procesy"
      ]
    },
    {
      "cell_type": "code",
      "execution_count": null,
      "metadata": {
        "id": "uXqAWME_nb3M"
      },
      "outputs": [],
      "source": [
        "print(\n",
        "    \"os\" in dir() \\\n",
        "    and \"sys\" in dir() \\\n",
        "    and \"random\" in dir()\n",
        ")"
      ]
    },
    {
      "cell_type": "markdown",
      "metadata": {
        "id": "lJCibE8vnb3N"
      },
      "source": [
        "Pomocí built-in funkce `dir` si můžeš ověřit, že po importování máš v aktuálním pracovním rámci nahráné moduly k dispozici (`True`), zatím co fiktivní muj_modul ne (`False`)."
      ]
    },
    {
      "cell_type": "markdown",
      "metadata": {
        "id": "fgy8N-XMnb3N"
      },
      "source": [
        "Pokud si vybereš **jméno modulu**, který **není součástí zabudovaných modulů** [pro tvoji verzi Pythonu](https://docs.python.org/3/library/index.html), dostaneš výjimku:"
      ]
    },
    {
      "cell_type": "markdown",
      "metadata": {
        "id": "_Ij_ZUf6nb3O"
      },
      "source": [
        "### Vlastní modul\n",
        "\n",
        "---\n",
        "\n",
        "V úvodu stojí, že si modul můžeš napsat **přímo ty**.\n",
        "\n",
        "Můžeš si vytvořit např. modul, který obsahuje `dict` s největšími městy v *České republice*.\n",
        "\n",
        "\n",
        "A nebo vlastní objekt, vytvořený na začátku."
      ]
    },
    {
      "cell_type": "markdown",
      "metadata": {
        "id": "7UTj28VJnb3O"
      },
      "source": [
        "Ten si uložíš k sobě do složky pod jménem `mesta.py`:\n",
        "```python\n",
        "# soubor mesta.py\n",
        "mesta_cr = {\n",
        "    \"Praha\": 1_335_084,\n",
        "    \"Brno\": 382_405,\n",
        "    \"Ostrava\": 284_982,\n",
        "    \"Plzeň\": 175_219,\n",
        "    \"Liberec\": 104_261,\n",
        "    \"Olomouc\": 100_514,\n",
        "    \"České Budějovice\": 94_229,\n",
        "    \"Hradec Králové\": 92_683,\n",
        "    \"Ústí nad Labem\": 91_982,\n",
        "    \"Pardubice\": 91_755,\n",
        "\n",
        "}\n",
        "```"
      ]
    },
    {
      "cell_type": "markdown",
      "metadata": {
        "id": "LBYXJDEAnb3P"
      },
      "source": [
        "Následné si vytvoříš **druhý soubor** (ve stejném adresáři) `nad_100_k.py`, který bude obsahovat:\n",
        "```python\n",
        "# soubor nad_100_k.py\n",
        "from mesta import mesta_cr\n",
        "\n",
        "for mesto, obyvatele in mesta_cr.items():\n",
        "    if obyvatele > 100_000:\n",
        "        print(mesto)\n",
        "```"
      ]
    },
    {
      "cell_type": "markdown",
      "metadata": {
        "id": "SbeFI1TVnb3P"
      },
      "source": [
        "### Nápověda `help`\n",
        "\n",
        "----\n",
        "\n",
        "Často se dostaneš do situace, kdy si **nebudeš vědět rady**.\n",
        "\n",
        "Nezapamatuješ si jméno *metody* v *knihovně*, jméno *proměnné*, atd.\n",
        "\n",
        "Můžeš samozřejmě navštívit různé dokumentace, knihy nebo články. Ale pokud potřebuješ okamžité offline řešení vyzkoušej funkci `help()`."
      ]
    },
    {
      "cell_type": "code",
      "execution_count": null,
      "metadata": {
        "id": "D7AZMFzanb3P"
      },
      "outputs": [],
      "source": [
        "import random"
      ]
    },
    {
      "cell_type": "code",
      "execution_count": null,
      "metadata": {
        "id": "R4zsU1sSnb3P"
      },
      "outputs": [],
      "source": [
        "help(random)"
      ]
    },
    {
      "cell_type": "code",
      "execution_count": null,
      "metadata": {
        "id": "7ZSAmOuRnb3Q"
      },
      "outputs": [],
      "source": [
        "help(random.randrange)"
      ]
    },
    {
      "cell_type": "markdown",
      "metadata": {
        "id": "p3EDOkzjnb3Q"
      },
      "source": [
        "### Metoda `dir`\n",
        "\n",
        "----\n",
        "\n",
        "Pokud potřebuješ podrobný výpis, je lepší použít funkci `help`.\n",
        "\n",
        "Pokud ti stačí jen seznam všech dostupných metod, vyzkoušej metodu `dir`."
      ]
    },
    {
      "cell_type": "code",
      "execution_count": null,
      "metadata": {
        "id": "Rf0QTLNYnb3Q"
      },
      "outputs": [],
      "source": [
        "print(dir())"
      ]
    },
    {
      "cell_type": "code",
      "execution_count": null,
      "metadata": {
        "id": "46QkmuYknb3Q"
      },
      "outputs": [],
      "source": [
        "print(dir(random))"
      ]
    },
    {
      "cell_type": "code",
      "execution_count": null,
      "metadata": {
        "id": "t5h5DKfjnb3R"
      },
      "outputs": [],
      "source": [
        "import os"
      ]
    },
    {
      "cell_type": "code",
      "execution_count": null,
      "metadata": {
        "id": "J-W81t4tnb3Z"
      },
      "outputs": [],
      "source": [
        "print(dir(os))"
      ]
    },
    {
      "cell_type": "markdown",
      "metadata": {
        "id": "blke7Jinnb3Z"
      },
      "source": [
        "<img src=\"https://external-content.duckduckgo.com/iu/?u=https%3A%2F%2Ftse1.mm.bing.net%2Fth%3Fid%3DOIP.Rq-hToMXLKlFsOOyPp_85QHaHa%26pid%3DApi&f=1\" width=\"200\">\n",
        "\n",
        "## Balíčky\n",
        "\n",
        "---"
      ]
    },
    {
      "cell_type": "markdown",
      "metadata": {
        "id": "4ikOCZ9Mnb3a"
      },
      "source": [
        "Pokud je **modul** samotný soubor s příponou **.py**, potom je **balík** v podstatě *sbírka několika modulů* (tedy souborů **.py**).\n",
        "\n",
        "\n",
        "Prohlédni si třeba obsah adresář (tedy balíček) `json`:\n",
        "```\n",
        "json/\n",
        "├── __init__.py\n",
        "├── __pycache__\n",
        "├── decoder.py\n",
        "├── encoder.py\n",
        "├── scanner.py\n",
        "└── tool.py\n",
        "```\n",
        "\n",
        "Kromě **modulů** (soubory s příponou **.py**) obsahují balíčky tyto **speciální soubory**:\n",
        "1. `__init__.py`,\n",
        "2. `__pycache__`.\n",
        "\n",
        "\n",
        "Proč je tedy dobré mít jak **moduly**, tak **balíčky**?\n",
        "\n",
        "Někdy je totiž ohlášení a výrazů, obecně objektů v jednom souboru tolik, že by se stal jeden soubor nepřehledný.\n",
        "\n",
        "Proto se programátoři snaží tyto objekty rozdělit.\n",
        "\n",
        "Rozdělují takové celky, které **k sobě logicky patří**, do několika modulů.\n",
        "\n",
        "Tyto moduly potom sdruží **do jednoho balíčku**."
      ]
    },
    {
      "cell_type": "code",
      "execution_count": null,
      "metadata": {
        "id": "02dwOU3tnb3a"
      },
      "outputs": [],
      "source": [
        "from json import decoder"
      ]
    },
    {
      "cell_type": "code",
      "execution_count": null,
      "metadata": {
        "id": "72Mh37v5nb3b"
      },
      "outputs": [],
      "source": [
        "import json"
      ]
    },
    {
      "cell_type": "code",
      "execution_count": null,
      "metadata": {
        "id": "zYu_DD4dnb3b"
      },
      "outputs": [],
      "source": [
        "json.loads('{ \"aa\": 1 , \"valid\": true }')"
      ]
    },
    {
      "cell_type": "markdown",
      "metadata": {
        "id": "Wsx0NlWwnb3b"
      },
      "source": [
        "#####  \\_\\_init\\_\\_.py\n",
        "\n",
        "Pokud nahlédneš do struktury balíčků, určitě si všimneš souboru `__init__.py`.\n",
        "\n",
        "`__init__.py` je v **regulárních** balíčkách. Může obsahovat kód, který se vykoná pokaždé pokud balíček budeme někde importovat. Tento soubor je možné vynechat a Python si s tím poradí (od verze 3.3, v PEP 420).\n",
        "\n",
        "https://docs.python.org/3/reference/import.html#regular-packages\n",
        "\n",
        "Celé oblast je více komplikovaná a nechám na zájemce zjistit více. [Diskuze na StackOverflow](https://stackoverflow.com/questions/21819649/namespace-vs-regular-package).\n",
        "\n",
        "Obecná rada je, že `__init__.py` by se měl vytvářet, dokud neni opodstatnění to nedělat (v začátkách určitě nebude).\n",
        "<br>"
      ]
    },
    {
      "cell_type": "markdown",
      "metadata": {
        "id": "W_U5SJ54nb3b"
      },
      "source": [
        "##### \\_\\_pycache\\_\\_\n",
        "\n",
        "Pokud spustíš libovolný soubor s příponou **.py**, potom jej *interpret* začne postupně *kompilovat* na *bytecode*.\n",
        "\n",
        "Z tohoto kroku vznikají soubory **.pyc**.\n",
        "\n",
        "Ty dále pomáhají (v případě, že nechybí) přeskočit krok *kompilace* příště a spouštět tvůj soubor rychleji.\n",
        "\n",
        "Pokud náhodou složka `__pycache__` v adresáři balíčku chybí, *interpret* si ji vytvoří na příště při prvním spuštění.\n",
        "\n",
        "* [Diskuze na StackOverflow](https://stackoverflow.com/questions/16869024/what-is-pycache)"
      ]
    },
    {
      "cell_type": "markdown",
      "metadata": {
        "id": "b9wddZSnnb3d"
      },
      "source": [
        "### Vlastní balíček (hands-on)\n",
        "\n",
        "----\n",
        "Stejně jako u *modulu*, můžeš samozřejmě vytvořit **vlastní balíček**.\n",
        "\n",
        "\n",
        "Pro ilustraci se podívej na tento balíček:\n",
        "```\n",
        "muj_balicek/\n",
        "├── __init__.py\n",
        "├── __pycache__\n",
        "├── adresy.py\n",
        "└── jmena.py\n",
        "```"
      ]
    },
    {
      "cell_type": "markdown",
      "metadata": {
        "id": "dNnV6oOSnb3d"
      },
      "source": [
        "1. Pro vytvoření takového *klasického* balíčku tedy neprve vytvoríš složku `muj_balicek`,\n",
        "2. přesuneš se dovnitř adresáře `muj_balicek` a v něm vytvoříš prázdný soubor `__init__.py`,\n",
        "3. dále vytvoříš soubor `adresy.py`,\n",
        "```python\n",
        "# adresy.py\n",
        "zamestnanci = {\n",
        "    11: {\"obec\": \"praha\", \"ulice\": \"milesovska\", \"c.p.\": \"11a\"},\n",
        "    12: {\"obec\": \"brno\", \"ulice\": \"podebradova\", \"c.p.\": \"123\"},\n",
        "    13: {\"obec\": \"olomouc\", \"ulice\": \"krizikova\", \"c.p.\": \"2a\"},\n",
        "    14: {\"obec\": \"plzen\", \"ulice\": \"stribneho\", \"c.p.\": \"301\"},\n",
        "}\n",
        "```\n",
        "4. nakonec vytvoříš soubor `jmena.py`,\n",
        "```python\n",
        "# jmena.py\n",
        "jmena = {\n",
        "    11: {\"jmeno\": \"Petr\", \"prijmeni\": \"Svetr\"},\n",
        "    12: {\"jmeno\": \"Matous\", \"ulice\": \"Svatous\"},\n",
        "    13: {\"jmeno\": \"Lukas\", \"ulice\": \"Gulas\"},\n",
        "    14: {\"jmeno\": \"Martin\", \"ulice\": \"Tecka\"},\n",
        "}\n",
        "```\n",
        "5. složku `__pycache__` tvořit nemusíš. Interpret si ji nachystá sám, až budeš potřebovat balíček spustit.\n",
        "\n",
        "Nyní si vytvoř nový modul `spojena_data.py`:\n",
        "```python\n",
        "# soubor spojena_data.py\n",
        "from muj_balicek.adresy import zamestnanci\n",
        "from muj_balicek.jmena import jmena\n",
        "\n",
        "print(bydliste[11], zamestnanci[11])\n",
        "```"
      ]
    },
    {
      "cell_type": "code",
      "source": [
        "# Modul lze spustit i primo z konzole\n",
        "if __name__ == \"__main__\":"
      ],
      "metadata": {
        "id": "1JR7YkHyNIjk"
      },
      "execution_count": null,
      "outputs": []
    },
    {
      "cell_type": "code",
      "execution_count": null,
      "metadata": {
        "id": "-ciTY9IOnb3d"
      },
      "outputs": [],
      "source": [
        "import os\n",
        "os.sys.path"
      ]
    },
    {
      "cell_type": "markdown",
      "metadata": {
        "id": "3hMjvG-Bnb3d"
      },
      "source": [
        "<img src=\"https://twixes.gallerycdn.vsassets.io/extensions/twixes/pypi-assistant/1.0.3/1589834023190/Microsoft.VisualStudio.Services.Icons.Default\" width=\"200\">\n",
        "\n",
        "## Knihovny třetích stran (ochutnávka z modulu 3 - jenom pro doplnění)\n",
        "\n",
        "---\n",
        "\n",
        "O tomto tématu se budete více bavic v modulu 3 - zde jenom pro doplnění kontextu - neni nutné procházet (je jenom pro zájemce)\n"
      ]
    },
    {
      "cell_type": "markdown",
      "metadata": {
        "id": "jNFLGV0Gnb3d"
      },
      "source": [
        "Podle **původu knihovny** můžeme říct, že máme **dva typy** knihoven:\n",
        "\n",
        "1. **Standartní knihovny** (tedy dostupné ihned po instalaci),\n",
        "2. **knihovny třetích stran** (je nutné je doinstalovat)."
      ]
    },
    {
      "cell_type": "code",
      "execution_count": null,
      "metadata": {
        "id": "_qvILlofnb3e"
      },
      "outputs": [],
      "source": [
        "import uuid\n",
        "import random\n",
        "import typing"
      ]
    },
    {
      "cell_type": "code",
      "execution_count": null,
      "metadata": {
        "id": "Oer5OJafnb3e"
      },
      "outputs": [],
      "source": [
        "import flask"
      ]
    },
    {
      "cell_type": "markdown",
      "metadata": {
        "id": "mOCsk5qcnb3e"
      },
      "source": [
        "Předtím než budeš moct tyto knihovny používat, je musíš vyhledat, stáhnout a nainstalovat.\n",
        "\n",
        "Většinu dostupných knihoven najdeš na [pypi.org](https://pypi.org/)\n",
        "\n",
        "Tady si knihovnu najdeš, pročteš a následně stáhneš (*ukázka terminal + PyCharm*)."
      ]
    },
    {
      "cell_type": "markdown",
      "metadata": {
        "id": "QWIQ-G4Mnb3e"
      },
      "source": [
        "#### Virtuální prostředí\n",
        "\n",
        "---\n",
        "\n",
        "Jakmile začneš s Python pracovat na více projektech, je dobré **oddělit jednotlivá prostředí**:\n",
        "```\n",
        "/projekty\n",
        "   ├─projekt01/\n",
        "   ├─projekt02/\n",
        "   ├─projekt03/\n",
        "   ├─pracovni/\n",
        "   └─pokus/\n",
        "```"
      ]
    },
    {
      "cell_type": "markdown",
      "metadata": {
        "id": "YQYRXj6Pnb3h"
      },
      "source": [
        "Každý projekt (složka v ukázce výše) může totiž pracovat **s různými knihovnami** (a různými verzemi).\n",
        "\n",
        "\n",
        "Různé knihovny znamenají různé související knihovny (a různé verze), drobné úpravy syntaxí, jména metoda a funkcí (příp. proměnných).\n",
        "\n",
        "\n",
        "Dobrým zvykem bývá **oddělit knihovny pro různé projekty**. Tedy neinstalovat knihovny globálně pro celý tvůj počítač,ale ke konkrétním projektům (pomocí *virtuálních prostředí*).\n",
        "\n",
        "<br>\n",
        "\n",
        "\n",
        "<img src=\"https://external-content.duckduckgo.com/iu/?u=https%3A%2F%2Fcdn0.iconfinder.com%2Fdata%2Ficons%2Fdevelopment-2%2F24%2Fterminal-512.png&f=1&nofb=1\" width=\"200\">"
      ]
    },
    {
      "cell_type": "markdown",
      "metadata": {
        "id": "tVIuaxOunb3h"
      },
      "source": [
        "### Příkazový řádek\n",
        "\n",
        "----\n",
        "\n",
        "1. **Vytvoříš** virtualní pracovní prostředí pomocí následující příkazu:\n",
        "```\n",
        "python3 -m venv <jmeno_prostredi>\n",
        "```"
      ]
    },
    {
      "cell_type": "markdown",
      "metadata": {
        "id": "Kl6dUxQgnb3h"
      },
      "source": [
        "2. **Aktivujeme** virtualní pracovní prostředí pomocí jeho jména. Po aktivaci dostaneme na začátku dotazovacího řádku závorku se jménem prostředí (př. `(env)`):\n",
        "```\n",
        "source <jmeno_prostredi>/bin/activate  # aktivace\n",
        "deactivate                             # ukončení\n",
        "```"
      ]
    },
    {
      "cell_type": "markdown",
      "metadata": {
        "id": "jXJD-a7snb3i"
      },
      "source": [
        "3. **Ověříme dostupnost správce** balíčků (conda, pipenv, poetry, pip je defaultně nainstalovaný ze druhé lekce):\n",
        "```\n",
        "pip --version\n",
        "```"
      ]
    },
    {
      "cell_type": "markdown",
      "metadata": {
        "id": "45Yp83V6nb3i"
      },
      "source": [
        "4. Pokud máme, **instalujeme balíčky**:\n",
        "```\n",
        "pip install <jmeno_balicku>         # instalace\n",
        "pip uninstall <jmeno_balicku>       # odstranění\n",
        "pip --help                          # nápověda\n",
        "```"
      ]
    },
    {
      "cell_type": "markdown",
      "metadata": {
        "id": "-E4Ac35snb3i"
      },
      "source": [
        "5. **Vytvoříme soubor** se souvisejícími knihovnami pro další uživatele `requirements.txt`. Ten obsahuje jména a verze knihoven, aby je mohli snadno nainstalovat i jiní uživatelé:\n",
        "```\n",
        "pip freeze > requirements.txt  # přesměruji výstup z příkazu do souboru\n",
        "```"
      ]
    },
    {
      "cell_type": "markdown",
      "metadata": {
        "id": "hWk1uabZnb3i"
      },
      "source": [
        "6. ... soubor `requirements.txt` lze potom naopak nainstalovat **do nového virtuálního prostředí**:\n",
        "```\n",
        "pip install -r requirements.txt\n",
        "```"
      ]
    },
    {
      "cell_type": "markdown",
      "metadata": {
        "id": "Y85Tp4Mwnb3i"
      },
      "source": [
        "Jak udržovat balíčky aktuální + kontrola:\n",
        "```\n",
        "pip list --outdated                          # zobrazím výpis všech neaktuálních knihoven\n",
        "pip install --upgrade <jmeno_knihovny>       # upgradování\n",
        "pip install <jmeno_knihovny>==<cislo_verze>  # alternativní řešení\n",
        "```"
      ]
    },
    {
      "cell_type": "markdown",
      "source": [
        "# Praktické doporučení\n",
        "\n",
        "* Vytvářejte virtuální prostředí\n",
        "* Poskytujte Vaše nainstalované knihovny ostatním\n",
        "* Seznamte te se s dalšími možnostmi - Poetry a Anaconda\n",
        "  * https://python-poetry.org/\n",
        "  * https://www.anaconda.com/\n"
      ],
      "metadata": {
        "id": "2Z3_D7hM-AMn"
      }
    },
    {
      "cell_type": "code",
      "source": [],
      "metadata": {
        "id": "RkHjZevk9-ff"
      },
      "execution_count": null,
      "outputs": []
    },
    {
      "cell_type": "markdown",
      "metadata": {
        "id": "Hw_mB7XBnb3i"
      },
      "source": [
        "<img src=\"https://external-content.duckduckgo.com/iu/?u=https%3A%2F%2Ftse1.mm.bing.net%2Fth%3Fid%3DOIP.p4NKEAqAdgFX_u8PwtI_nwHaHa%26pid%3DApi&f=1\" width=\"200\">\n",
        "\n",
        "\n",
        "\n",
        "#### PyCharm\n",
        "\n",
        "---\n",
        "\n",
        "1. Vytvoř si **nový adresář** (prázdný),\n",
        "2. otevři jej pomocí **PyCharm** (optiona Open...),\n",
        "3. vlož **nový modul** (klidně prázdný),\n",
        "4. přejdi do **settings** (ctrl+alt+s),\n",
        "5. *project interpreter*, *nastavení* ⚙, *vytvořit nové prostředí*,\n",
        "6. **přidat nové knihovny** (ikonka plus),\n",
        "7. *tools*, *sync Python requirements* (txt soubor s knihovnami a verzemi)."
      ]
    },
    {
      "cell_type": "markdown",
      "metadata": {
        "id": "vyVFUM1Knb3i"
      },
      "source": [
        "<br>\n",
        "\n",
        "<img src=\"https://external-content.duckduckgo.com/iu/?u=https%3A%2F%2Ftse3.mm.bing.net%2Fth%3Fid%3DOIP.XxURlbi8RZ3SMPoMRj91VwAAAA%26pid%3DApi&f=1\" width=\"200\">\n",
        "\n",
        "## Úkol\n",
        "\n",
        "---"
      ]
    },
    {
      "cell_type": "markdown",
      "metadata": {
        "id": "l5eLp63fnb3i"
      },
      "source": [
        "Nageneruj náhodná data **zaměstnanců**:"
      ]
    },
    {
      "cell_type": "code",
      "execution_count": null,
      "metadata": {
        "id": "_i8kTYWsnb3i"
      },
      "outputs": [],
      "source": [
        "# Ukázka pouze pro dva zaměstnance\n",
        "zamestnanci = {\n",
        "    \"zamestnanec_id\": (1, 2),\n",
        "    \"jmeno\": (\"Petr\", \"Matous\"),\n",
        "    \"prijmeni\": (\"Svetr\", \"Holinka\"),\n",
        "    \"telefon\": (\"+420 777 666 555\", \"+420 776 665 554\"),    # random\n",
        "#     \"email\": (\"p.svetr@firma.cz\", \"m.holinka@firma.cz\"),  # BONUS: unidecode\n",
        "    \"vytvoreno\": ('31/01/1996', '09/09/2000'),              # random, time\n",
        "    \"oddeleni\": (\"HR\", \"DEV\")                               # random\n",
        "}"
      ]
    },
    {
      "cell_type": "markdown",
      "metadata": {
        "id": "YP9bs_monb3i"
      },
      "source": [
        "Jak údaje získat:\n",
        "\n",
        "#### Zaměstnanecké ID\n",
        "\n",
        "---\n",
        "\n",
        "Do klíče `\"zamestnanec_id\"` vlož `tuple` s celými čísly jednotlivých zaměstnanců. Tedy první zaměstnanec dostane **1** a poslední **107**.\n",
        "\n",
        "\n",
        "*NÁPOVĚDA*, čísla zadej pomocí `range`."
      ]
    },
    {
      "cell_type": "markdown",
      "metadata": {
        "id": "zasiKZFpnb3i"
      },
      "source": [
        "#### Jméno zaměstnance\n",
        "\n",
        "---\n",
        "\n",
        "Do klíče `\"jmeno\"` vlož `tuple` s jednotlivými jmény, které naparsuješ (získáš) ze zadané proměnné `zamestnanci_raw`."
      ]
    },
    {
      "cell_type": "markdown",
      "metadata": {
        "id": "QupMGptgnb3i"
      },
      "source": [
        "#### Příjmení zaměstnance\n",
        "\n",
        "---\n",
        "\n",
        "Do klíče `\"prijmeni\"` vlož `tuple` s jednotlivými příjmeními, které naparsuješ (získáš) ze zadané proměnné `zamestnanci_raw`."
      ]
    },
    {
      "cell_type": "markdown",
      "metadata": {
        "id": "JlwCFuD4nb3j"
      },
      "source": [
        "#### Telefon zaměstnance\n",
        "\n",
        "---\n",
        "\n",
        "Do klíče `\"telefon\"` vlož `tuple` se stringy, které obsahují telefonní čísla.\n",
        "\n",
        "Tato čísla vytvoříš jako devět náhodných čísel, která připojíš ke stringu `\"+420\"`. Výsledek tedy bude vypadat jako `\"+420\"` a správně naformátované hodnoty `\"123345343\"`. Výsledek: `\"+420 123 345 343\"`.\n",
        "\n",
        "*NÁPOVĚDA*, čísla náhodně vyber z knihovny `random`."
      ]
    },
    {
      "cell_type": "markdown",
      "metadata": {
        "id": "cLXlisv8nb3j"
      },
      "source": [
        "#### Email zaměstnance\n",
        "\n",
        "---\n",
        "\n",
        "Do klíče `\"email\"` vlož `tuple` se stringy obsahující emailové adresy zaměstnanců.\n",
        "\n",
        "Tento email nachystej pomocí:\n",
        "1. Prvního písmena ze jména zaměstnance (malé písmeno),\n",
        "2. tečky,\n",
        "3. celého příjmení zapsaného malými písmeny,\n",
        "4. @firma.cz.\n",
        "\n",
        "##### BONUS\n",
        "Všechny údaje musí být bez diakritiky.\n",
        "\n",
        "Ukázka:\n",
        "```python\n",
        "jmeno = \"Kryštof\"\n",
        "prijmeni = \"Slunečný\"\n",
        "\n",
        "email = \"k.slunecny@firma.cz\"\n",
        "```\n",
        "\n",
        "\n",
        "*NÁPOVĚDA*, knihovna `unidecode`."
      ]
    },
    {
      "cell_type": "markdown",
      "metadata": {
        "id": "buRpvGA6nb3j"
      },
      "source": [
        "#### Datum nástupu zaměstnance\n",
        "\n",
        "---\n",
        "\n",
        "Do klíče `\"vytvoreno\"` vlož `tuple` se stringy obsahující náhodné datumy mezi daty **1.1.1990** a **1.1.2020**.\n",
        "\n",
        "Datumy nemusí být unikátní, ale musí být ve formátu `\"dd/mm/rrrr\"`\n",
        "\n",
        "*NÁPOVĚDA*, knihovna `time`.\n",
        "\n",
        "<br>"
      ]
    },
    {
      "cell_type": "code",
      "execution_count": null,
      "metadata": {
        "scrolled": true,
        "id": "7sxFcCWdnb3j"
      },
      "outputs": [],
      "source": [
        "zamestnanci_raw = \"\"\"\n",
        "Helena Vybíralová\n",
        "Wendy Štrumlová\n",
        "Marie Vybíralová\n",
        "Stanislav Bechyňka\n",
        "Zdeňka Urbánková\n",
        "Lukáš Riečan\n",
        "Veronika Koudelová\n",
        "Františka Vorlová\n",
        "Ilie Seleš\n",
        "Martin Železný\n",
        "Petra Niklesová\n",
        "Bohumil Skok\n",
        "Jakub Šmíd\n",
        "Jarmila Procházková\n",
        "Dagmar Hlavatá\n",
        "Jiří Nguyen Thanh\n",
        "Marie Franková\n",
        "Dana Ulrichová\n",
        "Jana Hranická\n",
        "Hana Budošová\n",
        "Ivan Široký\n",
        "Květoslava Jiráčková\n",
        "Pavel Przywara\n",
        "Josef Umlauf\n",
        "Tomáš Granzer\n",
        "Miroslav Kuba\n",
        "Miloslava Adámková\n",
        "Marie Karlíková\n",
        "Jaroslav Hronský\n",
        "Vlasta Karlíková\n",
        "Andrea Žatková\n",
        "Zuzana Lokočová\n",
        "Ondřej Ptáček\n",
        "Zdeněk Najman\n",
        "Tereza Šebešová\n",
        "Antonie Skokánková\n",
        "Jan Lion\n",
        "Václav Vecko\n",
        "František Vajgl\n",
        "Adéla Kavková\n",
        "Amália Vacková\n",
        "Anna Pažická\n",
        "Ivo Pustějovský\n",
        "Antonín Pavela\n",
        "Jitka Adamová\n",
        "Libuše Hamroziová\n",
        "Drahomíra Balzerová\n",
        "Marek Suchánek\n",
        "Petr Vavrinec\n",
        "Jonáš Stuchlý\n",
        "Jaromír Pecen\n",
        "Markéta Kyliánková\n",
        "Marina Pečenková\n",
        "Ivana Perdochová\n",
        "Michaela Drápalová\n",
        "Michael Mentlík\n",
        "Rudolf Špičák\n",
        "Žaneta Holá\n",
        "Blanka Lišková\n",
        "Eva Svatoňová\n",
        "Rostislav Hoang\n",
        "Martina Kalivodová\n",
        "Milan Hruška\n",
        "Zdenka Marková\n",
        "Lenka Schambergerová\n",
        "Růžena Martinů\n",
        "Věra Řezanková\n",
        "Marie Pečenková\n",
        "Miloš Váchal\n",
        "Jaroslava Hrubá\n",
        "Petr Pecen\n",
        "Pavla Konvicová\n",
        "Lucie Marešová\n",
        "Květuše Zdráhalová\n",
        "Vlastimila Svatošová\n",
        "Zora Michalčíková\n",
        "Daniel Švejnoha\n",
        "Klára Brunclíková\n",
        "Vladimír Bauer\n",
        "Michal Slaný\n",
        "Jiřina Novosadová\n",
        "Karel Sršeň\n",
        "Stanislava Lakosilová\n",
        "Filip Černý\n",
        "Alena Kubiková\n",
        "Sára Kotrlová\n",
        "Alois Rejlek\n",
        "Božena Novotná\n",
        "Maryana Nováková\n",
        "Kateřina Máslová\n",
        "Ladislav Dvořák\n",
        "Radek Varga\n",
        "Petr Dvořák\n",
        "Ludmila Jaklová\n",
        "Renáta Foubíková\n",
        "Nikola Lehká\n",
        "Dominika Riegerová\n",
        "Patrik Polák\n",
        "Soňa Štrbová\n",
        "David Matoušek\n",
        "Liubov Hollíková\n",
        "Monika Poláková\n",
        "Marie Jaklová\n",
        "Aleš Svoboda\n",
        "Roman Kolínský\n",
        "Karolína Košiková\n",
        "\"\"\""
      ]
    },
    {
      "cell_type": "markdown",
      "metadata": {
        "id": "5c_MQ06Wnb3j"
      },
      "source": [
        "---"
      ]
    },
    {
      "cell_type": "markdown",
      "source": [
        "# Možné řešení\n",
        "\n"
      ],
      "metadata": {
        "id": "XwOMNcIG0wfx"
      }
    },
    {
      "cell_type": "code",
      "source": [
        "import time\n",
        "from random import random\n",
        "from random import randint\n",
        "from random import choice\n",
        "from pprint import pprint\n",
        "\n",
        "# pip install unidecode\n",
        "# from unidecode import unidecode\n",
        "\n",
        "zamestnanci_raw = \"\"\"\n",
        "Helena Vybíralová\n",
        "Wendy Štrumlová\n",
        "Marie Vybíralová\n",
        "Stanislav Bechyňka\n",
        "Zdeňka Urbánková\n",
        "Lukáš Riečan\n",
        "Veronika Koudelová\n",
        "Františka Vorlová\n",
        "Ilie Seleš\n",
        "Martin Železný\n",
        "Petra Niklesová\n",
        "Bohumil Skok\n",
        "Jakub Šmíd\n",
        "Jarmila Procházková\n",
        "Dagmar Hlavatá\n",
        "Jiří Nguyen Thanh\n",
        "Marie Franková\n",
        "Dana Ulrichová\n",
        "Jana Hranická\n",
        "Hana Budošová\n",
        "Ivan Široký\n",
        "Květoslava Jiráčková\n",
        "Pavel Przywara\n",
        "Josef Umlauf\n",
        "Tomáš Granzer\n",
        "Miroslav Kuba\n",
        "Miloslava Adámková\n",
        "Marie Karlíková\n",
        "Jaroslav Hronský\n",
        "Vlasta Karlíková\n",
        "Andrea Žatková\n",
        "Zuzana Lokočová\n",
        "Ondřej Ptáček\n",
        "Zdeněk Najman\n",
        "Tereza Šebešová\n",
        "Antonie Skokánková\n",
        "Jan Lion\n",
        "Václav Vecko\n",
        "František Vajgl\n",
        "Adéla Kavková\n",
        "Amália Vacková\n",
        "Anna Pažická\n",
        "Ivo Pustějovský\n",
        "Antonín Pavela\n",
        "Jitka Adamová\n",
        "Libuše Hamroziová\n",
        "Drahomíra Balzerová\n",
        "Marek Suchánek\n",
        "Petr Vavrinec\n",
        "Jonáš Stuchlý\n",
        "Jaromír Pecen\n",
        "Markéta Kyliánková\n",
        "Marina Pečenková\n",
        "Ivana Perdochová\n",
        "Michaela Drápalová\n",
        "Michael Mentlík\n",
        "Rudolf Špičák\n",
        "Žaneta Holá\n",
        "Blanka Lišková\n",
        "Eva Svatoňová\n",
        "Rostislav Hoang\n",
        "Martina Kalivodová\n",
        "Milan Hruška\n",
        "Zdenka Marková\n",
        "Lenka Schambergerová\n",
        "Růžena Martinů\n",
        "Věra Řezanková\n",
        "Marie Pečenková\n",
        "Miloš Váchal\n",
        "Jaroslava Hrubá\n",
        "Petr Pecen\n",
        "Pavla Konvicová\n",
        "Lucie Marešová\n",
        "Květuše Zdráhalová\n",
        "Vlastimila Svatošová\n",
        "Zora Michalčíková\n",
        "Daniel Švejnoha\n",
        "Klára Brunclíková\n",
        "Vladimír Bauer\n",
        "Michal Slaný\n",
        "Jiřina Novosadová\n",
        "Karel Sršeň\n",
        "Stanislava Lakosilová\n",
        "Filip Černý\n",
        "Alena Kubiková\n",
        "Sára Kotrlová\n",
        "Alois Rejlek\n",
        "Božena Novotná\n",
        "Maryana Nováková\n",
        "Kateřina Máslová\n",
        "Ladislav Dvořák\n",
        "Radek Varga\n",
        "Petr Dvořák\n",
        "Ludmila Jaklová\n",
        "Renáta Foubíková\n",
        "Nikola Lehká\n",
        "Dominika Riegerová\n",
        "Patrik Polák\n",
        "Soňa Štrbová\n",
        "David Matoušek\n",
        "Liubov Hollíková\n",
        "Monika Poláková\n",
        "Marie Jaklová\n",
        "Aleš Svoboda\n",
        "Roman Kolínský\n",
        "Karolína Košiková\n",
        "\"\"\"\n",
        "oddeleni_raw  = \"sales, marketing, hr, development, it\"\n",
        "\n",
        "# Jména & příjmení\n",
        "vsechna_jmena = list()\n",
        "vsechna_prijmeni = list()\n",
        "\n",
        "for cele_jmeno in zamestnanci_raw.splitlines():\n",
        "    if cele_jmeno:\n",
        "        vsechna_jmena.append(cele_jmeno.split()[0])\n",
        "        vsechna_prijmeni.append(cele_jmeno.split()[1])\n",
        "\n",
        "# Telefonní čísla\n",
        "tel_cisla = list()\n",
        "\n",
        "for jmeno in set(vsechna_jmena):\n",
        "    cislo = \"\"\n",
        "\n",
        "    while len(cislo) != 9:\n",
        "        cislo += str(randint(0, 9))\n",
        "        formatovane_cislo = f\"+ 420 {cislo[:3]} {cislo[3:6]} {cislo[6:]}\"\n",
        "    else:\n",
        "        tel_cisla.append(formatovane_cislo)\n",
        "\n",
        "# Emailové adresy\n",
        "emailove_adresy = list()\n",
        "\n",
        "for jmeno, prijmeni in zip(set(vsechna_jmena), set(vsechna_prijmeni)):\n",
        "    if jmeno and prijmeni:\n",
        "        #emailove_adresy.append(unidecode(  # pip install unidecode\n",
        "        emailove_adresy.append(\n",
        "            f\"{jmeno[0].lower()}.{prijmeni.lower()}@firma.cz\"\n",
        "            )\n",
        "\n",
        "# Datum nástupu\n",
        "nastupni_datum = list()\n",
        "\n",
        "for jmeno in set(vsechna_jmena):\n",
        "    format_ = \"%d/%m/%Y\"\n",
        "    fstart = time.mktime(time.strptime(\"01/01/1990\", format_))\n",
        "    fend = time.mktime(time.strptime(\"01/01/2020\", format_))\n",
        "\n",
        "    prodleva = fstart + random()*(fend - fstart)\n",
        "\n",
        "    nastupni_datum.append(time.strftime(format_, time.localtime(prodleva)))\n",
        "\n",
        "# Slovník se zaměstnanci\n",
        "zamestnanci = {\n",
        "    \"zamestnanec_id\": tuple(range(1, len(set(vsechna_jmena)) + 1)),\n",
        "    \"jmeno\": tuple(vsechna_jmena),\n",
        "    \"prijmeni\": tuple(vsechna_prijmeni),\n",
        "    \"telefon\": tuple(tel_cisla),\n",
        "    \"email\": tuple(emailove_adresy),\n",
        "    \"vytvoreno\": tuple(nastupni_datum)\n",
        "}\n",
        "\n",
        "pprint(zamestnanci)\n"
      ],
      "metadata": {
        "id": "zLKy88Kl05vi"
      },
      "execution_count": null,
      "outputs": []
    },
    {
      "cell_type": "code",
      "source": [],
      "metadata": {
        "id": "UBLLxHa0065c"
      },
      "execution_count": null,
      "outputs": []
    }
  ],
  "metadata": {
    "kernelspec": {
      "display_name": "Python 3",
      "language": "python",
      "name": "python3"
    },
    "language_info": {
      "codemirror_mode": {
        "name": "ipython",
        "version": 3
      },
      "file_extension": ".py",
      "mimetype": "text/x-python",
      "name": "python",
      "nbconvert_exporter": "python",
      "pygments_lexer": "ipython3",
      "version": "3.8.6"
    },
    "colab": {
      "provenance": [],
      "collapsed_sections": [
        "XwOMNcIG0wfx"
      ]
    }
  },
  "nbformat": 4,
  "nbformat_minor": 0
}