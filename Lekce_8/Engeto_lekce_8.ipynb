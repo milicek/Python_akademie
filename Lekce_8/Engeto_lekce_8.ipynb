{
  "cells": [
    {
      "cell_type": "markdown",
      "metadata": {
        "id": "ez8pqhVtNkAO"
      },
      "source": [
        "<br>\n",
        "\n",
        "### Úkol\n",
        "\n",
        "---"
      ]
    },
    {
      "cell_type": "markdown",
      "metadata": {
        "id": "ac9zHieENkAO"
      },
      "source": [
        "Napiš funkci, která bude umět převádět označení typu bytu (**byt0001**, **byt0003**):\n",
        "```\n",
        "byt0001,55m2,Olomouc,ul.Heyrovského,\n",
        "byt0003,65m2,Olomouc,ul.Novosadský_dvůr,\n",
        "```"
      ]
    },
    {
      "cell_type": "code",
      "execution_count": null,
      "metadata": {
        "id": "qxMY6IPrNkAO"
      },
      "outputs": [],
      "source": [
        "vzor = {\n",
        "    \"byt0001\": \"1+1\",\n",
        "    \"byt0002\": \"2+1\",\n",
        "    \"byt0003\": \"2+kk\",\n",
        "    \"byt0004\": \"3+1\",\n",
        "    \"byt0005\": \"3+kk\",\n",
        "    \"byt0006\": \"4+1\",\n",
        "    \"byt0007\": \"4+kk\",\n",
        "}"
      ]
    },
    {
      "cell_type": "markdown",
      "metadata": {
        "id": "6eBdT4fYNkAO"
      },
      "source": [
        "Funkce musí umět extrahovat údaj a pak jej převést:\n",
        "```\n",
        "byt0001,55m2,Olomouc,ul.Heyrovského,\n",
        "byt0003,65m2,Olomouc,ul.Novosadský_dvůr,\n",
        "...\n",
        "```\n",
        "\n",
        "výstup bude vypadat jako:\n",
        "```\n",
        "1+1,55m2,Olomouc,ul.Heyrovského,\n",
        "2+kk,65m2,Olomouc,ul.Novosadský_dvůr,\n",
        "...\n",
        "```   "
      ]
    },
    {
      "cell_type": "code",
      "source": [
        "# Vícenásobné přiřazení hodnot"
      ],
      "metadata": {
        "id": "sVOgshSMh5Ze"
      },
      "execution_count": null,
      "outputs": []
    },
    {
      "cell_type": "code",
      "source": [],
      "metadata": {
        "id": "CVqflIMwbIsW"
      },
      "execution_count": null,
      "outputs": []
    },
    {
      "cell_type": "code",
      "source": [],
      "metadata": {
        "id": "pn1RyurwbIo2"
      },
      "execution_count": null,
      "outputs": []
    },
    {
      "cell_type": "code",
      "source": [],
      "metadata": {
        "id": "hEq9vhfgbIeJ"
      },
      "execution_count": null,
      "outputs": []
    },
    {
      "cell_type": "code",
      "source": [],
      "metadata": {
        "id": "9BMCENiObIaG"
      },
      "execution_count": null,
      "outputs": []
    },
    {
      "cell_type": "code",
      "source": [],
      "metadata": {
        "id": "Izwws-1GbIWG"
      },
      "execution_count": null,
      "outputs": []
    },
    {
      "cell_type": "code",
      "source": [],
      "metadata": {
        "id": "YMZ_q6igbINO"
      },
      "execution_count": null,
      "outputs": []
    },
    {
      "cell_type": "code",
      "source": [],
      "metadata": {
        "id": "XjRxtMRqbJ6C"
      },
      "execution_count": null,
      "outputs": []
    },
    {
      "cell_type": "markdown",
      "source": [
        "Vase mozne reseni>"
      ],
      "metadata": {
        "id": "IQPV2zBzbJWX"
      }
    },
    {
      "cell_type": "code",
      "source": [
        "apartment_address = {\n",
        "    \"byt0001\": \"35m2, Olomouc, ul. Slivova\",\n",
        "    \"byt0002\": \"37m2, Brno, ul. Merunkova\",\n",
        "    \"byt0003\": \"41m2, Praha, ul. Marmeladova\",\n",
        "    \"byt0004\": \"55m2, Liberec, ul. Jablkova\",\n",
        "    \"byt0005\": \"18m2, Kladno, ul. Hruskova\",\n",
        "    \"byt0006\": \"33m2, Pisek, ul. Oranzova\",\n",
        "    \"byt0007\": \"45m2, Cheb, ul. Houbova\",\n",
        "}\n",
        "apartment = {\n",
        "    \"byt0001\": \"1+1\",\n",
        "    \"byt0002\": \"2+1\",\n",
        "    \"byt0003\": \"2+kk\",\n",
        "    \"byt0004\": \"3+1\",\n",
        "    \"byt0005\": \"3+kk\",\n",
        "    \"byt0006\": \"4+1\",\n",
        "    \"byt0007\": \"4+kk\",\n",
        "}\n",
        "\n",
        "def convert_data_apartments(apart: dict, addr: dict) -> str:\n",
        "    '''\n",
        "    Convert the type of apartments.\n",
        "    Example:\n",
        "    input: \"byt0001\": \"35m2, Olomouc, ul. Slivova\"\n",
        "           \"byt0001\": \"1+1\"\n",
        "    output: \"1+1, 35m2, Olomouc, ul. Slivova\"\n",
        "    '''\n",
        "    convert = [f\"{apart.get(key_1)}, {addr.get(key_2)}\"\n",
        "                 for key_1 in apartment\n",
        "                 for key_2 in apartment_address\n",
        "                 if key_1 == key_2]\n",
        "    for address in convert:\n",
        "        print(address)\n",
        "\n",
        "convert_data_apartments(apartment, apartment_address)\n",
        "\n",
        "\n",
        "\n"
      ],
      "metadata": {
        "id": "f_lOddYhbGH8"
      },
      "execution_count": null,
      "outputs": []
    },
    {
      "cell_type": "markdown",
      "metadata": {
        "id": "JPqpYOXchiJL"
      },
      "source": [
        "<br>\n",
        "\n",
        "<img src=\"https://external-content.duckduckgo.com/iu/?u=https%3A%2F%2Ftse1.mm.bing.net%2Fth%3Fid%3DOIP.qpcc6K7Yys3TFhifE4tuywHaHa%26pid%3DApi&f=1&ipt=b330b6e19fba2fceb06c29cb1f32b58d348ccefa9c27b39dedc996951b8c0588&ipo=images\" width=\"220\">"
      ]
    },
    {
      "cell_type": "markdown",
      "metadata": {
        "id": "e8Xqu9Y2hiJM"
      },
      "source": [
        "## Vstupy funkcí\n",
        "\n",
        "---"
      ]
    },
    {
      "cell_type": "markdown",
      "metadata": {
        "id": "CoRa-r16hiJM"
      },
      "source": [
        "*Vstupem* pro uživatelskou funkci obecně můžeš rozumět:\n",
        "1. **Parametry**, sloužící jako obecné proměnné při definici,\n",
        "2. **argumenty**, tedy konkrétní hodnoty, které vkládáš při spouštění."
      ]
    },
    {
      "cell_type": "code",
      "execution_count": null,
      "metadata": {
        "id": "I9oDYDjGhiJM"
      },
      "outputs": [],
      "source": [
        "def foo(bar):\n",
        "    bar[0] = \"1\"\n",
        "    bar = bar / 2"
      ]
    },
    {
      "cell_type": "code",
      "execution_count": null,
      "metadata": {
        "id": "TSWYAlMZhiJM"
      },
      "outputs": [],
      "source": [
        "foo(\"argument\")"
      ]
    },
    {
      "cell_type": "markdown",
      "source": [
        "### Napovídání datových typů\n",
        "\n",
        "Python standardně nepodporuje anotace typu funkcí a proměnných za běhu.\n",
        "\n",
        "Přesto je možné tuto funkcionalitu využít **pomocí různých knihoven, nástrojů, checkerů nebo doplňků v IDE**.\n",
        "\n",
        "Od verze **Pythonu 3.5** je možné specifikovat datový typ pomocí nápovědy (~**type hints**)."
      ],
      "metadata": {
        "id": "skkU012ti6RP"
      }
    },
    {
      "cell_type": "markdown",
      "source": [
        "Opět nejde **o povinnou syntaxi**, ale zejména v kombinaci s tvorbou uživatelských funkcí:\n",
        "\n",
        "* Extrémně zvyšuje čitelnost a jasnost zápisu,\n",
        "* nenutí uživatele zbytečně odhadovat datové typy,\n",
        "* pomáhá (nejenom) ze začátku vyvarovat se množství chyb.\n",
        "\n"
      ],
      "metadata": {
        "id": "jHgcnWFvjJ5_"
      }
    },
    {
      "cell_type": "code",
      "source": [
        "def foo(bar: str) -> str:\n",
        "    bar[0] = \"1\"\n",
        "    bar = bar / 2\n",
        "    return \"\"\n",
        "\n",
        "# IDE demo\n",
        "# Visual Studio Code - https://stackoverflow.com/questions/76912588/type-hints-warnings-for-python-in-vscode"
      ],
      "metadata": {
        "id": "k46alilFjJgH"
      },
      "execution_count": null,
      "outputs": []
    },
    {
      "cell_type": "markdown",
      "metadata": {
        "id": "Lg7iEXAshiJN"
      },
      "source": [
        "<br>\n",
        "\n",
        "Vstupy do funkcí ale nemusíš vkládat pouze ve stejném pořadí.\n",
        "\n",
        "Existuje dokonce několik vzorů, které můžeš vyzkoušet."
      ]
    },
    {
      "cell_type": "markdown",
      "metadata": {
        "id": "StiRsJ-JhiJN"
      },
      "source": [
        "<br>\n",
        "\n",
        "Důvod je prostý, každá *uživatelská funkce* je trochu jiná.\n",
        "\n",
        "Proto existuje tento seznam různých vzorů:\n",
        "* **poziční parametry** (argumenty),\n",
        "* **klíčové argumenty**,\n",
        "* **defaultní parametry**,\n",
        "* **position-only** parametry,\n",
        "* **\\*args**,\n",
        "* **\\*\\*kwargs**."
      ]
    },
    {
      "cell_type": "markdown",
      "metadata": {
        "id": "VK46wSY0hiJN"
      },
      "source": [
        "### Poziční parametry\n",
        "\n",
        "---\n",
        "\n",
        "Ze jména je patrné, že v této variantě záleží na pozici (tedy pořadí), ve kterém parametry (i argumenty) zapíšeš:"
      ]
    },
    {
      "cell_type": "code",
      "execution_count": null,
      "metadata": {
        "id": "LYJk35H5hiJN"
      },
      "outputs": [],
      "source": [
        "def uloz_informace(jmeno, prijmeni, telefon):\n",
        "    return {\n",
        "        \"jmeno\": jmeno,\n",
        "        \"prijmeni\": prijmeni,\n",
        "        \"telefon\": telefon\n",
        "    }"
      ]
    },
    {
      "cell_type": "code",
      "execution_count": null,
      "metadata": {
        "id": "7dSAK3cXhiJN"
      },
      "outputs": [],
      "source": [
        "print(uloz_informace(\"Matouš\", \"Holinka\", \"+420 777 666 555\"))"
      ]
    },
    {
      "cell_type": "code",
      "execution_count": null,
      "metadata": {
        "id": "J5Hd5VRxhiJN"
      },
      "outputs": [],
      "source": [
        "print(uloz_informace(\"Holinka\", \"Matouš\", \"+420 777 666 555\"))"
      ]
    },
    {
      "cell_type": "code",
      "execution_count": null,
      "metadata": {
        "id": "JwqkVJj0hiJN"
      },
      "outputs": [],
      "source": [
        "def uloz_informace(x, y, z):\n",
        "    return {\n",
        "        \"jmeno\": x,\n",
        "        \"prijmeni\": y,\n",
        "        \"telefon\": y\n",
        "    }\n",
        "print(uloz_informace(\"Matouš\", \"Holinka\", \"+420 777 666 555\"))"
      ]
    },
    {
      "cell_type": "code",
      "execution_count": null,
      "metadata": {
        "id": "rJBjO9iMhiJN"
      },
      "outputs": [],
      "source": [
        "print(uloz_informace(\"Matouš\", \"Holinka\", \"+420 777 666 555\", \"Praha\"))"
      ]
    },
    {
      "cell_type": "code",
      "execution_count": null,
      "metadata": {
        "id": "K2nhR4BDhiJO"
      },
      "outputs": [],
      "source": [
        "print(uloz_informace(\"Matouš\", \"Holinka\"))"
      ]
    },
    {
      "cell_type": "markdown",
      "metadata": {
        "id": "t9GLoU0xhiJO"
      },
      "source": [
        "V ukázce vidíš, že parametry jsou uspořádané **za sebou**.\n",
        "\n",
        "Jednotlivé argumenty jsou potom zapsané **v odpovídajícím pořadí**:\n",
        "\n",
        "| Pozice | Parametr | Argument |\n",
        "| :-: | :-: | :-: |\n",
        "| 1 | jmeno | \"Matouš\" |\n",
        "| 2 | prijmeni | \"Holinka\" |\n",
        "| 3 | telefon | \"420 777 666 555\" |\n",
        "\n",
        "<br>\n",
        "\n",
        "Současně jde o jednu **z nejpoužívanějších a nejznámějších variant**.\n",
        "\n",
        "Takže pokud není komplikované pochopit, jaký *argument* patří do jakého *parametru*, budeš chtít zapsat vstupy touto formou."
      ]
    },
    {
      "cell_type": "code",
      "source": [
        "# priklad funkce\n",
        "\n",
        "# jak by jste ho zavolali"
      ],
      "metadata": {
        "id": "m9I325Twy1Ok"
      },
      "execution_count": null,
      "outputs": []
    },
    {
      "cell_type": "markdown",
      "metadata": {
        "id": "eUGPYgFLhiJO"
      },
      "source": [
        "### Klíčové argumenty\n",
        "\n",
        "---\n",
        "\n",
        "Zapisování *podle pozice* nemusí být ale vždy přehledné.\n",
        "\n",
        "Třeba pokud jsou všechny tři parametry **stejného datového typu** (`int`) a ještě jsou samotné **hodnoty podobné**:"
      ]
    },
    {
      "cell_type": "code",
      "execution_count": null,
      "metadata": {
        "id": "MN54ps9OhiJO"
      },
      "outputs": [],
      "source": [
        "def uloz_informace(jmeno, prijmeni, telefon):\n",
        "    return {\n",
        "        \"jmeno\": jmeno,\n",
        "        \"prijmeni\": prijmeni,\n",
        "        \"telefon\": telefon\n",
        "    }"
      ]
    },
    {
      "cell_type": "code",
      "execution_count": null,
      "metadata": {
        "id": "bp6SYtJyhiJO"
      },
      "outputs": [],
      "source": [
        "print(uloz_informace(\"Matouš\", \"Holinka\", \"+420 777 666 555\"))"
      ]
    },
    {
      "cell_type": "code",
      "execution_count": null,
      "metadata": {
        "id": "oE5e9LDohiJO"
      },
      "outputs": [],
      "source": [
        "print(uloz_informace(jmeno=\"Matouš\", prijmeni=\"Holinka\", telefon=\"+420 777 666 555\"))"
      ]
    },
    {
      "cell_type": "code",
      "execution_count": null,
      "metadata": {
        "id": "rJiVHlEVhiJO"
      },
      "outputs": [],
      "source": [
        "print(uloz_informace(jmeno=\"Matouš\", \"Holinka\", \"+420 777 666 555\"))"
      ]
    },
    {
      "cell_type": "code",
      "execution_count": null,
      "metadata": {
        "id": "d7gt2U6KhiJO"
      },
      "outputs": [],
      "source": [
        "print(uloz_informace(\"Matouš\", \"Holinka\", telefon=\"+420 777 666 555\"))"
      ]
    },
    {
      "cell_type": "code",
      "execution_count": null,
      "metadata": {
        "id": "iHpKc9JthiJP"
      },
      "outputs": [],
      "source": [
        "print(uloz_informace(prijmeni=\"Holinka\", jmeno=\"Matouš\" , telefon=\"+420 777 666 555\"))"
      ]
    },
    {
      "cell_type": "code",
      "execution_count": null,
      "metadata": {
        "id": "uBjehQVNhiJP"
      },
      "outputs": [],
      "source": [
        "def uloz_informace(x, y, z):\n",
        "    return {\n",
        "        \"jmeno\": x,\n",
        "        \"prijmeni\": y,\n",
        "        \"telefon\": z\n",
        "    }"
      ]
    },
    {
      "cell_type": "code",
      "execution_count": null,
      "metadata": {
        "id": "wGg86CznhiJP"
      },
      "outputs": [],
      "source": [
        "print(uloz_informace(x=\"Holinka\", y=\"Matouš\" , z=\"+420 777 666 555\"))"
      ]
    },
    {
      "cell_type": "code",
      "execution_count": null,
      "metadata": {
        "id": "Tw790P9ThiJP"
      },
      "outputs": [],
      "source": [
        "def vypocitej_hodnotu(koef_1, koef_2, koef_3):\n",
        "    \"\"\"\n",
        "    Vrať výslednou hodnotu vypočítanou pomocí tři zadaných koeficientů.\n",
        "    \"\"\"\n",
        "    return (1 / koef_1) * (koef_2 ** koef_3)"
      ]
    },
    {
      "cell_type": "code",
      "execution_count": null,
      "metadata": {
        "id": "YVoFdVKPhiJP"
      },
      "outputs": [],
      "source": [
        "print(vypocitej_hodnotu(1, 2, 4))"
      ]
    },
    {
      "cell_type": "code",
      "execution_count": null,
      "metadata": {
        "id": "5uiWJZIMhiJY"
      },
      "outputs": [],
      "source": []
    },
    {
      "cell_type": "markdown",
      "metadata": {
        "id": "8jYEe31fhiJY"
      },
      "source": [
        "V ukázce je definice funkce `vypocitej_hodnotu` s parametry, představující koeficienty rovnice.\n",
        "\n",
        "<br>\n",
        "\n",
        "Ve všech třech parametrech se počítá **s číselnou hodnotu**.\n",
        "\n",
        "Jejich umístění **ve vzorečku je zásadní**, jinak dostaneš odlišné výsledky.\n",
        "\n",
        "Právě v takovém případě je velice příhodné přiřadit jednotlivé hodnoty **explicitně k příslušným parametrům**:"
      ]
    },
    {
      "cell_type": "code",
      "execution_count": null,
      "metadata": {
        "id": "SsrQNWl_hiJY"
      },
      "outputs": [],
      "source": [
        "def vypocitej_hodnotu(koef_1, koef_2, koef_3):\n",
        "    \"\"\"\n",
        "    Vrať výslednou hodnotu vypočítanou pomocí tři zadaných koeficientů.\n",
        "    \"\"\"\n",
        "    return (1 / koef_1) * (koef_2 ** koef_3)"
      ]
    },
    {
      "cell_type": "code",
      "execution_count": null,
      "metadata": {
        "id": "kb1IWRC9hiJY"
      },
      "outputs": [],
      "source": [
        "print(vypocitej_hodnotu(koef_1=0.5, koef_2=3, koef_3=2))"
      ]
    },
    {
      "cell_type": "code",
      "execution_count": null,
      "metadata": {
        "id": "7SNZYRzEhiJY"
      },
      "outputs": [],
      "source": [
        "print(vypocitej_hodnotu(koef_2=3, koef_1=0.5, koef_3=2))"
      ]
    },
    {
      "cell_type": "markdown",
      "metadata": {
        "id": "BMYwl1EFhiJY"
      },
      "source": [
        "Nebo udělat spuštění funkce **ještě přehlednější** pomocí zápisu pod sebe:"
      ]
    },
    {
      "cell_type": "code",
      "execution_count": null,
      "metadata": {
        "id": "rF0aPBOFhiJY"
      },
      "outputs": [],
      "source": [
        "print(\n",
        "    vypocitej_hodnotu(\n",
        "        koef_1=0.5,\n",
        "        koef_2=3,\n",
        "        koef_3=2\n",
        "    )\n",
        ")"
      ]
    },
    {
      "cell_type": "markdown",
      "metadata": {
        "id": "ErZy4MAjhiJZ"
      },
      "source": [
        "Takže pokud budeš mít **větší množství parametrů**, nebo se v nich budeš ztrácet, určitě použij tuto variantu."
      ]
    },
    {
      "cell_type": "code",
      "execution_count": null,
      "metadata": {
        "id": "AkVy5BC_hiJZ"
      },
      "outputs": [],
      "source": [
        "# priklad funkce\n",
        "\n",
        "# jak by jste ho zavolali"
      ]
    },
    {
      "cell_type": "markdown",
      "metadata": {
        "id": "6W8OdTfYhiJZ"
      },
      "source": [
        "### Defaultní parametry\n",
        "\n",
        "---\n",
        "\n",
        "Někdy dojdeš k závěru, že *uživatelská funkce*, kterou tvoříš, potřebuje alespoň **jeden parametr**, který bude ve většině spouštění používat tutéž hodnotu.\n",
        "\n",
        "V takovém případě můžeš do předpisu zapsat *defaultní parametr*:"
      ]
    },
    {
      "cell_type": "code",
      "execution_count": null,
      "metadata": {
        "id": "cH_PLtLnhiJZ"
      },
      "outputs": [],
      "source": [
        "def uloz_informace(jmeno, prijmeni, telefon, predvolba):\n",
        "    return {\n",
        "        \"jmeno\": jmeno,\n",
        "        \"prijmeni\": prijmeni,\n",
        "        \"telefon\": telefon,\n",
        "        \"predvolba\": predvolba\n",
        "    }"
      ]
    },
    {
      "cell_type": "code",
      "execution_count": null,
      "metadata": {
        "id": "TkzufER4hiJZ"
      },
      "outputs": [],
      "source": [
        "print(uloz_informace(jmeno=\"Matouš1\", prijmeni=\"Holinka1\", telefon=\"777 666 551\", predvolba=\"+420\"))\n",
        "print(uloz_informace(jmeno=\"Matouš2\", prijmeni=\"Holinka2\", telefon=\"777 666 552\", predvolba=\"+420\"))\n",
        "print(uloz_informace(jmeno=\"Matouš3\", prijmeni=\"Holinka3\", telefon=\"777 666 553\", predvolba=\"+420\"))\n",
        "print(uloz_informace(jmeno=\"Matouš4\", prijmeni=\"Holinka4\", telefon=\"777 666 554\", predvolba=\"+420\"))\n",
        "print(uloz_informace(jmeno=\"Matouš5\", prijmeni=\"Holinka5\", telefon=\"777 666 555\", predvolba=\"+420\"))\n",
        "print(uloz_informace(jmeno=\"Matouš6\", prijmeni=\"Holinka6\", telefon=\"777 666 556\", predvolba=\"+420\"))\n"
      ]
    },
    {
      "cell_type": "code",
      "execution_count": null,
      "metadata": {
        "id": "9DMVguerhiJZ"
      },
      "outputs": [],
      "source": [
        "def uloz_informace(jmeno, prijmeni, telefon, predvolba=\"+420\"):\n",
        "    return {\n",
        "        \"jmeno\": jmeno,\n",
        "        \"prijmeni\": prijmeni,\n",
        "        \"telefon\": telefon,\n",
        "        \"predvolba\": predvolba\n",
        "    }\n",
        "\n"
      ]
    },
    {
      "cell_type": "code",
      "execution_count": null,
      "metadata": {
        "id": "rIBTFymBhiJZ"
      },
      "outputs": [],
      "source": [
        "print(uloz_informace(jmeno=\"Matouš1\", prijmeni=\"Holinka1\", telefon=\"777 666 551\"))\n",
        "print(uloz_informace(jmeno=\"Matouš2\", prijmeni=\"Holinka2\", telefon=\"777 666 552\"))\n",
        "print(uloz_informace(jmeno=\"Matouš3\", prijmeni=\"Holinka3\", telefon=\"777 666 553\"))\n",
        "print(uloz_informace(jmeno=\"Matouš4\", prijmeni=\"Holinka4\", telefon=\"777 666 554\"))\n",
        "print(uloz_informace(jmeno=\"Matouš5\", prijmeni=\"Holinka5\", telefon=\"777 666 555\"))\n",
        "print(uloz_informace(jmeno=\"Matouš6\", prijmeni=\"Holinka6\", telefon=\"777 666 556\"))"
      ]
    },
    {
      "cell_type": "code",
      "execution_count": null,
      "metadata": {
        "id": "2j6s0-Y3hiJZ"
      },
      "outputs": [],
      "source": [
        "print(uloz_informace(jmeno=\"Helmut\", prijmeni=\"Holinka1\", telefon=\"111 222 333\", predvolba=\"+491\"))"
      ]
    },
    {
      "cell_type": "code",
      "execution_count": null,
      "metadata": {
        "id": "e4yHNXN2hiJa"
      },
      "outputs": [],
      "source": [
        "print(uloz_informace(\"Helmut\", \"Holinka1\", \"111 222 333\", \"+491\"))"
      ]
    },
    {
      "cell_type": "code",
      "execution_count": null,
      "metadata": {
        "id": "mC5Zft4LhiJa"
      },
      "outputs": [],
      "source": [
        "from urllib.parse import urljoin"
      ]
    },
    {
      "cell_type": "code",
      "execution_count": null,
      "metadata": {
        "id": "6_xmRFVxhiJa"
      },
      "outputs": [],
      "source": [
        "def vytvor_adresu(cesta, host):\n",
        "    return urljoin(host, cesta)"
      ]
    },
    {
      "cell_type": "code",
      "execution_count": null,
      "metadata": {
        "id": "rrfnDBoEhiJa"
      },
      "outputs": [],
      "source": [
        "print(vytvor_adresu(\"rankings\", host=\"https://www.brickranker.com\"))"
      ]
    },
    {
      "cell_type": "markdown",
      "metadata": {
        "id": "fjMhtyU_hiJa"
      },
      "source": [
        "Při spuštění funkce `vytvor_pozdrav` není přítomen **žádný druhý argument** a funkci lze přesto spustit."
      ]
    },
    {
      "cell_type": "code",
      "execution_count": null,
      "metadata": {
        "id": "RvXGO0oKhiJa"
      },
      "outputs": [],
      "source": [
        "print(vytvor_adresu(\"news\", \"https://www.brickranker.com\"))"
      ]
    },
    {
      "cell_type": "code",
      "execution_count": null,
      "metadata": {
        "id": "wWm2OpbXhiJa"
      },
      "outputs": [],
      "source": [
        "def vytvor_adresu(cesta, host=\"https://www.brickranker.com\"):\n",
        "    return urljoin(host, cesta)\n",
        "print(vytvor_adresu(\"rankings\"))\n",
        "print(vytvor_adresu(\"news\"))"
      ]
    },
    {
      "cell_type": "markdown",
      "metadata": {
        "id": "Xs3COroIhiJb"
      },
      "source": [
        "Takže pokud **nevložíš žádný argument**, bude funkce `vytvor_pozdrav` automaticky pracovat se stringem `\"https://www.brickranker.com\"`.\n",
        "\n",
        "Pokud se však rozhodneš, že tebou zadaný **defaultní parametr** bude potřeba upravit, můžeš jej snadno přepsat jinou hodnotou:"
      ]
    },
    {
      "cell_type": "code",
      "execution_count": null,
      "metadata": {
        "id": "S4tkYLCzhiJb"
      },
      "outputs": [],
      "source": [
        "print(vytvor_adresu(\"prehled-kurzu\", \"https://engeto.cz\"))"
      ]
    },
    {
      "cell_type": "code",
      "execution_count": null,
      "metadata": {
        "id": "Pv-hWFi3hiJb"
      },
      "outputs": [],
      "source": [
        "print(vytvor_adresu(\"kontakt\", \"https://engeto.cz\"))"
      ]
    },
    {
      "cell_type": "markdown",
      "metadata": {
        "id": "Xz0oRMMZhiJb"
      },
      "source": [
        "*Defaultní parametry* je potřeba zadávat **až po pozičních parametrech**:"
      ]
    },
    {
      "cell_type": "code",
      "execution_count": null,
      "metadata": {
        "scrolled": true,
        "id": "f0J6dFTbhiJb"
      },
      "outputs": [],
      "source": [
        "def vytvor_adresu_2(base_url=\"https://www.brickranker.com\", url_path):\n",
        "    return urljoin(base_url, url_path)"
      ]
    },
    {
      "cell_type": "code",
      "execution_count": null,
      "metadata": {
        "id": "iKGop_XChiJb"
      },
      "outputs": [],
      "source": [
        "vytvor_adresu_2(\"kontakt\") # neni jasne jeslti prepisujete defaultni parametr a nebo pouzivat pozicni"
      ]
    },
    {
      "cell_type": "code",
      "execution_count": null,
      "metadata": {
        "id": "4BXP6cg5hiJb"
      },
      "outputs": [],
      "source": [
        "def vytvor_adresu_3(base_url=\"https://www.brickranker.com\", url_path=\"ratings\"):\n",
        "    return urljoin(base_url, url_path)"
      ]
    },
    {
      "cell_type": "code",
      "execution_count": null,
      "metadata": {
        "id": "7Cs9bJTohiJb"
      },
      "outputs": [],
      "source": [
        "vytvor_adresu_3()"
      ]
    },
    {
      "cell_type": "code",
      "execution_count": null,
      "metadata": {
        "id": "7_6OJOL2hiJc"
      },
      "outputs": [],
      "source": [
        "# priklad funkce\n",
        "\n",
        "# jak by jste ho zavolali"
      ]
    },
    {
      "cell_type": "code",
      "execution_count": null,
      "metadata": {
        "id": "0u6SqNgdhiJc"
      },
      "outputs": [],
      "source": []
    },
    {
      "cell_type": "markdown",
      "metadata": {
        "id": "9ZSxe-kChiJc"
      },
      "source": [
        "### Jen poziční parametry\n",
        "\n",
        "---\n",
        "\n",
        "Od verze **Pythonu 3.8** je dostupná tato nová varianta pro zápis parametrů u *uživatelských funkcí*:"
      ]
    },
    {
      "cell_type": "code",
      "execution_count": null,
      "metadata": {
        "id": "5SAfwgLphiJc"
      },
      "outputs": [],
      "source": [
        "def vypis_pozdrav(jmeno, /, je_uzivatel):\n",
        "    if je_uzivatel:\n",
        "        print(\"Ahoj,\", jmeno)\n",
        "    else:\n",
        "        print(\"Nejsi uživatel!\")"
      ]
    },
    {
      "cell_type": "code",
      "execution_count": null,
      "metadata": {
        "id": "jXppjLo7hiJc"
      },
      "outputs": [],
      "source": [
        "vypis_pozdrav(\"Matouš\", je_uzivatel=True)"
      ]
    },
    {
      "cell_type": "code",
      "execution_count": null,
      "metadata": {
        "id": "Zzi09BGahiJc"
      },
      "outputs": [],
      "source": [
        "vypis_pozdrav(\"Matouš\", True)"
      ]
    },
    {
      "cell_type": "markdown",
      "metadata": {
        "id": "LCD9o4DahiJc"
      },
      "source": [
        "Účelem tohoto typu **zápisu argmentů** je **vynutit od uživatele** zápis všech parametrů nalevo od lomítka `/` jako poziční argumentů:"
      ]
    },
    {
      "cell_type": "code",
      "execution_count": null,
      "metadata": {
        "id": "RQbFXfXthiJc"
      },
      "outputs": [],
      "source": [
        "vypis_pozdrav(jmeno=\"Matouš\", je_uzivatel=True)"
      ]
    },
    {
      "cell_type": "markdown",
      "metadata": {
        "id": "E41c62N9hiJe"
      },
      "source": [
        "Zatím co parametry napravo od lomítka můžeš:\n",
        "* zapsat jako **poziční**,\n",
        "* zapsat jako **klíčové**.\n",
        "\n",
        "Kde se s tímto zápisem můžeš setkat:"
      ]
    },
    {
      "cell_type": "code",
      "execution_count": null,
      "metadata": {
        "id": "b5BNPklNhiJf"
      },
      "outputs": [],
      "source": [
        "# https://docs.python.org/3/library/functions.html#float\n",
        "# help(float)"
      ]
    },
    {
      "cell_type": "code",
      "execution_count": null,
      "metadata": {
        "id": "GZIIpdmShiJf"
      },
      "outputs": [],
      "source": [
        "float(x=\"3.141\")"
      ]
    },
    {
      "cell_type": "code",
      "execution_count": null,
      "metadata": {
        "id": "xttBxaFThiJf"
      },
      "outputs": [],
      "source": [
        "float(\"3.141\")"
      ]
    },
    {
      "cell_type": "markdown",
      "metadata": {
        "id": "En1vm0UqhiJf"
      },
      "source": [
        "Vzhledem k tomu, že je to novější varianta **není tolik běžná**.\n",
        "\n",
        "Spatřit ji můžeš tehdy, pokud chce programátor ostatní uživatele jeho uživatelských funkcí omezit při používání **klíčových argumentů**."
      ]
    },
    {
      "cell_type": "code",
      "source": [
        "# priklad funkce\n",
        "\n",
        "# jak by jste ho zavolali"
      ],
      "metadata": {
        "id": "v0pmc1j5y8VN"
      },
      "execution_count": null,
      "outputs": []
    },
    {
      "cell_type": "markdown",
      "source": [
        "## Jen klíčové parametry\n",
        "\n",
        "* https://peps.python.org/pep-3102/\n",
        "\n",
        "Pokud nechci aby bylo možné používat jiné než klíčové parametry?"
      ],
      "metadata": {
        "id": "tm9832IgmlZr"
      }
    },
    {
      "cell_type": "code",
      "source": [
        "def vypis_pozdrav(jmeno, *, je_uzivatel):\n",
        "    if je_uzivatel:\n",
        "        print(\"Ahoj,\", jmeno)\n",
        "    else:\n",
        "        print(\"Nejsi uživatel!\")"
      ],
      "metadata": {
        "id": "U7tEVT9lnMfS"
      },
      "execution_count": null,
      "outputs": []
    },
    {
      "cell_type": "code",
      "source": [
        "vypis_pozdrav(\"Matouš\", je_uzivatel=True)"
      ],
      "metadata": {
        "id": "yCrXAa8jnUUr"
      },
      "execution_count": null,
      "outputs": []
    },
    {
      "cell_type": "code",
      "source": [
        "vypis_pozdrav(\"Matouš\", True)"
      ],
      "metadata": {
        "id": "wgz6sfgdnVJc"
      },
      "execution_count": null,
      "outputs": []
    },
    {
      "cell_type": "code",
      "source": [
        "vypis_pozdrav(jmeno=\"Matouš\", je_uzivatel=True)"
      ],
      "metadata": {
        "id": "tWMJSWCZnbxM"
      },
      "execution_count": null,
      "outputs": []
    },
    {
      "cell_type": "markdown",
      "source": [
        "Proč bych to ale chtěl?"
      ],
      "metadata": {
        "id": "RQzItx4QnJBM"
      }
    },
    {
      "cell_type": "code",
      "source": [
        "def vypis_pozdrav(jmeno, / , *, je_uzivatel):\n",
        "    if je_uzivatel:\n",
        "        print(\"Ahoj,\", jmeno)\n",
        "    else:\n",
        "        print(\"Nejsi uživatel!\")"
      ],
      "metadata": {
        "id": "9U1mgBwcne6M"
      },
      "execution_count": null,
      "outputs": []
    },
    {
      "cell_type": "code",
      "source": [
        "vypis_pozdrav(\"Matouš\", je_uzivatel=True)"
      ],
      "metadata": {
        "id": "_v0OfyuLnmB0"
      },
      "execution_count": null,
      "outputs": []
    },
    {
      "cell_type": "markdown",
      "source": [
        "Spíše kvůli něčemu jinému ..."
      ],
      "metadata": {
        "id": "TYi-omDDnsm8"
      }
    },
    {
      "cell_type": "code",
      "source": [
        "# priklad funkce\n",
        "\n",
        "# jak by jste ho zavolali"
      ],
      "metadata": {
        "id": "EcBYN0fgy9BM"
      },
      "execution_count": null,
      "outputs": []
    },
    {
      "cell_type": "markdown",
      "metadata": {
        "id": "Wt23jEaJhiJf"
      },
      "source": [
        "### *args\n",
        "\n",
        "---\n",
        "\n",
        "Pokud znáš jiné programovací jazyky (jako C nebo C++), možná v tobě znak `*` připomene tzv. *pointery*:\n",
        "```c\n",
        "int *pointer_c, c;\n",
        "c = 11;\n",
        "pointer_c = &c;\n",
        "\n",
        "printf(\"Hodnota pointer_c: %d\\n\", c);    // 'Hodnota pointer_c: 11'\n",
        "printf(\"Hodnota c: %d\\n\\n\", *pointer_c); // 'Hodnota c: 11'\n",
        "```\n",
        "\n",
        "Nicméně Python tuto funcionalitu **nepodporuje**.\n",
        "\n",
        "<br>\n",
        "\n",
        "Naopak pomáhá v rámci parametrů oznámit interpretu, že funkce umí pracovat **s různým množstvím argumentů**:"
      ]
    },
    {
      "cell_type": "code",
      "execution_count": null,
      "metadata": {
        "id": "Cu1C7HWohiJf"
      },
      "outputs": [],
      "source": [
        "def vypocitej_prumer(args):\n",
        "    return sum(args) / len(args)"
      ]
    },
    {
      "cell_type": "code",
      "execution_count": null,
      "metadata": {
        "id": "3UanibfEhiJf"
      },
      "outputs": [],
      "source": [
        "print(vypocitej_prumer(1, 2, 3, 4, 5))"
      ]
    },
    {
      "cell_type": "code",
      "execution_count": null,
      "metadata": {
        "id": "5BZwCNA1hiJf"
      },
      "outputs": [],
      "source": [
        "print(vypocitej_prumer([1, 2, 3, 4, 5]))"
      ]
    },
    {
      "cell_type": "code",
      "execution_count": null,
      "metadata": {
        "id": "FVN3x8GDhiJf"
      },
      "outputs": [],
      "source": [
        "print(vypocitej_prumer(1))"
      ]
    },
    {
      "cell_type": "code",
      "execution_count": null,
      "metadata": {
        "id": "OexMPbJfhiJg"
      },
      "outputs": [],
      "source": [
        "print(vypocitej_prumer([1]))"
      ]
    },
    {
      "cell_type": "code",
      "execution_count": null,
      "metadata": {
        "id": "ovUA15ORhiJg"
      },
      "outputs": [],
      "source": [
        "def vypocitej_prumer(args):\n",
        "    if type(args) != list:\n",
        "        args = [args]\n",
        "    return sum(args) / len(args)"
      ]
    },
    {
      "cell_type": "code",
      "execution_count": null,
      "metadata": {
        "id": "n_az06m_hiJg"
      },
      "outputs": [],
      "source": [
        "print(vypocitej_prumer(1))"
      ]
    },
    {
      "cell_type": "code",
      "execution_count": null,
      "metadata": {
        "id": "w0ng3tjWhiJg"
      },
      "outputs": [],
      "source": [
        "def vypocitej_prumer(*args):\n",
        "    return sum(args) / len(args)"
      ]
    },
    {
      "cell_type": "markdown",
      "metadata": {
        "id": "P_1idD4EhiJg"
      },
      "source": [
        "Zásadní je právě přítomnost `*`. Ta sbalí hodnoty do sekvence:"
      ]
    },
    {
      "cell_type": "code",
      "execution_count": null,
      "metadata": {
        "id": "tQxV6uHPhiJg"
      },
      "outputs": [],
      "source": [
        "print(vypocitej_prumer(1, 2, 3, 4, 5))"
      ]
    },
    {
      "cell_type": "code",
      "execution_count": null,
      "metadata": {
        "id": "VzpW5oWAhiJh"
      },
      "outputs": [],
      "source": [
        "print(vypocitej_prumer(1))"
      ]
    },
    {
      "cell_type": "code",
      "execution_count": null,
      "metadata": {
        "id": "v0XfvEWmhiJh"
      },
      "outputs": [],
      "source": [
        "def vypocitej_prumer(*args):\n",
        "    print(type(args))\n",
        "    return sum(args) / len(args)"
      ]
    },
    {
      "cell_type": "code",
      "execution_count": null,
      "metadata": {
        "id": "lFJECBe_hiJh"
      },
      "outputs": [],
      "source": [
        "print(vypocitej_prumer(1, 2, 3, 4, 5))"
      ]
    },
    {
      "cell_type": "code",
      "execution_count": null,
      "metadata": {
        "id": "fHFQXffqhiJh"
      },
      "outputs": [],
      "source": [
        "print(vypocitej_prumer(1))"
      ]
    },
    {
      "cell_type": "markdown",
      "metadata": {
        "id": "lZvhyYRBhiJh"
      },
      "source": [
        "Jméno parametru `args` potom slouží hlavně jako konvence mezi programátory.\n",
        "\n",
        "V ukázce můžeš klidně použít **jiné jméno**:"
      ]
    },
    {
      "cell_type": "code",
      "execution_count": null,
      "metadata": {
        "id": "kb9EyTA8hiJh"
      },
      "outputs": [],
      "source": [
        "def vypocitej_prumer(*cislice):\n",
        "    return sum(cislice) / len(cislice)"
      ]
    },
    {
      "cell_type": "code",
      "execution_count": null,
      "metadata": {
        "id": "Oq-QdyDghiJh"
      },
      "outputs": [],
      "source": [
        "print(vypocitej_prumer(1, 2, 3, 4, 5, 6))"
      ]
    },
    {
      "cell_type": "code",
      "execution_count": null,
      "metadata": {
        "id": "b9JRBMwQhiJi"
      },
      "outputs": [],
      "source": [
        "def math_operation(operation, *numbers):\n",
        "    if operation == \"sum\":\n",
        "        return sum(numbers)\n",
        "    elif operation == \"max\":\n",
        "        return max(numbers)\n",
        "    elif operation == \"average\":\n",
        "        return sum(numbers) / len(numbers)"
      ]
    },
    {
      "cell_type": "code",
      "execution_count": null,
      "metadata": {
        "id": "WlwNuVFchiJi"
      },
      "outputs": [],
      "source": [
        "print(math_operation(\"sum\", 1, 2, 3, 4, 5, 6))"
      ]
    },
    {
      "cell_type": "code",
      "execution_count": null,
      "metadata": {
        "id": "xG-v5HIshiJi"
      },
      "outputs": [],
      "source": [
        "print(math_operation(\"max\", 1, 2, 3, 4, 5, 6))"
      ]
    },
    {
      "cell_type": "code",
      "execution_count": null,
      "metadata": {
        "id": "y_n5cLQmhiJi"
      },
      "outputs": [],
      "source": [
        "print(math_operation(\"average\", 1, 2, 3, 4, 5, 6))"
      ]
    },
    {
      "cell_type": "code",
      "execution_count": null,
      "metadata": {
        "id": "Y9wLvkJHhiJi"
      },
      "outputs": [],
      "source": [
        "requested_operation = input(\"\")\n",
        "print(math_operation(requested_operation, 1, 2, 3, 4, 5, 6))"
      ]
    },
    {
      "cell_type": "code",
      "execution_count": null,
      "metadata": {
        "id": "HKrkOhQKhiJi"
      },
      "outputs": [],
      "source": [
        "def math_operation(operation, *numbers, multiplier):\n",
        "    if operation == \"sum\":\n",
        "        return sum(numbers) * multiplier\n",
        "    elif operation == \"max\":\n",
        "        return max(numbers) * multiplier\n",
        "    elif operation == \"average\":\n",
        "        return sum(numbers) / len(numbers) * multiplier"
      ]
    },
    {
      "cell_type": "code",
      "execution_count": null,
      "metadata": {
        "scrolled": true,
        "id": "mTE0l-wzhiJi"
      },
      "outputs": [],
      "source": [
        "print(math_operation(\"sum\", 1, 2, 3, 4, 5, 6))\n",
        "# proc?"
      ]
    },
    {
      "cell_type": "code",
      "execution_count": null,
      "metadata": {
        "id": "Mq4RX3tJhiJi"
      },
      "outputs": [],
      "source": [
        "print(math_operation(\"sum\", 1, 2, 3, 4, 5, 6, multiplier=1))"
      ]
    },
    {
      "cell_type": "code",
      "execution_count": null,
      "metadata": {
        "scrolled": true,
        "id": "PPN3YzrthiJj"
      },
      "outputs": [],
      "source": [
        "print(math_operation(\"sum\", 1, 2, 3, 4, 5, 6, multiplier=2))"
      ]
    },
    {
      "cell_type": "code",
      "execution_count": null,
      "metadata": {
        "id": "-G8iUqfjhiJj"
      },
      "outputs": [],
      "source": [
        "def math_operation(operation, *numbers, multiplier=1):\n",
        "    if operation == \"sum\":\n",
        "        return sum(numbers) * multiplier\n",
        "    elif operation == \"max\":\n",
        "        return max(numbers) * multiplier\n",
        "    elif operation == \"average\":\n",
        "        return sum(numbers) / len(numbers) * multiplier"
      ]
    },
    {
      "cell_type": "code",
      "execution_count": null,
      "metadata": {
        "id": "PRf-Fp17hiJj"
      },
      "outputs": [],
      "source": [
        "print(math_operation(\"sum\", 1, 2, 3, 4, 5, 6))"
      ]
    },
    {
      "cell_type": "code",
      "source": [
        "# priklad funkce\n",
        "\n",
        "# jak by jste ho zavolali"
      ],
      "metadata": {
        "id": "qt5yptUSy-j7"
      },
      "execution_count": null,
      "outputs": []
    },
    {
      "cell_type": "markdown",
      "metadata": {
        "id": "irQ3bKbRhiJl"
      },
      "source": [
        "### **kwargs\n",
        "\n",
        "---\n",
        "\n",
        "Dalším způsobem pro *zápis vstupů*, je varianta **pomocí dvou hvězdiček** `**`.\n",
        "\n",
        "<br>\n",
        "\n",
        "Tentokrát seskupuješ dohromady libovolném množství párů:\n",
        "1. **jména objektů**,\n",
        "2. **jejich hodnot**.\n",
        "\n",
        "Opět si představ situaci, že postupně dostáváš hodnoty, které potřebuješ schovávat do slovníku:"
      ]
    },
    {
      "cell_type": "code",
      "execution_count": null,
      "metadata": {
        "id": "TvAmwpXChiJl"
      },
      "outputs": [],
      "source": [
        "def vytvor_slovnik(**kwargs):\n",
        "    \"\"\"\n",
        "    Vypiš slovník, který obsahuje libovolné množství sbalených hodnot.\n",
        "    \"\"\"\n",
        "    print(type(kwargs))\n",
        "    print(kwargs)\n",
        "    for key, value in kwargs.items():\n",
        "        print(key.upper(), value, sep=\":\")"
      ]
    },
    {
      "cell_type": "code",
      "execution_count": null,
      "metadata": {
        "id": "JSekjrLdhiJl"
      },
      "outputs": [],
      "source": [
        "vytvor_slovnik(jmeno=\"Matous\", prijmeni=\"Holinka\")"
      ]
    },
    {
      "cell_type": "code",
      "execution_count": null,
      "metadata": {
        "id": "C_Gs1_aWhiJm"
      },
      "outputs": [],
      "source": [
        "def vytvor_slovnik(kwargs):\n",
        "    \"\"\"\n",
        "    Vypiš slovník, který obsahuje libovolné množství sbalených hodnot.\n",
        "    \"\"\"\n",
        "    print(type(kwargs))\n",
        "    print(kwargs)\n",
        "    for key, value in kwargs.items():\n",
        "        print(key.upper(), value, sep=\":\")"
      ]
    },
    {
      "cell_type": "code",
      "execution_count": null,
      "metadata": {
        "id": "ImxZK58nhiJm"
      },
      "outputs": [],
      "source": [
        "vytvor_slovnik({\"jmeno\": \"Matous\", \"prijmeni\":\"Holinka\"})"
      ]
    },
    {
      "cell_type": "markdown",
      "metadata": {
        "id": "xCOS2mXHhiJm"
      },
      "source": [
        "**Jméno parametru** je opět volitelné, ale je doporučováno, držet se všeobecné konvence `kwargs` (~keyword arguments):"
      ]
    },
    {
      "cell_type": "code",
      "execution_count": null,
      "metadata": {
        "id": "riCHzbD9hiJm"
      },
      "outputs": [],
      "source": [
        "def vytvor_slovnik(**osobni_udaje):\n",
        "    \"\"\"\n",
        "    Vypiš slovník, který obsahuje libovolné množství sbalených hodnot.\n",
        "    \"\"\"\n",
        "    for key, value in osobni_udaje.items():\n",
        "        print(key.upper(), value, sep=\":\")"
      ]
    },
    {
      "cell_type": "code",
      "execution_count": null,
      "metadata": {
        "id": "Hhxwskp2hiJm"
      },
      "outputs": [],
      "source": [
        "vytvor_slovnik(\n",
        "        jmeno=\"Matous\",\n",
        "        prijmeni=\"Holinka\",\n",
        "        vek=90,\n",
        "        email=\"matous@holinka.cz\"\n",
        "    )"
      ]
    },
    {
      "cell_type": "code",
      "execution_count": null,
      "metadata": {
        "id": "AlahqwPjhiJm"
      },
      "outputs": [],
      "source": [
        "def math_operation(operation, *numbers, multiplier=1):\n",
        "    if operation == \"sum\":\n",
        "        return sum(numbers) * multiplier\n",
        "    elif operation == \"max\":\n",
        "        return max(numbers) * multiplier\n",
        "    elif operation == \"average\":\n",
        "        return sum(numbers) / len(numbers) * multiplier"
      ]
    },
    {
      "cell_type": "code",
      "execution_count": null,
      "metadata": {
        "id": "zYkFT_sthiJm"
      },
      "outputs": [],
      "source": [
        "def math_operation(operation, multiplier=1, **numbers):\n",
        "    print(f\"{operation=}\")\n",
        "    print(f\"{multiplier=}\")\n",
        "    print(f\"{numbers=}\")"
      ]
    },
    {
      "cell_type": "code",
      "execution_count": null,
      "metadata": {
        "id": "_MsE_2oBhiJm"
      },
      "outputs": [],
      "source": [
        "math_operation(\"sum\", 1, [1,2,3])"
      ]
    },
    {
      "cell_type": "code",
      "execution_count": null,
      "metadata": {
        "id": "lBQdqcIfhiJn"
      },
      "outputs": [],
      "source": [
        "math_operation(\"sum\", 1, numbers=[1,2,3])"
      ]
    },
    {
      "cell_type": "code",
      "execution_count": null,
      "metadata": {
        "id": "gHzWi5njhiJn"
      },
      "outputs": [],
      "source": [
        "def math_operation(operation, /, *numbers, multiplier=1, **additional_argument):\n",
        "    print(f\"{operation=}\")\n",
        "    print(f\"{multiplier=}\")\n",
        "    print(f\"{numbers=}\")\n",
        "    print(f\"{additional_argument=}\")"
      ]
    },
    {
      "cell_type": "code",
      "execution_count": null,
      "metadata": {
        "id": "hSWbzbWkhiJn"
      },
      "outputs": [],
      "source": [
        "math_operation(\"sum\", 5,2,3,4,5, use_numpy=True)"
      ]
    },
    {
      "cell_type": "code",
      "execution_count": null,
      "metadata": {
        "id": "2xiOkBPihiJo"
      },
      "outputs": [],
      "source": [
        "# cviceni na parametry"
      ]
    },
    {
      "cell_type": "code",
      "source": [
        "# priklad funkce\n",
        "\n",
        "# jak by jste ho zavolali"
      ],
      "metadata": {
        "id": "Px2fjx23y_97"
      },
      "execution_count": null,
      "outputs": []
    },
    {
      "cell_type": "markdown",
      "metadata": {
        "id": "3p1AbBjhhiJo"
      },
      "source": [
        "### Souhrn\n",
        "\n",
        "---\n",
        "\n",
        "Aby v tom byl alespoň částečně pořádek, níže je uvedená tabulka se **základními charakteristikami**.\n",
        "\n",
        "| Typ vstupu | Ukázka | Kdy používat |\n",
        "| :- | :- | :- |\n",
        "| **poziční vstupy** | `moje_funkce(jmeno, prijmeni)` | ve většině případech, kde není matoucí **pořadí** argumentů, |\n",
        "| **klíčové argumenty** | `moje_funkce(jmeno=\"Tom\", prijmeni=\"Hrom\")` | pokud je pořadí argumentů **nepřehledné**, pojmenuj je, |\n",
        "| **defaultní parametry** | `moje_funkce(email, registrovany=True)` | pokud potřebuješ při spouštění stejný parametr, napiš jej jako *defaultní*, |  \n",
        "| **position-only parametry** | `moje_funkce(jmeno, /, registrovany)` | pokud potřebuješ vynutit zápis **pozičního argumentu**, |\n",
        "| **keyword-only parametry** | `moje_funkce(jmeno, *, registrovany)` | pokud potřebuješ vynutit zápis **klíčového argumentu**, |\n",
        "| **\\*args** | `moje_funkce(*args)` | pokud má funkce pracovat **s různým množstvím** hodnot v *sekvenci*, |\n",
        "| **\\*\\*kwargs** |  `moje_funkce(**kwargs)` | pokud má funkce pracovat **s různým množstvím** hodnot v párech *klíč*, *hodnota*. |"
      ]
    },
    {
      "cell_type": "code",
      "source": [
        "# jak zavolat tuto funkci\n",
        "def process_order(order_id, customer_id, /, item, quantity=1, price_per_item=10, *additional_charges, delivery_instructions=None, discount=0, **misc_details):\n",
        "    print(locals()) # dozvime se pozdeji"
      ],
      "metadata": {
        "id": "Qq7F0iwDzGUr"
      },
      "execution_count": null,
      "outputs": []
    },
    {
      "cell_type": "code",
      "source": [],
      "metadata": {
        "id": "uwYGwc0ezPQz"
      },
      "execution_count": null,
      "outputs": []
    },
    {
      "cell_type": "markdown",
      "metadata": {
        "id": "zr7A9h5YhiJo"
      },
      "source": [
        "<br>\n",
        "\n",
        "<img src=\"https://external-content.duckduckgo.com/iu/?u=https%3A%2F%2Ftse4.mm.bing.net%2Fth%3Fid%3DOIP.3zH2XO4Ec77ugwOJQSR5KAHaGl%26pid%3DApi&f=1&ipt=da0860e815b2df5c7483ba605846462ead01ddc816a6391c7a24853c7354c4d4&ipo=images\" width=\"300\">\n",
        "\n",
        "## Rámce\n",
        "\n",
        "---"
      ]
    },
    {
      "cell_type": "markdown",
      "metadata": {
        "id": "vqD-CXMBhiJp"
      },
      "source": [
        "*Scope* nebo také rámec je koncept, na kterém pracuje spousta programovacích jazyků, Python není výjimkou.\n",
        "\n",
        "Rámec v podstatě řeší tuto otázku: **\"K jakým proměnným mám v tuto chvíli přístup?\"**"
      ]
    },
    {
      "cell_type": "markdown",
      "metadata": {
        "id": "dIGRUoRShiJp"
      },
      "source": [
        "### Globální rámec\n",
        "\n",
        "---"
      ]
    },
    {
      "cell_type": "code",
      "execution_count": null,
      "metadata": {
        "id": "YxqTpLn8hiJp"
      },
      "outputs": [],
      "source": [
        "print(jmeno)"
      ]
    },
    {
      "cell_type": "markdown",
      "metadata": {
        "id": "8ol_XuiYhiJp"
      },
      "source": [
        "Po spuštění předchozí buňky s funkcí `print` dostaneme chybu s argumentem: `name 'jmeno' is not defined`.\n",
        "\n",
        "Důvodem je **absence proměnné** `jmeno`.\n",
        "\n",
        "Tento problém lze ale popsat jako chybějící `jmeno` v **aktualním rámci**."
      ]
    },
    {
      "cell_type": "code",
      "execution_count": null,
      "metadata": {
        "id": "rHqT6swUhiJp"
      },
      "outputs": [],
      "source": [
        "jmeno = \"Matous\""
      ]
    },
    {
      "cell_type": "code",
      "execution_count": null,
      "metadata": {
        "id": "6MQJm-YRhiJp"
      },
      "outputs": [],
      "source": [
        "print(jmeno)"
      ]
    },
    {
      "cell_type": "markdown",
      "metadata": {
        "id": "6cDahcy0hiJp"
      },
      "source": [
        "Teprve nyní tvoříš odkaz/ukazatele na hodnotu stringu `\"Matous\"`.\n",
        "\n",
        "Současně tím **v globálním rámci** zapíšeš proměnnou `jmeno`.\n",
        "\n",
        "Ověřit si, které proměnné máme dostupné v aktuálním globalním rámci můžeme pomocí funkce `globals`:"
      ]
    },
    {
      "cell_type": "code",
      "execution_count": null,
      "metadata": {
        "id": "1CJ5DwEjhiJq"
      },
      "outputs": [],
      "source": [
        "print(globals()[\"jmeno\"])"
      ]
    },
    {
      "cell_type": "code",
      "execution_count": null,
      "metadata": {
        "scrolled": true,
        "id": "CHCXRxwKhiJq"
      },
      "outputs": [],
      "source": [
        "globals()"
      ]
    },
    {
      "cell_type": "markdown",
      "metadata": {
        "id": "ysD0ilUKhiJq"
      },
      "source": [
        "##### Demo: V příkazovém řádku"
      ]
    },
    {
      "cell_type": "markdown",
      "metadata": {
        "id": "FMCtPTaJhiJq"
      },
      "source": [
        "### Lokální rámec\n",
        "\n",
        "---"
      ]
    },
    {
      "cell_type": "code",
      "execution_count": null,
      "metadata": {
        "id": "KgnVs9ZehiJq"
      },
      "outputs": [],
      "source": [
        "jmeno = \"Petr\""
      ]
    },
    {
      "cell_type": "code",
      "execution_count": null,
      "metadata": {
        "id": "o4YbCQ2ThiJq"
      },
      "outputs": [],
      "source": [
        "def moje_funkce():\n",
        "    print(jmeno)\n",
        "    jmeno_2 = \"Lukas\""
      ]
    },
    {
      "cell_type": "code",
      "execution_count": null,
      "metadata": {
        "id": "nfFbS6lnhiJq"
      },
      "outputs": [],
      "source": [
        "moje_funkce()"
      ]
    },
    {
      "cell_type": "code",
      "execution_count": null,
      "metadata": {
        "id": "zXOtHl9rhiJq"
      },
      "outputs": [],
      "source": [
        "print(jmeno_2)"
      ]
    },
    {
      "cell_type": "markdown",
      "metadata": {
        "id": "1XBNiCm_hiJq"
      },
      "source": [
        "Opět výstup: `name 'jmeno_2' is not defined`.\n",
        "\n",
        "Tentokrát však máš proměnnou `jmeno_2` předepsanou.\n",
        "\n",
        "<br>\n",
        "\n",
        "Proměnná jmeno tentokrát existuje, ale pouze **v lokálním rámci** funkce `moje_funkce`.\n",
        "\n",
        "*Lokální rámec* není *globalní rámec*. Proto nemůžeš použít proměnnou jmeno v globálním rámci, pokud je vytvořená v lokálním rámci."
      ]
    },
    {
      "cell_type": "code",
      "execution_count": null,
      "metadata": {
        "id": "abJUWwnPhiJr"
      },
      "outputs": [],
      "source": [
        "def moje_funkce():\n",
        "    jmeno_3 = \"Lukas\"\n",
        "    print(jmeno_3)"
      ]
    },
    {
      "cell_type": "markdown",
      "metadata": {
        "id": "tJr0Wrk2hiJr"
      },
      "source": [
        "Pokud potřebuješ zpřístupnit proměnnou `jmeno_3` uvnitř funkce, musíš použít funkci `print` **v daném lokálním rámci**."
      ]
    },
    {
      "cell_type": "code",
      "execution_count": null,
      "metadata": {
        "id": "7pHQhm5_hiJr"
      },
      "outputs": [],
      "source": [
        "moje_funkce()"
      ]
    },
    {
      "cell_type": "markdown",
      "metadata": {
        "id": "9YYEl_qhhiJr"
      },
      "source": [
        "Co funkce, to nový **lokální rámec**.\n",
        "\n",
        "Každá funkce ma **svůj vlastní lokální rámec**.\n",
        "\n",
        "Jednotlivé *lokální rámce* jsou od sebe izolované (nevidí proměnné ostatních funkcí)."
      ]
    },
    {
      "cell_type": "markdown",
      "metadata": {
        "id": "Pwb00lt7hiJr"
      },
      "source": [
        "<br>\n",
        "\n",
        "*Lokální rámce* souvísí s funkcemi, ne **s odsazeným zápisem**:"
      ]
    },
    {
      "cell_type": "code",
      "execution_count": null,
      "metadata": {
        "id": "j9z6KEBEhiJr"
      },
      "outputs": [],
      "source": [
        "jmeno_4 = \"Matous\""
      ]
    },
    {
      "cell_type": "code",
      "execution_count": null,
      "metadata": {
        "id": "vRQKC-chhiJr"
      },
      "outputs": [],
      "source": [
        "if jmeno_4 == \"Matous\":\n",
        "    prijmeni = \"Marny\""
      ]
    },
    {
      "cell_type": "code",
      "execution_count": null,
      "metadata": {
        "id": "gW-SCTLnhiJr"
      },
      "outputs": [],
      "source": [
        "print(globals()[\"prijmeni\"])"
      ]
    },
    {
      "cell_type": "markdown",
      "metadata": {
        "id": "IDhHL1HEhiJr"
      },
      "source": [
        "Pokud chceš ověřit, jaké proměnné máš v daném **lokalním rámci**, použij uvnitř konkretního prostředí funkci `locals`:"
      ]
    },
    {
      "cell_type": "code",
      "execution_count": null,
      "metadata": {
        "id": "mOnRiGYFhiJs"
      },
      "outputs": [],
      "source": [
        "def moje_funkce():\n",
        "    \"\"\"\n",
        "    Funkce LOCALS bude pracovat jen uvnitř funkce.\n",
        "    \"\"\"\n",
        "    jmeno_5 = \"Lukas\"\n",
        "    prijmeni_5 = \"Marek\"\n",
        "    print(\"Lokální rámec:\", locals())"
      ]
    },
    {
      "cell_type": "code",
      "execution_count": null,
      "metadata": {
        "id": "CIyd83XjhiJs"
      },
      "outputs": [],
      "source": [
        "moje_funkce()"
      ]
    },
    {
      "cell_type": "code",
      "execution_count": null,
      "metadata": {
        "id": "1h2ocdFRhiJs"
      },
      "outputs": [],
      "source": [
        "jmeno_x = \"Matouš\"\n",
        "\n",
        "def moje_funkce():\n",
        "    \"\"\"\n",
        "    Funkce LOCALS bude pracovat jen uvnitř funkce.\n",
        "    \"\"\"\n",
        "    jmeno_5 = \"Lukas\"\n",
        "    prijmeni_5 = \"Marek\"\n",
        "    print(\"Lokální rámec:\", locals())"
      ]
    },
    {
      "cell_type": "code",
      "execution_count": null,
      "metadata": {
        "id": "AIINqakFhiJs"
      },
      "outputs": [],
      "source": [
        "moje_funkce()"
      ]
    },
    {
      "cell_type": "code",
      "execution_count": null,
      "metadata": {
        "id": "UN0Stm_0hiJs"
      },
      "outputs": [],
      "source": [
        "print(globals()['jmeno_x'])"
      ]
    },
    {
      "cell_type": "markdown",
      "metadata": {
        "id": "eYUBOK2bhiJs"
      },
      "source": [
        "Pokud budeš mít uživatelských funkcí víc, můžeš pozorovat, jak žádná nevidí do jiné funkce:"
      ]
    },
    {
      "cell_type": "code",
      "execution_count": null,
      "metadata": {
        "id": "of2flg9-hiJs"
      },
      "outputs": [],
      "source": [
        "def zapis_zahlavi(jmeno):\n",
        "    datum = \"11/11/2011\"\n",
        "    print(\"Lokální rámec 'zapis_zahlavi':\", locals())\n",
        "    return f\"{datum}-{jmeno}\""
      ]
    },
    {
      "cell_type": "code",
      "execution_count": null,
      "metadata": {
        "id": "hTQf1AXfhiJt"
      },
      "outputs": [],
      "source": [
        "def zapis_zpravu(hlavicka, text):\n",
        "    print(\"Lokální rámec 'zapis_zpravu':\", locals())\n",
        "    return f\"{hlavicka}: {text}\""
      ]
    },
    {
      "cell_type": "code",
      "execution_count": null,
      "metadata": {
        "id": "6On0Ydx5hiJt"
      },
      "outputs": [],
      "source": [
        "zahl = zapis_zahlavi(\"Matouš\")"
      ]
    },
    {
      "cell_type": "code",
      "execution_count": null,
      "metadata": {
        "id": "TGwfKS9FhiJt"
      },
      "outputs": [],
      "source": [
        "zprava = zapis_zpravu(zahl, \"Ahoj všichni!\")"
      ]
    },
    {
      "cell_type": "markdown",
      "metadata": {
        "id": "sOLG5n9bhiJt"
      },
      "source": [
        "Tudíž nejsi obyčejně schopen ve funkci `zapis_zpravu` použít parametr `jmeno` atd."
      ]
    },
    {
      "cell_type": "markdown",
      "metadata": {
        "id": "aVwjlMk5hiJt"
      },
      "source": [
        "### Zabudovaný rámec (~built-in scope)\n",
        "\n",
        "---"
      ]
    },
    {
      "cell_type": "markdown",
      "metadata": {
        "id": "cG4nlID2hiJt"
      },
      "source": [
        "Tento rámec obsahuje všechny *výjimky*, *zabudované funkce*, aj:"
      ]
    },
    {
      "cell_type": "code",
      "execution_count": null,
      "metadata": {
        "id": "FpRmhCg5hiJt"
      },
      "outputs": [],
      "source": [
        "print(sum)"
      ]
    },
    {
      "cell_type": "markdown",
      "metadata": {
        "id": "zDkOE4-UhiJt"
      },
      "source": [
        "Máš jej k dispozici okamžitě, po spuštění *interpretu*, takže můžeš použít objekty, které má k dispozici."
      ]
    },
    {
      "cell_type": "code",
      "execution_count": null,
      "metadata": {
        "id": "GYOc3vg3hiJt"
      },
      "outputs": [],
      "source": [
        "import builtins"
      ]
    },
    {
      "cell_type": "code",
      "execution_count": null,
      "metadata": {
        "scrolled": false,
        "id": "7VhJQFRihiJu"
      },
      "outputs": [],
      "source": [
        "dir(builtins)"
      ]
    },
    {
      "cell_type": "markdown",
      "metadata": {
        "id": "NjjKIYWjhiJu"
      },
      "source": [
        "Takže to jsou **3 základní rámce** v Pythonu:"
      ]
    },
    {
      "cell_type": "markdown",
      "metadata": {
        "id": "CSu4ibPRhiJu"
      },
      "source": [
        "<img src=\"https://external-content.duckduckgo.com/iu/?u=https%3A%2F%2Ftse1.mm.bing.net%2Fth%3Fid%3DOIP.PyAwJkVFGp6IVXtRpQXaowHaE6%26pid%3DApi&f=1&ipt=113d12a3bc2e90ece37b5ab11754b3e28c8bfca59a154810dc08376f9ee634e8&ipo=images\" width=\"350\">"
      ]
    },
    {
      "cell_type": "markdown",
      "metadata": {
        "id": "q9aT6Z3dhiJu"
      },
      "source": [
        "### Uzavírající rámec (~enclosing scope)\n",
        "\n",
        "---"
      ]
    },
    {
      "cell_type": "markdown",
      "metadata": {
        "id": "7X5ecUCghiJu"
      },
      "source": [
        "Jde o téma pouze **pro ostřílenější pythonisty.**\n",
        "\n",
        "Celé to vypadá jako jedna *uživatelská funkce* **zanořená** do jiné *uživatelské funkce*:"
      ]
    },
    {
      "cell_type": "code",
      "execution_count": null,
      "metadata": {
        "id": "lMddbv6whiJu"
      },
      "outputs": [],
      "source": [
        "def rozdel_podle_znaku(adresa, znak=\"@\"):  # Uzavírající rámec\n",
        "    rozdeleny_mail = adresa.split(znak)\n",
        "\n",
        "    def oddel_domenu(nedomena, znak=\".\"):  # Lokální rámec\n",
        "        return nedomena[1].split(znak)[0]\n",
        "\n",
        "    return oddel_domenu(rozdeleny_mail)"
      ]
    },
    {
      "cell_type": "code",
      "execution_count": null,
      "metadata": {
        "id": "iepPQiC9hiJu"
      },
      "outputs": [],
      "source": [
        "print(rozdel_podle_znaku(\"matous@holinka.cz\"))"
      ]
    },
    {
      "cell_type": "markdown",
      "metadata": {
        "id": "ylAQOIcshiJu"
      },
      "source": [
        "Tedy původní *lokální rámec* se mění na *uzavírající rámec* tehdy, pokud uvnitř funkce (`rozdel_podle_znaku`) najdeš jinou, uzavřenou funkci (`oddel_domenu`).\n",
        "\n",
        "Aplikace této složitější tématiky pak lze dohledat u:\n",
        "1. *Closures*,\n",
        "2. [*dekorátorů*](https://gist.github.com/Bralor/ea1c0a0430aacf2f71625ee8be1c1ddd)."
      ]
    },
    {
      "cell_type": "markdown",
      "metadata": {
        "id": "aUh5yetDhiJu"
      },
      "source": [
        "https://peps.python.org/pep-0318/"
      ]
    },
    {
      "cell_type": "markdown",
      "metadata": {
        "id": "YzVjOWluhiJu"
      },
      "source": [
        "### Shrnutí rámců\n",
        "\n",
        "---\n",
        "\n",
        "Proč je tedy znalost a pochopení **pravidel rámců** tak důležitá?"
      ]
    },
    {
      "cell_type": "code",
      "execution_count": null,
      "metadata": {
        "id": "OoH8miiNhiJv"
      },
      "outputs": [],
      "source": [
        "prostredi = \"globalni\"\n",
        "\n",
        "def funkce_a():\n",
        "    prostredi = \"uzavirajici\"\n",
        "\n",
        "    def funkce_b():\n",
        "        prostredi = \"lokalni\"\n",
        "        print(prostredi)\n",
        "\n",
        "    funkce_b()\n",
        "    print(prostredi)\n",
        "funkce_a()\n",
        "print(prostredi)"
      ]
    },
    {
      "cell_type": "markdown",
      "metadata": {
        "id": "5erIzmkmhiJv"
      },
      "source": [
        "V okamžiku, kdy **nedodržuješ zdravé koncepty práce s rámci**, se můžeš snadno spálit."
      ]
    },
    {
      "cell_type": "code",
      "execution_count": null,
      "metadata": {
        "id": "7tWOzsqvhiJv"
      },
      "outputs": [],
      "source": [
        "def funkce_a():\n",
        "\n",
        "    def funkce_b():\n",
        "        prostredi_3 = \"lokalni\" # Odstranit\n",
        "        print(prostredi_3)\n",
        "\n",
        "    funkce_b()\n",
        "funkce_a()\n",
        "print(prostredi_3)"
      ]
    },
    {
      "cell_type": "markdown",
      "metadata": {
        "id": "aKrq17MThiJv"
      },
      "source": [
        "*Interpret* totiž dodržuje následující postup:\n",
        "1. Nejprve prohledá **lokalní rámec**, v němž se nachází,\n",
        "2. pokud není objekt uvnitř, zkus **uzavírající rámec** nebo obecně **nadřazený rámec**,\n",
        "3. pokud není objekt uvnitř **uzavírajícího prostředí**, zkus **globální rámec**,\n",
        "4. pokud není objekt uvnitr **globálního**, zkus **zabudovaný rámec**,\n",
        "5. pokud není objekt uvnitř **zabudovaného rámce** vyvolej `NameError`."
      ]
    },
    {
      "cell_type": "markdown",
      "metadata": {
        "id": "qEgOAGgVhiJv"
      },
      "source": [
        "Spoléhat však na toto chování není doporučováno. Je totiž neintuitivní.\n",
        "\n",
        "Proto je dobré pamatovat na poučku, že **pěkná uživatelská funkce** umí pracovat pouze:\n",
        "1. svými **proměnnými**,\n",
        "2. svými **parametry**."
      ]
    },
    {
      "cell_type": "code",
      "execution_count": null,
      "metadata": {
        "id": "v5FDnB4phiJv"
      },
      "outputs": [],
      "source": [
        "def funkce_a(prostredi):\n",
        "\n",
        "    def funkce_b(prostredi):\n",
        "        print(prostredi)\n",
        "\n",
        "    funkce_b(prostredi)"
      ]
    },
    {
      "cell_type": "code",
      "execution_count": null,
      "metadata": {
        "id": "fRIQlE9nhiJv"
      },
      "outputs": [],
      "source": [
        "funkce_a(\"globalni\")"
      ]
    },
    {
      "cell_type": "code",
      "source": [],
      "metadata": {
        "id": "Olo-AIsgdBm7"
      },
      "execution_count": null,
      "outputs": []
    },
    {
      "cell_type": "code",
      "source": [
        "__main__"
      ],
      "metadata": {
        "id": "eBoBoRFXdCcT"
      },
      "execution_count": null,
      "outputs": []
    },
    {
      "cell_type": "markdown",
      "metadata": {
        "id": "SduryC1ohiJv"
      },
      "source": [
        "---"
      ]
    }
  ],
  "metadata": {
    "kernelspec": {
      "display_name": "Python 3",
      "language": "python",
      "name": "python3"
    },
    "language_info": {
      "codemirror_mode": {
        "name": "ipython",
        "version": 3
      },
      "file_extension": ".py",
      "mimetype": "text/x-python",
      "name": "python",
      "nbconvert_exporter": "python",
      "pygments_lexer": "ipython3",
      "version": "3.8.6"
    },
    "colab": {
      "provenance": []
    }
  },
  "nbformat": 4,
  "nbformat_minor": 0
}