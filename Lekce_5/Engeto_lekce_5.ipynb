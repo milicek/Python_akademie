{
  "cells": [
    {
      "cell_type": "code",
      "source": [],
      "metadata": {
        "id": "48JDWWdWpElF"
      },
      "execution_count": null,
      "outputs": []
    },
    {
      "cell_type": "markdown",
      "source": [
        "#Malé opakování"
      ],
      "metadata": {
        "id": "T0Ckt-cgwdFQ"
      }
    },
    {
      "cell_type": "code",
      "source": [
        "# co bude vystupem?\n",
        "adjectives = [\"red\", \"big\", \"tasty\"]\n",
        "fruits = [\"apple\", \"banana\", \"cherry\"]\n",
        "\n",
        "for adjective in adjectives:\n",
        "    for fruit in fruits:\n",
        "        print(adjective, fruit)\n"
      ],
      "metadata": {
        "id": "uEhGD5MC3afL"
      },
      "execution_count": null,
      "outputs": []
    },
    {
      "cell_type": "code",
      "source": [
        "# co bude vystupem?\n",
        "animals = [\"cat\", \"dog\", \"rabbit\"]\n",
        "\n",
        "for index, animal in enumerate(animals):\n",
        "    print(index, animal)\n"
      ],
      "metadata": {
        "id": "Gt2At7BU36Pa"
      },
      "execution_count": null,
      "outputs": []
    },
    {
      "cell_type": "code",
      "source": [
        "# co bude vystupem? a co je na tomto v principu spatne\n",
        "\n",
        "A = [[1, 2, 3], [4, 5], [6, 7, 8, 9]]\n",
        "\n",
        "B = []\n",
        "\n",
        "for C in A:\n",
        "    for d in C:\n",
        "        B.append(d)\n",
        "\n",
        "print(B)\n"
      ],
      "metadata": {
        "id": "OUVT2Bni4TjT"
      },
      "execution_count": null,
      "outputs": []
    },
    {
      "cell_type": "code",
      "source": [
        "# zeptej se uzivatele jestli chce pokracovat a pokud 3x neodpovi \"Y\", tak se ukonci"
      ],
      "metadata": {
        "id": "Q5jHZRPrwq2o"
      },
      "execution_count": null,
      "outputs": []
    },
    {
      "cell_type": "code",
      "source": [
        "# jake ma for cyklus omezeni? Napada vas neco?"
      ],
      "metadata": {
        "id": "axrKVvex4lEC"
      },
      "execution_count": null,
      "outputs": []
    },
    {
      "cell_type": "markdown",
      "metadata": {
        "id": "a1SrIarK18cp"
      },
      "source": [
        "# Lekce 5 - While cyklus"
      ]
    },
    {
      "cell_type": "markdown",
      "metadata": {
        "id": "plxWSVnm18c9"
      },
      "source": [
        "<img src=\"https://external-content.duckduckgo.com/iu/?u=https%3A%2F%2Ftse1.mm.bing.net%2Fth%3Fid%3DOIP.yg9qTK4GbobmIc9KTC39pQHaFy%26pid%3DApi&f=1\" width=\"200\" />\n",
        "\n",
        "## Iterační protokol, podruhé\n",
        "\n",
        "---"
      ]
    },
    {
      "cell_type": "code",
      "execution_count": null,
      "metadata": {
        "id": "wGT9UhV_18c9"
      },
      "outputs": [],
      "source": [
        "for prvek in pole:\n",
        "    # na kazdem prvku neco delej\n",
        "\n",
        "    # ukonceni - dojdeme do konce pole a nebo break"
      ]
    },
    {
      "cell_type": "markdown",
      "metadata": {
        "id": "9GtsjU0S18c9"
      },
      "source": [
        "Pro periodické opakování ohlášení existují tzv. *iterační protokoly* (příp.  označovány jako *smyčky*, *cykly*, *loopy*).\n",
        "\n",
        "Pomocí smyčky *for* umíš zapsat takovou *iteraci*, kdy postupně projdeš **všechny hodnoty**.\n",
        "\n",
        "Co když budeš potřebovat *iterovat* bez zadané hodnoty, ale za jistých podmínek?\n",
        "\n",
        "Až bude mít `list` 3 hodnoty, dokud uživatel zadává vstupy, atd.\n",
        "\n",
        "\n",
        "<br>\n",
        "\n",
        "Potom bude potřeba, povědět si ještě o druhém typu smyček:\n",
        "1. smyčka `for`,\n",
        "2. smyčka `while`."
      ]
    },
    {
      "cell_type": "code",
      "execution_count": null,
      "metadata": {
        "id": "-q2M-bri18c9"
      },
      "outputs": [],
      "source": [
        "while"
      ]
    },
    {
      "cell_type": "code",
      "source": [
        "# napada nekoho rozdil uz z anglickeho prekladu?\n",
        "# * for - pro\n",
        "# * while - dokud/zatimco"
      ],
      "metadata": {
        "id": "z2ECEv8tG3ti"
      },
      "execution_count": null,
      "outputs": []
    },
    {
      "cell_type": "markdown",
      "metadata": {
        "id": "UDZh_ber18c9"
      },
      "source": [
        "<br>\n",
        "\n",
        "<img src=\"https://external-content.duckduckgo.com/iu/?u=https%3A%2F%2Ftse2.mm.bing.net%2Fth%3Fid%3DOIP.Oir5eME7J-RWJpxHkJjr-QHaGe%26pid%3DApi&f=1\" width=\"200\" />\n",
        "\n",
        "\n",
        "\n",
        "## While smyčka\n",
        "---"
      ]
    },
    {
      "cell_type": "code",
      "execution_count": null,
      "metadata": {
        "id": "3h9QEoqZ18c9"
      },
      "outputs": [],
      "source": [
        "for zastupna_promenna in iterovatelny_list:\n",
        "    # blok prace"
      ]
    },
    {
      "cell_type": "code",
      "execution_count": null,
      "metadata": {
        "id": "thRqRNpa18c9"
      },
      "outputs": [],
      "source": [
        "while PODMINKA:\n",
        "    # blok prace\n",
        "    # ...\n",
        "    # posledni radek -> vyhodnoceni PODMINKA\n",
        "# blok po while"
      ]
    },
    {
      "cell_type": "markdown",
      "metadata": {
        "id": "NsuJgSTX18c9"
      },
      "source": [
        "Někdy ale není nutné *iterovat* přes **celý objekt**, jak tomu bylo u smyčky `for`.\n",
        "\n",
        "Naopak, budeš potřebovat provádět proces *iterování* tak dlouho, *dokud* to bude nutné.\n",
        "\n",
        "Za takovým účelem můžeš využít druhý typ smyček, `while`.\n",
        "\n",
        "### Obecně while loop"
      ]
    },
    {
      "cell_type": "code",
      "execution_count": null,
      "metadata": {
        "id": "gN4N2zoW18c-"
      },
      "outputs": [],
      "source": [
        "index = 1\n",
        "\n",
        "while index < 6:\n",
        "    print(\"Ještě nemáš 6, ale \", index, \", pokračuji..\", sep=\"\")\n",
        "    index += 1 # index = index + 1\n",
        "\n",
        "print(\"Hotovo, máš 6!\")"
      ]
    },
    {
      "cell_type": "markdown",
      "metadata": {
        "id": "8tchzOju18c-"
      },
      "source": [
        "1. `while` je **klíčkové slovo** v záhlaví,\n",
        "2. `index < 6` je **podmínka**. Pokud je vyhodnocená jako `True`, proveď *odsazené ohlášení*,\n",
        "3. `index < 6` ... `False`, ukonči smyčku a pokračuj **s neodsazeným zápisem** pod smyčkou,\n",
        "4. `:` řádek s předpisem musí být **zakončený dvojtečkou**,\n",
        "5. `print(\"Ještě nemáš...\")`, následují *odsazené ohlášení*, které se budou opakovat v každém kroku,\n",
        "6. `print(\"Hotovo, \" ... )`, pokračuje *neodsazený zápis*, pod smyčkou."
      ]
    },
    {
      "cell_type": "code",
      "execution_count": null,
      "metadata": {
        "id": "vFrVsV2o18c9"
      },
      "outputs": [],
      "source": [
        "# to same pomoci for cyklu\n",
        "iterovatelny_objekt = range(1, 6)\n",
        "for index in iterovatelny_objekt:\n",
        "    print(\"Ještě nemáš 6, ale \", index, \", pokračuji..\", sep=\"\")\n",
        "print(\"Hotovo, máš 6!\")"
      ]
    },
    {
      "cell_type": "code",
      "source": [
        "# kombinace predchoziho\n",
        "iterovatelny_objekt = range(1, 6)\n",
        "index = 0\n",
        "\n",
        "while index < len(iterovatelny_objekt):\n",
        "    print(\"Ještě nemáš 6, ale \", iterovatelny_objekt[index], \", pokračuji..\", sep=\"\")\n",
        "    index += 1 # index = index + 1\n",
        "\n",
        "print(\"Hotovo, máš 6!\")"
      ],
      "metadata": {
        "id": "VywKChH-HVfi"
      },
      "execution_count": null,
      "outputs": []
    },
    {
      "cell_type": "markdown",
      "metadata": {
        "id": "LOnk_OIa18c-"
      },
      "source": [
        "### While s doplňující podmínkou\n",
        "\n",
        "Cyklus `while` samotný podmínku obsahuje. Určitě je ale možnost, tento podmínkový strom ještě rozšířit:"
      ]
    },
    {
      "cell_type": "code",
      "execution_count": null,
      "metadata": {
        "id": "46qZ3PVo18c-"
      },
      "outputs": [],
      "source": [
        "# co to vypise a proc zrovna?\n",
        "index = 0\n",
        "\n",
        "while index <= 20:\n",
        "    if index % 2:\n",
        "      print(index)\n",
        "    index = index + 1"
      ]
    },
    {
      "cell_type": "code",
      "source": [
        "# Napiseme si program ktery generuje cisla Fibonaciho posloupnosti (prvnich 15)\n",
        "\n",
        "# Zkusi nekdo navrhnout zakladni postup (klidne slovne)"
      ],
      "metadata": {
        "id": "lQzRTjnpICUq"
      },
      "execution_count": null,
      "outputs": []
    },
    {
      "cell_type": "markdown",
      "metadata": {
        "id": "6JTzYfpr18c_"
      },
      "source": [
        "### While/else\n",
        "\n",
        "Cyklus `while` lze rozšířit o podmínkovou větev `else`(podobně jako *for loop*).\n",
        "\n",
        "K ní se *interpret* dostane, pokud je podmínka v předpisu vyhodnocená jako `False`.\n",
        "\n",
        "Současně nesmí narazit na ohlášení `break`:"
      ]
    },
    {
      "cell_type": "code",
      "execution_count": null,
      "metadata": {
        "id": "GBaH3FjU18c_"
      },
      "outputs": [],
      "source": [
        "index = 0\n",
        "\n",
        "while index < 20:\n",
        "    break\n",
        "\n",
        "else:\n",
        "    print(\"-\" * 23, \"Podmínka -> False\".center(23), \"-\" * 23, sep=\"\\n\")\n",
        "\n",
        "print(\">Pokračuji pod smyčkou<\")"
      ]
    },
    {
      "cell_type": "code",
      "source": [
        "index = 0\n",
        "\n",
        "while index < 20:\n",
        "    index = index + 1\n",
        "\n",
        "else:\n",
        "    print(\"-\" * 23, \"Podmínka -> False\".center(23), \"-\" * 23, sep=\"\\n\")\n",
        "\n",
        "print(\">Pokračuji pod smyčkou<\")"
      ],
      "metadata": {
        "id": "7RXfGRulJMkc"
      },
      "execution_count": null,
      "outputs": []
    },
    {
      "cell_type": "markdown",
      "metadata": {
        "id": "UoF6GOeL18c_"
      },
      "source": [
        "Pokud doplníš ohlášení `break`, *interpret* přeskočí nejenom zbytek smyčky *while* ale také větev `else`:"
      ]
    },
    {
      "cell_type": "code",
      "execution_count": null,
      "metadata": {
        "id": "s2DHfuMZ18c_"
      },
      "outputs": [],
      "source": [
        "index = 0\n",
        "\n",
        "while index < 20:\n",
        "    if len(str(index)) != 2:  # pokud není číselná hodnota ze dvou znaků\n",
        "        index = index + 1\n",
        "\n",
        "    else:\n",
        "        print(index)\n",
        "        index += 1\n",
        "        break\n",
        "\n",
        "else:\n",
        "    print(\"-\" * 23, \"Podminka -> False\".center(23), \"-\" * 23, sep=\"\\n\")\n",
        "\n",
        "print(\">Pokračuji pod smyčkou<\")"
      ]
    },
    {
      "cell_type": "code",
      "source": [
        "# jak pomoci while/else otestovat jeslti je nejake cislo prvocislo - znate prvocisla?\n",
        "\n",
        "# Zkusi nekdo navrhnout zakladni postup (klidne slovne)"
      ],
      "metadata": {
        "id": "08nOVmLWJgSc"
      },
      "execution_count": null,
      "outputs": []
    },
    {
      "cell_type": "markdown",
      "metadata": {
        "id": "L00nrbHl18c_"
      },
      "source": [
        "<img src=\"https://external-content.duckduckgo.com/iu/?u=https%3A%2F%2Ftse1.mm.bing.net%2Fth%3Fid%3DOIP.Mq5UWTetElegP54AipJwxwAAAA%26pid%3DApi&f=1&ipt=d9ac04bc74246bbd95df83420771cf32edadc4aa0cde264c6c4a192b11c9c723&ipo=images\" width=\"250\" />\n",
        "\n",
        "## Nekonečný while loop\n",
        "\n",
        "---"
      ]
    },
    {
      "cell_type": "markdown",
      "metadata": {
        "id": "uOY1uLMs18dA"
      },
      "source": [
        "Jednou z aplikací smyčky `while` je zápis tzv. *nekonečného cyklu*.\n",
        "\n",
        "Obecně řečeno, že v případě **nekonečných smyček** můžeš potkat dva typy:\n",
        "1. **řízené** nekonečné smyčky,\n",
        "2. **neřízené** nekonečné smyčky."
      ]
    },
    {
      "cell_type": "markdown",
      "metadata": {
        "id": "wfigM6Qc18dA"
      },
      "source": [
        "### Neřízené nekonečné smyčky\n",
        "\n",
        "Ty mohou nastat v důsledku **špatného zápisu** `while` cyklu:"
      ]
    },
    {
      "cell_type": "code",
      "execution_count": null,
      "metadata": {
        "id": "ubaM9VWL18dA"
      },
      "outputs": [],
      "source": [
        "index = 1\n",
        "\n",
        "while index < 20:\n",
        "    print(index)\n",
        "    # neinkrementuji hodnotu v proměnné 'index'\n",
        "    # .. hodnota je v každém kroce 1 a smyčka nekončí.\n",
        "    # .. Ctrl + C ->"
      ]
    },
    {
      "cell_type": "markdown",
      "metadata": {
        "id": "ssjYDCWe18dA"
      },
      "source": [
        "<br>\n",
        "\n",
        "*poznámka*. výše ukázaná varianta představuje tzv. *nežádoucí nekonečnou smyčku*, kde vznikla chyba **v odsazené části zápisu**.\n",
        "\n",
        "Chyba ovšem může nastat i při **špatném ohlášení** v zadání smyčky *while*:"
      ]
    },
    {
      "cell_type": "code",
      "execution_count": null,
      "metadata": {
        "id": "EGvbbu2v18dA"
      },
      "outputs": [],
      "source": [
        "index = 1\n",
        "\n",
        "while index > 0:  # vyhodnocené ohlášení má stále hodnotu `True`\n",
        "    print(index)\n",
        "    index = index + 1"
      ]
    },
    {
      "cell_type": "markdown",
      "metadata": {
        "id": "7HJg6e4t18dA"
      },
      "source": [
        "*poznámka*. výše ukázaná varianta představuje tzv. *nežádoucí nekonečnou smyčku*, kde vznikla chyba **ve špatně zapsané podmínce**."
      ]
    },
    {
      "cell_type": "code",
      "execution_count": null,
      "metadata": {
        "id": "BfsQatOI18dA"
      },
      "outputs": [],
      "source": [
        "index = 1\n",
        "\n",
        "while index > 0:  # vyhodnocené ohlášení má stále hodnotu `True`\n",
        "    print(index)\n",
        "index = index + 1"
      ]
    },
    {
      "cell_type": "markdown",
      "metadata": {
        "id": "w1mvU1XW18dA"
      },
      "source": [
        "### Řízené nekonečné smyčky\n",
        "\n",
        "Nekonečný cyklus s `while` je možné formulovat jako *řádnou/žádoucí nekonečnou smyčku*:"
      ]
    },
    {
      "cell_type": "code",
      "execution_count": null,
      "metadata": {
        "id": "rn45lp9f18dA"
      },
      "outputs": [],
      "source": [
        "while True:\n",
        "    # blok kodu\n",
        "    if timeout:\n",
        "        break"
      ]
    },
    {
      "cell_type": "code",
      "execution_count": null,
      "metadata": {
        "id": "Qo44MI5z18dB"
      },
      "outputs": [],
      "source": [
        "while True:\n",
        "    # blok kodu\n",
        "    if timeout:\n",
        "        break\n",
        "else:\n",
        "    print(\"Nikdy nenastanu\") # vite proc?"
      ]
    },
    {
      "cell_type": "markdown",
      "source": [
        "Kde bych ale chtěl nekončnou smyčku vlastně používat? Nejčastěji pokud se čeká na nějaky vstup od uživatele a nebo obecně pokud provádíme opakovanou činnost bez předchozí znalosti kolik bude iterací."
      ],
      "metadata": {
        "id": "0rFLm8jWJ_3N"
      }
    },
    {
      "cell_type": "code",
      "execution_count": null,
      "metadata": {
        "scrolled": true,
        "id": "4-6udfyl18dB"
      },
      "outputs": [],
      "source": [
        "while True:\n",
        "    uziv_vstup = input(\"Zapiš libovolný text [nebo 'q' pro ukončení]: \")\n",
        "\n",
        "    if uziv_vstup == \"q\":\n",
        "        break\n",
        "    print(uziv_vstup.upper())\n",
        "\n",
        "print(\"Ukončuji ukázku!\")"
      ]
    },
    {
      "cell_type": "markdown",
      "source": [
        "Lze to i bez while True? Ano, ale neni to tak čitelné. Může se ale využit else větev."
      ],
      "metadata": {
        "id": "9z-t-EljLRy-"
      }
    },
    {
      "cell_type": "code",
      "execution_count": null,
      "metadata": {
        "scrolled": true,
        "id": "Im60Fl-V18dB"
      },
      "outputs": [],
      "source": [
        "switch = True\n",
        "\n",
        "while switch:\n",
        "    uziv_vstup = input(\"Zapiš libovolný text [nebo 'q' pro ukončení]: \")\n",
        "\n",
        "    if uziv_vstup == \"q\":\n",
        "        switch = False\n",
        "    print(uziv_vstup.capitalize())\n",
        "\n",
        "print(\"Ukončuji ukázku!\")"
      ]
    },
    {
      "cell_type": "code",
      "execution_count": null,
      "metadata": {
        "id": "iv7L3sSl18dB"
      },
      "outputs": [],
      "source": [
        "switch = True\n",
        "\n",
        "while switch:\n",
        "    uziv_vstup = input(\"Zapiš libovolný text [nebo 'q' pro ukončení]: \")\n",
        "\n",
        "    if uziv_vstup == \"q\":\n",
        "        switch = False\n",
        "    print(uziv_vstup.capitalize())\n",
        "else:\n",
        "    print(\"Konec while\")\n",
        "\n",
        "print(\"Ukončuji ukázku!\")"
      ]
    },
    {
      "cell_type": "markdown",
      "source": [
        "A proč to vlastně neděláme pomocí for cyklu? Neni jasné, co je rozsah našeho cyklu."
      ],
      "metadata": {
        "id": "6jmd2B4ELnGe"
      }
    },
    {
      "cell_type": "code",
      "execution_count": null,
      "metadata": {
        "id": "j2xafhnt18dB"
      },
      "outputs": [],
      "source": [
        "for dummy_var in range(??)\n",
        "    uziv_vstup = input(\"Zapiš libovolný text [nebo 'q' pro ukončení]: \")"
      ]
    },
    {
      "cell_type": "markdown",
      "metadata": {
        "id": "W9DD0Yyi18dC"
      },
      "source": [
        "<br>\n",
        "\n",
        "<img src=\"https://external-content.duckduckgo.com/iu/?u=https%3A%2F%2Ftse2.mm.bing.net%2Fth%3Fid%3DOIP.ZtuU0gV1oC0QdH6B74_D9QHaHa%26pid%3DApi&f=1\" width=\"200\" />\n",
        "\n",
        "\n",
        "\n",
        "## Walrus operátor\n",
        "\n",
        "---"
      ]
    },
    {
      "cell_type": "markdown",
      "metadata": {
        "id": "4CyYH1wD18dC"
      },
      "source": [
        "*Přiřazovací operátor* nebo jinak *walrus operátor* je formulace, která je v Pythonu poměrně nová (3.8+).\n",
        "\n",
        "<br>\n",
        "\n",
        "<img src=\"https://external-content.duckduckgo.com/iu/?u=https%3A%2F%2Ftse3.mm.bing.net%2Fth%3Fid%3DOIP.r9w05wm2Q3aDz0JQhKzdFQHaLH%26pid%3DApi&f=1&ipt=27bc4198fbf119d0e8a1f5612726a1ed133716846e38221ff883dd7e3ded06dd&ipo=images\" width=\"200\" />"
      ]
    },
    {
      "cell_type": "markdown",
      "metadata": {
        "id": "lchZM1NC18dC"
      },
      "source": [
        "Jde o zápis, který ti umožní **dva procesy**, při použití **jednoho operátoru**:\n",
        "1. nejprve **hodnotu přiřadí** proměnné,\n",
        "2. přímo ji použije."
      ]
    },
    {
      "cell_type": "markdown",
      "metadata": {
        "id": "udsudFf418dC"
      },
      "source": [
        "### Vytvoření hodnoty a uložení"
      ]
    },
    {
      "cell_type": "code",
      "execution_count": null,
      "metadata": {
        "id": "QFELLMQ618dC"
      },
      "outputs": [],
      "source": [
        "jmeno = \"Matous\""
      ]
    },
    {
      "cell_type": "code",
      "execution_count": null,
      "metadata": {
        "id": "SUq5Y7m618dC"
      },
      "outputs": [],
      "source": [
        "print(jmeno)"
      ]
    },
    {
      "cell_type": "code",
      "execution_count": null,
      "metadata": {
        "id": "I15-9JfM18dC"
      },
      "outputs": [],
      "source": [
        "print(jmeno = \"Matous\")"
      ]
    },
    {
      "cell_type": "code",
      "execution_count": null,
      "metadata": {
        "id": "zcMMY6hg18dC"
      },
      "outputs": [],
      "source": [
        "print(jmeno := \"Matous\")"
      ]
    },
    {
      "cell_type": "markdown",
      "metadata": {
        "id": "rmmtIW0s18dC"
      },
      "source": [
        "V předchozí ukázce jde čistě **o vysvětlivku**.\n",
        "\n",
        "**Proměnné** jinak nadále a přehledně zapis po jedné a pod sebe. :)\n",
        "\n",
        "Praktické ukázky skutečného využití najdeš níže."
      ]
    },
    {
      "cell_type": "code",
      "execution_count": null,
      "metadata": {
        "id": "fXw7qlTZ18dD"
      },
      "outputs": [],
      "source": [
        "while (uziv_vstup := input(\"Zapiš libovolný text [nebo 'q' pro ukončení]: \")) != \"q\":\n",
        "    print(uziv_vstup.upper())\n",
        "\n",
        "print(\"Ukončuji ukázku!\")"
      ]
    },
    {
      "cell_type": "markdown",
      "metadata": {
        "id": "sqJn6fyv18dD"
      },
      "source": [
        "### Kombinace s podmínkou"
      ]
    },
    {
      "cell_type": "code",
      "execution_count": null,
      "metadata": {
        "id": "aGaHZ8Up18dD"
      },
      "outputs": [],
      "source": [
        "jmeno = input(\"Zapiš jméno: \".upper())\n",
        "\n",
        "if jmeno == \"Matouš\":\n",
        "    print(\"Toto je \", jmeno, sep=\"\")\n",
        "else:\n",
        "    print(\"Tak \", jmeno, \", toho neznám.\", sep=\"\")"
      ]
    },
    {
      "cell_type": "markdown",
      "metadata": {
        "id": "pmcnWNcn18dD"
      },
      "source": [
        "Obzvlášť v kombinaci se **zabudovanými funkce** a *uživatelskými funkcemi* je nápomocný.\n",
        "\n",
        "Zásadní je **doplnění kulatých závorek**, kterými *interpretu* zdůrazníš pořadí:"
      ]
    },
    {
      "cell_type": "code",
      "execution_count": null,
      "metadata": {
        "id": "HQ1na3zq18dD"
      },
      "outputs": [],
      "source": [
        "TEXT = \"Zapiš jméno: \".upper()\n",
        "\n",
        "if (jmeno := input(TEXT)) == \"Matouš\":\n",
        "    print(\"Toto je \", jmeno, sep=\"\")\n",
        "else:\n",
        "    print(\"Tak \", jmeno, \", toho neznám.\", sep=\"\")"
      ]
    },
    {
      "cell_type": "markdown",
      "metadata": {
        "id": "fVD_JOqt18dD"
      },
      "source": [
        "Pokud zapomeneš kulaté závorky, ohlášení **nemusí logicky pracovat**:"
      ]
    },
    {
      "cell_type": "code",
      "execution_count": null,
      "metadata": {
        "id": "G2QCiomr18dD"
      },
      "outputs": [],
      "source": [
        "TEXT = \"Zapiš jméno: \".upper()\n",
        "\n",
        "if jmeno := input(TEXT) == \"Matouš\":\n",
        "    print(\"Toto je \", jmeno, sep=\"\")\n",
        "else:\n",
        "    print(\"Tak \", jmeno, \", toho neznám.\", sep=\"\")"
      ]
    },
    {
      "cell_type": "markdown",
      "metadata": {
        "id": "tFZoCQ9618dD"
      },
      "source": [
        "Copak se stane:\n",
        "1. *Interpret* nejprve uloží vstup do funkce `input()`,\n",
        "2. následně vloženou hodnotu porovná,\n",
        "3. výsledek (`True`/ `False`) uloží do proměnné `jmeno`."
      ]
    },
    {
      "cell_type": "markdown",
      "metadata": {
        "id": "356tOydI18dE"
      },
      "source": [
        "Pokud ti tedy dovede operátor `:=` šikovně pomoct, **určitě jej využij**.\n",
        "    \n",
        "Není nutné jej **zneužívat** v situacích, kdy je zápis málo čitelný, nebo špatně pochopitelný.\n",
        "\n",
        "Opatrně na **verze**.\n",
        "\n",
        "Pokud vyvíjíš na jiném prostředí, než produkčním, můžeš zjistit, že **má starší verzi Pythonu** a *walrus* nemusí podporovat."
      ]
    },
    {
      "cell_type": "markdown",
      "metadata": {
        "id": "m4EQFlL518dE"
      },
      "source": [
        "<br>\n",
        "\n",
        "<img src=\"https://external-content.duckduckgo.com/iu/?u=https%3A%2F%2Ftse2.mm.bing.net%2Fth%3Fid%3DOIP.dYsikmEP2d5YjzPcygU9cQHaHa%26pid%3DApi&f=1&ipt=b01ae127da2c6fcbd9b3c4aa14f8fb0a4e8c876ca7d20bfdb844e203c95e9850&ipo=images\" width=\"200\" />\n",
        "\n",
        "\n",
        "\n",
        "## Zkrácené přiřazování\n",
        "\n",
        "---"
      ]
    },
    {
      "cell_type": "markdown",
      "metadata": {
        "id": "ghkVQwbl18dE"
      },
      "source": [
        "Jde o **kratší způsob** pro úpravu hodnoty v existující proměnné.\n",
        "\n",
        "Efektivnější není jen způsob zápisu, ale také způsob zpracování."
      ]
    },
    {
      "cell_type": "markdown",
      "metadata": {
        "id": "3HCBEovc18dE"
      },
      "source": [
        "Doposud znáš tento zápis:\n",
        "1. **Vytvoříš hodnotu** v proměnné `x`,\n",
        "2. **upravíš hodnoty** v proměnné `x`,\n",
        "3. **použiješ** novou hodnotu `x`."
      ]
    },
    {
      "cell_type": "code",
      "execution_count": null,
      "metadata": {
        "id": "looyaX-v18dE"
      },
      "outputs": [],
      "source": [
        "x = 2"
      ]
    },
    {
      "cell_type": "code",
      "execution_count": null,
      "metadata": {
        "id": "qGZvyzT618dF"
      },
      "outputs": [],
      "source": [
        "x = x + 3"
      ]
    },
    {
      "cell_type": "code",
      "execution_count": null,
      "metadata": {
        "id": "q2nEBHu118dF"
      },
      "outputs": [],
      "source": [
        "print(x)"
      ]
    },
    {
      "cell_type": "markdown",
      "metadata": {
        "id": "uw396Dx818dF"
      },
      "source": [
        "### Augmented assignment\n",
        "\n",
        "Zkrácená varianta vypadá tak, že původní proměnnou `x` nepoužiješ a aritmetický operátor přesuneš přes rovnítko:"
      ]
    },
    {
      "cell_type": "code",
      "execution_count": null,
      "metadata": {
        "id": "D-Xk-hcV18dF"
      },
      "outputs": [],
      "source": [
        "x = 2"
      ]
    },
    {
      "cell_type": "code",
      "execution_count": null,
      "metadata": {
        "id": "hM-htpWB18dF"
      },
      "outputs": [],
      "source": [
        "x += 2"
      ]
    },
    {
      "cell_type": "code",
      "execution_count": null,
      "metadata": {
        "id": "tvXGNomE18dF"
      },
      "outputs": [],
      "source": [
        "print(x)"
      ]
    },
    {
      "cell_type": "code",
      "execution_count": null,
      "metadata": {
        "id": "IXA-f-nh18dF"
      },
      "outputs": [],
      "source": [
        "y = 2\n",
        "x += y\n",
        "-=\n",
        "*=\n",
        "/="
      ]
    },
    {
      "cell_type": "markdown",
      "metadata": {
        "id": "xCS0N4SX18dF"
      },
      "source": [
        "### Rozdíl\n",
        "\n",
        "Pro tebe, jako uživatele, je tento zápis pouze o něco kratší.\n",
        "\n",
        "Vypadá odlišně, jinak je stejně zapsaný pomocí 3 řádků.\n",
        "\n",
        "V čem je tedy lepší?\n",
        "\n",
        "<br>"
      ]
    },
    {
      "cell_type": "markdown",
      "metadata": {
        "id": "bMf2eE6n18dF"
      },
      "source": [
        "Lepší je z hlediska využití paměti.\n",
        "\n",
        "##### Klasický zápis rozdělený na jednotlivé kroky:\n",
        "1. Vytvoříš **novou hodnotu** a **uložíš ji** do proměnné,\n",
        "2. **načteš** původní hodnotu,\n",
        "3. **zvětšíš ji** o hodnotu 4,\n",
        "4. **uložíš** novou hodnotu,\n",
        "5. **vypíšeš ji**."
      ]
    },
    {
      "cell_type": "code",
      "execution_count": null,
      "metadata": {
        "id": "44DulOnx18dF"
      },
      "outputs": [],
      "source": [
        "x = 2"
      ]
    },
    {
      "cell_type": "code",
      "execution_count": null,
      "metadata": {
        "id": "tVseoftc18dF"
      },
      "outputs": [],
      "source": [
        "x = x + 4"
      ]
    },
    {
      "cell_type": "code",
      "execution_count": null,
      "metadata": {
        "id": "F1xLTizB18dG"
      },
      "outputs": [],
      "source": [
        "print(x)"
      ]
    },
    {
      "cell_type": "markdown",
      "metadata": {
        "id": "wK2cg9SO18dG"
      },
      "source": [
        "##### Ve zkráceném zápise:\n",
        "1. Vytvoříš **novou hodnotu** a **uložím ji** do proměnné,\n",
        "2. **zvětšíš existující hodnotu**,\n",
        "3. **vypíšeš ji**."
      ]
    },
    {
      "cell_type": "code",
      "execution_count": null,
      "metadata": {
        "id": "NrMaD40t18dG"
      },
      "outputs": [],
      "source": [
        "x = 2"
      ]
    },
    {
      "cell_type": "code",
      "execution_count": null,
      "metadata": {
        "id": "tfXXInfd18dG"
      },
      "outputs": [],
      "source": [
        "x += 4"
      ]
    },
    {
      "cell_type": "code",
      "execution_count": null,
      "metadata": {
        "id": "aij_FuO918dG"
      },
      "outputs": [],
      "source": [
        "print(x)"
      ]
    },
    {
      "cell_type": "markdown",
      "metadata": {
        "id": "Elxms7jG18dG"
      },
      "source": [
        "### Některé zkrácené operátory\n",
        "\n",
        "| Původní operátor | Zkrácená varianta |\n",
        "| :-: | :-: |\n",
        "| `+` | `+=` |\n",
        "| `-` | `-=` |\n",
        "| `*` | `*=` |\n",
        "| `/` | `/=` |\n",
        "| `**` | `**=` |"
      ]
    },
    {
      "cell_type": "markdown",
      "metadata": {
        "id": "wPjoX-Sr18dG"
      },
      "source": [
        "<br>\n",
        "\n",
        "<img src=\"https://external-content.duckduckgo.com/iu/?u=https%3A%2F%2Ftse1.mm.bing.net%2Fth%3Fid%3DOIP.yn3NMy-f9-hqQwXqFJ2AtwHaDt%26pid%3DApi&f=1&ipt=21b8ba84b48b23ddb2e3e0629a3748562777e0fbfa04fa9346da57b607ca5c08&ipo=images\" width=\"250\" />\n",
        "\n",
        "\n",
        "\n",
        "## Souhrn úvodu smyček\n",
        "\n",
        "---"
      ]
    },
    {
      "cell_type": "markdown",
      "metadata": {
        "id": "3P-6_nDU18dG"
      },
      "source": [
        "Nyní máš za sebou stručný úvod do problematiky **iterátorů**. Jaké pojmy jsou tedy zásadní."
      ]
    },
    {
      "cell_type": "markdown",
      "metadata": {
        "id": "ZEwfOYlJ18dG"
      },
      "source": [
        "### Iterable\n",
        "Anglické ozn., které představuje **takový objekt**, který umí vytvořit *iterátor* (pomůcka zab. funkce `iter()`)."
      ]
    },
    {
      "cell_type": "markdown",
      "metadata": {
        "id": "YquSnBxS18dG"
      },
      "source": [
        "### Iterator\n",
        "Anglické ozn., které představuje tzv. **iterátor**. Tedy objekt, který dovede podávat jednotlivé hodnoty (pomocí funkce `next()`)."
      ]
    },
    {
      "cell_type": "markdown",
      "metadata": {
        "id": "SUn87jnu18dH"
      },
      "source": [
        "### Iteration\n",
        "Anglické ozn., které představuje proces **iterace**. Což je proces, který postupně prochází hodnoty. Krok za krokem."
      ]
    },
    {
      "cell_type": "markdown",
      "metadata": {
        "id": "ozmVe7-o18dH"
      },
      "source": [
        "### For vs. while smyčka\n",
        "\n",
        "Kdy máš vybrat co, lze popsat jako:\n",
        "1. Pokud potřebuješ *iterovat* (~procházet) hodnotu od začátku do konce (tedy přes všechny hodnoty), použij `for`,\n",
        "2. pokud potřebuješ *iterovat*, dokud platí nějaké kritérium, použij `while`."
      ]
    },
    {
      "cell_type": "markdown",
      "source": [
        "# A teď si to vyzkoušíme!"
      ],
      "metadata": {
        "id": "VwHau_5DMcpQ"
      }
    },
    {
      "cell_type": "markdown",
      "metadata": {
        "id": "mvb-zzEr18dH"
      },
      "source": [
        "<br>\n",
        "\n",
        "##### Zadání\n",
        "\n",
        "Tvým úkolem bude odstraňovat písmena ze zadaného seznamu pomocí funkce `input`:\n",
        "```python\n",
        "pismena = [\"a\", \"a\", \"b\", \"c\", \"d\", \"a\", \"e\", \"g\", \"m\"]\n",
        "```\n",
        "\n",
        "Jakmile budou všechna písmena odstraněná, vypíše tvůj program:\n",
        "```python\n",
        "Seznam je prázdný!\n",
        "```\n",
        "\n",
        "Pokud zapíšeš písmeno, které v zadaném seznamu není, dostaneš upozornění:\n",
        "```python\n",
        "x není součástí písmen!\n",
        "```\n",
        "\n",
        "Průběh může vypadat následovně:\n",
        "```python\n",
        "Začátek: ['a', 'a', 'b', 'c', 'd', 'a', 'e', 'g', 'm']\n",
        "ktere písmeno chceš vyhodit? a\n",
        "Zbývají písmena ['a', 'b', 'c', 'd', 'a', 'e', 'g', 'm']\n",
        "ktere písmeno chceš vyhodit? a\n",
        "Zbývají písmena ['b', 'c', 'd', 'a', 'e', 'g', 'm']\n",
        "ktere písmeno chceš vyhodit? a\n",
        "Zbývají písmena ['b', 'c', 'd', 'e', 'g', 'm']\n",
        "ktere písmeno chceš vyhodit? b\n",
        "Zbývají písmena ['c', 'd', 'e', 'g', 'm']\n",
        "ktere písmeno chceš vyhodit? c\n",
        "Zbývají písmena ['d', 'e', 'g', 'm']\n",
        "ktere písmeno chceš vyhodit? d\n",
        "Zbývají písmena ['e', 'g', 'm']\n",
        "ktere písmeno chceš vyhodit? e\n",
        "Zbývají písmena ['g', 'm']\n",
        "ktere písmeno chceš vyhodit? x\n",
        "x není součástí písmen!\n",
        "ktere písmeno chceš vyhodit? g\n",
        "Zbývají písmena ['m']\n",
        "ktere písmeno chceš vyhodit? m\n",
        "Seznam je prázdný!\n",
        "```"
      ]
    },
    {
      "cell_type": "markdown",
      "source": [
        "# Možné řešení"
      ],
      "metadata": {
        "id": "g6cCNBoXyvYJ"
      }
    },
    {
      "cell_type": "code",
      "execution_count": null,
      "metadata": {
        "id": "rPafri0z18dH"
      },
      "outputs": [],
      "source": [
        "pismena = [\"a\", \"a\", \"b\", \"c\", \"d\", \"a\", \"e\", \"g\", \"m\"]\n",
        "prompt = \"ktere písmeno chceš vyhodit?\"\n",
        "\n",
        "print(\"Začátek\", pismena)\n",
        "while len(pismena):\n",
        "# while len(pismena) != 0:\n",
        "    input_user = input(\"ktere písmeno chceš vyhodit?\")\n",
        "    if input_user not in pismena:\n",
        "        print(input_user, \"není součástí písmen!\")\n",
        "    else:\n",
        "        pismena.remove(input_user)\n",
        "    if len(pismena) != 0:\n",
        "        print(\"Zbývají písmena\", pismena)\n",
        "\n",
        "print(\"Seznam je prázdný!\")"
      ]
    },
    {
      "cell_type": "code",
      "execution_count": null,
      "metadata": {
        "id": "UaP9zJHV18dI"
      },
      "outputs": [],
      "source": [
        "help(list.remove)"
      ]
    },
    {
      "cell_type": "code",
      "execution_count": null,
      "metadata": {
        "id": "heKf7MbT18dI"
      },
      "outputs": [],
      "source": []
    },
    {
      "cell_type": "code",
      "execution_count": null,
      "metadata": {
        "id": "H_M9d5p_18dI"
      },
      "outputs": [],
      "source": []
    },
    {
      "cell_type": "code",
      "execution_count": null,
      "metadata": {
        "id": "usnPlBLk18dI"
      },
      "outputs": [],
      "source": []
    },
    {
      "cell_type": "code",
      "execution_count": null,
      "metadata": {
        "id": "-sAyRn6F18dI"
      },
      "outputs": [],
      "source": []
    },
    {
      "cell_type": "code",
      "execution_count": null,
      "metadata": {
        "id": "QcKjfQYf18dI"
      },
      "outputs": [],
      "source": []
    },
    {
      "cell_type": "code",
      "execution_count": null,
      "metadata": {
        "id": "IQ2KEV_018dI"
      },
      "outputs": [],
      "source": []
    },
    {
      "cell_type": "code",
      "execution_count": null,
      "metadata": {
        "id": "iJPpdSXu18dI"
      },
      "outputs": [],
      "source": []
    },
    {
      "cell_type": "code",
      "execution_count": null,
      "metadata": {
        "id": "2XCi9Tl-18dI"
      },
      "outputs": [],
      "source": [
        "help(list.remove)"
      ]
    },
    {
      "cell_type": "code",
      "execution_count": null,
      "metadata": {
        "id": "v1Mp30Un18dI"
      },
      "outputs": [],
      "source": []
    },
    {
      "cell_type": "code",
      "execution_count": null,
      "metadata": {
        "id": "ji6PmnQt18dI"
      },
      "outputs": [],
      "source": []
    },
    {
      "cell_type": "code",
      "execution_count": null,
      "metadata": {
        "id": "VYgx1UOF18dJ"
      },
      "outputs": [],
      "source": []
    },
    {
      "cell_type": "code",
      "execution_count": null,
      "metadata": {
        "id": "dsg8MWm318dJ"
      },
      "outputs": [],
      "source": []
    },
    {
      "cell_type": "code",
      "execution_count": null,
      "metadata": {
        "id": "l6kkz0w918dJ"
      },
      "outputs": [],
      "source": []
    },
    {
      "cell_type": "code",
      "execution_count": null,
      "metadata": {
        "id": "aUJUQ-HK18dJ"
      },
      "outputs": [],
      "source": [
        "bool([])"
      ]
    },
    {
      "cell_type": "code",
      "execution_count": null,
      "metadata": {
        "id": "mrYbE18_18dJ"
      },
      "outputs": [],
      "source": [
        "bool([0])"
      ]
    },
    {
      "cell_type": "code",
      "execution_count": null,
      "metadata": {
        "id": "kle4ZkqW18dJ"
      },
      "outputs": [],
      "source": [
        "pismena = [\"a\", \"a\", \"b\", \"c\", \"d\", \"a\", \"e\", \"g\", \"m\"]\n",
        "\n",
        "while pismena:\n",
        "    print(\", \".join(pismena))\n",
        "\n",
        "    if (zadani := input(\"ktere písmeno chceš vyhodit?\")) not in pismena:\n",
        "        print(zadani + \" není součástí písmen!\")\n",
        "    else:\n",
        "        pismena.remove(zadani)\n",
        "\n",
        "else:\n",
        "    print(\"Konec hry!\")"
      ]
    },
    {
      "cell_type": "markdown",
      "metadata": {
        "id": "w6OXJifH18dJ"
      },
      "source": [
        "---"
      ]
    }
  ],
  "metadata": {
    "kernelspec": {
      "display_name": "Python 3",
      "language": "python",
      "name": "python3"
    },
    "language_info": {
      "codemirror_mode": {
        "name": "ipython",
        "version": 3
      },
      "file_extension": ".py",
      "mimetype": "text/x-python",
      "name": "python",
      "nbconvert_exporter": "python",
      "pygments_lexer": "ipython3",
      "version": "3.8.6"
    },
    "colab": {
      "provenance": [],
      "collapsed_sections": [
        "g6cCNBoXyvYJ"
      ]
    }
  },
  "nbformat": 4,
  "nbformat_minor": 0
}