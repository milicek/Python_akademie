{
  "cells": [
    {
      "cell_type": "code",
      "execution_count": null,
      "metadata": {
        "id": "VeZU_cCnYVgi"
      },
      "outputs": [],
      "source": [
        "python_imports_demo/\n",
        "│── main.py                         # Main script to demonstrate imports\n",
        "    ├── NAME = 3.14159\n",
        "│── constants.py                     # Global constants\n",
        "│   ├── PI = 3.14159\n",
        "│   ├── E = 2.718\n",
        "│   ├── GRAVITY = 9.81\n",
        "│\n",
        "│── math_operations/                 # Package for mathematical operations\n",
        "│   │── __init__.py                  # Makes this a package\n",
        "│   │── addition.py\n",
        "│   │   ├── DEFAULT_ADD = 10\n",
        "│   │   ├── PRECISION = 2\n",
        "│   │   ├── add(a, b)\n",
        "│   │── subtraction.py\n",
        "│   │   ├── DEFAULT_SUB = 5\n",
        "│   │   ├── LIMIT = -100\n",
        "│   │   ├── subtract(a, b)\n",
        "│   │── multiplication.py\n",
        "│   │   ├── FACTOR = 2\n",
        "│   │   ├── ROUND_MULTIPLY = True\n",
        "│   │   ├── multiply(a, b\n",
        "│   │── division.py\n",
        "│   │   ├── DEFAULT_DIVISOR = 1\n",
        "│   │   ├── TOLERANCE = 0.0001\n",
        "│   │   ├── divide(a, b)\n",
        "│\n",
        "│── greetings/                        # Package for greetings in different languages\n",
        "│   │── __init__.py\n",
        "│   │── english.py\n",
        "│   │   ├── GREETING = \"Hello\"\n",
        "│   │   ├── INFORMAL = \"Hey\"\n",
        "│   │   ├── say_hello()\n",
        "│   │── spanish.py\n",
        "│   │   ├── GREETING = \"Hola\"\n",
        "│   │   ├── INFORMAL = \"Qué tal\"\n",
        "│   │   ├── say_hola()\n",
        "│   │── french.py\n",
        "│   │   ├── GREETING = \"Bonjour\"\n",
        "│   │   ├── INFORMAL = \"Salut\"\n",
        "│   │   ├── say_bonjour()\n"
      ]
    },
    {
      "cell_type": "code",
      "execution_count": null,
      "metadata": {
        "id": "nJiMrDwENj_q"
      },
      "outputs": [],
      "source": [
        "## vstup\n",
        "czech_first_names = [\"Jan\", \"Petr\", \"Jiří\", \"Pavel\", \"Martin\", \"Tomáš\", \"Jaroslav\", \"Miroslav\", \"Zdeněk\", \"Václav\", \"Karel\", \"Josef\", \"Lukáš\", \"Milan\", \"Roman\", \"Aleš\", \"Ivana\", \"Martina\", \"Lenka\", \"Jana\"]\n",
        "\n",
        "czech_surnames = [\"Novák\", \"Svoboda\", \"Novotný\", \"Dvořák\", \"Černý\", \"Procházka\", \"Kučera\", \"Veselý\", \"Horák\", \"Němec\", \"Marek\", \"Pospíšil\", \"Pokorný\", \"Hájek\", \"Král\", \"Jelínek\", \"Růžička\", \"Beneš\", \"Fiala\", \"Sedláček\"]\n",
        "\n",
        "# nahodne vytvor jmeno a dogeneruj zbytek informaci\n",
        "# jake knihovny?\n",
        "\n",
        "## vystup\n",
        "zamestnanec = {\n",
        "    \"zamestnanec_id\": 1,\n",
        "    \"jmeno\": \"Petr\",\n",
        "    \"prijmeni\": \"Svoboda\",\n",
        "    \"telefon\": \"+420 777 666 555\",\n",
        "    \"vytvoreno\": '31/01/1996',\n",
        "}"
      ]
    },
    {
      "cell_type": "code",
      "execution_count": null,
      "metadata": {
        "id": "BFaBbAkdUDZX"
      },
      "outputs": [],
      "source": []
    },
    {
      "cell_type": "markdown",
      "metadata": {
        "id": "23Lxr1zFUFJG"
      },
      "source": [
        "## Možné řešení"
      ]
    },
    {
      "cell_type": "code",
      "execution_count": null,
      "metadata": {
        "id": "ph9o8JiMNj_s"
      },
      "outputs": [],
      "source": [
        "import random\n",
        "import time\n",
        "\n",
        "zamestnanec = {}\n",
        "zamestnanec[\"zamestnanec_id\"] = random.randint(0, 1000)\n",
        "zamestnanec[\"jmeno\"] = random.choice(czech_first_names)\n",
        "zamestnanec[\"prijmeni\"] = random.choice(czech_surnames)\n",
        "zamestnanec[\"vytvoreno\"] = time.strftime(\"%d/%m/%Y\",time.localtime(time.time() - 60*60*24*random.randint(1,1000)))\n",
        "zamestnanec"
      ]
    },
    {
      "cell_type": "raw",
      "metadata": {
        "id": "uNzCy9ulNj_v"
      },
      "source": [
        "## Co když ale ..."
      ]
    },
    {
      "cell_type": "code",
      "execution_count": null,
      "metadata": {
        "id": "OldxVoGKTPUA"
      },
      "outputs": [],
      "source": [
        "# co kdyz to chci pro tyto jmena\n",
        "\n",
        "german_first_names = [\"Maximilian\", \"Alexander\", \"Paul\", \"Leon\", \"Lukas\", \"Felix\", \"Julian\", \"Tim\", \"Finn\", \"Elias\", \"Anna\", \"Marie\", \"Sophia\", \"Emma\", \"Lina\", \"Mia\", \"Lea\", \"Hannah\", \"Emilia\", \"Lena\"]\n",
        "\n",
        "german_surnames = [\"Müller\", \"Schmidt\", \"Schneider\", \"Fischer\", \"Weber\", \"Meyer\", \"Wagner\", \"Becker\", \"Schulz\", \"Hoffmann\", \"Koch\", \"Richter\", \"Klein\", \"Wolf\", \"Schröder\", \"Neumann\", \"Schwarz\", \"Zimmermann\", \"Braun\", \"Krüger\"]\n"
      ]
    },
    {
      "cell_type": "code",
      "execution_count": null,
      "metadata": {
        "id": "d2AOd53mUR6O"
      },
      "outputs": [],
      "source": [
        "# copy-paste a problém je vyřešen..\n"
      ]
    },
    {
      "cell_type": "code",
      "execution_count": null,
      "metadata": {
        "id": "cezd37oaTa4m"
      },
      "outputs": [],
      "source": [
        "# a co když chci změnit formát data na US styl \"%m/%d/%Y\""
      ]
    },
    {
      "cell_type": "markdown",
      "metadata": {
        "id": "w_xb18FkNj_n"
      },
      "source": [
        "## Úvod\n",
        "\n",
        "---\n",
        "\n",
        "1. [Obecně k funkcím v Pythonu](#Obecně-k-funkcím-v-Pythonu),\n",
        "2. [uživatelské funkce](#Uživatelské-funkce),\n",
        "3. [vstupy funkcí](#Vstupy-funkcí),\n",
        "4. [dokumentace funkcí](#Dokumentace-funkcí),\n",
        "5. [co je \\_\\_name\\_\\_](#Co-je-__name__),\n",
        "5. [vícenásobné přiřazování](#),\n",
        "6. [domácí úkol](#Domácí-úkol)."
      ]
    },
    {
      "cell_type": "markdown",
      "metadata": {
        "id": "7KIrGbU2Nj_v"
      },
      "source": [
        "<br>\n",
        "\n",
        "<img src=\"https://external-content.duckduckgo.com/iu/?u=https%3A%2F%2Ftse4.mm.bing.net%2Fth%3Fid%3DOIP.-6PZmYfAfN6QP5-MjLBYmwHaHa%26pid%3DApi&f=1\" width=\"200\">\n",
        "\n",
        "## Obecně k funkcím v Pythonu\n",
        "\n",
        "---"
      ]
    },
    {
      "cell_type": "markdown",
      "metadata": {
        "id": "xDhSLvDnNj_v"
      },
      "source": [
        "V Pythonu už některé funkce znáš a umíš je používat.\n",
        "\n",
        "Třeba funkce `print` a `enumerate`. To ale nejsou jedinné funkce, které můžeš/budeš používat."
      ]
    },
    {
      "cell_type": "code",
      "execution_count": null,
      "metadata": {
        "id": "_4DCcE6cNj_v"
      },
      "outputs": [],
      "source": [
        "print(\"Praha\", \"Brno\", \"Ostrava\")"
      ]
    },
    {
      "cell_type": "code",
      "execution_count": null,
      "metadata": {
        "id": "toGZRsJWNj_v"
      },
      "outputs": [],
      "source": [
        "print(tuple(enumerate((\"Praha\", \"Brno\", \"Ostrava\"))))"
      ]
    },
    {
      "cell_type": "markdown",
      "metadata": {
        "id": "TQNYGwyANj_v"
      },
      "source": [
        "Obecné rozdělení funkcí v Pythonu:\n",
        "1. **Zabudované funkce**, (z angl. *built-in functions*), tedy `str`, `int`, `bool`, aj. ,\n",
        "2. **Uživatelské funkce**, (z angl. *user-defined functions*), klíčové slovo `def`.\n",
        "\n",
        "\n",
        "Největší rozdíl mezi **zabudovanými** a **uživatelskými funkcemi** je v tom, že *zabudované funkce* stačí **spustit pomocí jejich jména**.\n",
        "\n",
        "Zatímco *uživatelskou funkci* je nejprve nutné **definovat** (vytvořit) a teprve poté **použít** (spustit)."
      ]
    },
    {
      "cell_type": "markdown",
      "metadata": {
        "id": "f0kI4B_CNj_w"
      },
      "source": [
        "### Zabudované funkce\n",
        "\n",
        "Tyto funkce jsou velkými pomocníky, protože ti umožní zjednodušit různé procesy.\n",
        "\n",
        "Navíc můžeš jejich použití **doplnit volitelnými argumenty**.\n",
        "\n",
        "*Volitelný argument* je objekt, který můžeš (ale nemusíš) zadávat.\n",
        "\n",
        "Funkce umí pracovat bez něj, případně má dopředu nachystanou nějakou **počáteční hodnotu**."
      ]
    },
    {
      "cell_type": "code",
      "execution_count": null,
      "metadata": {
        "id": "LiGh-vf8Nj_w"
      },
      "outputs": [],
      "source": [
        "print(\"Ahoj jak se mas\")"
      ]
    },
    {
      "cell_type": "code",
      "execution_count": null,
      "metadata": {
        "id": "TFtuC4bZNj_w"
      },
      "outputs": [],
      "source": [
        "print(\"Matous\", \"Marek\", \"Lukas\", sep=\" o \")"
      ]
    },
    {
      "cell_type": "code",
      "execution_count": null,
      "metadata": {
        "id": "sAJHSvlYNj_w"
      },
      "outputs": [],
      "source": [
        "print()"
      ]
    },
    {
      "cell_type": "markdown",
      "metadata": {
        "id": "zQK62EaINj_w"
      },
      "source": [
        "Pokud funkci `print` napíšeš **bez argumentů**, s několika různými hodnotami za sebou, tvůj výstup se seřadí za sebe.\n",
        "\n",
        "Zobraz si nápovědu pomocí ohlášení `print(help(print))`:"
      ]
    },
    {
      "cell_type": "code",
      "execution_count": null,
      "metadata": {
        "id": "qWogBM8TNj_w"
      },
      "outputs": [],
      "source": [
        "help(print)"
      ]
    },
    {
      "cell_type": "markdown",
      "metadata": {
        "id": "b3wqlSRoNj_w"
      },
      "source": [
        "Všimni si, že **argument** `sep` má přednastavenou defaultní hodnotu – mezeru.\n",
        "\n",
        "Proto jsou jednotlivé hodnoty řazené s mezerou za sebou.\n",
        "\n",
        "\n",
        "Tuto hodnotu můžeš přepsat podle svých potřeb. Například vypsat jednotlivé hodnoty **pod sebe** pomocí speciálního znaku `\\n`:"
      ]
    },
    {
      "cell_type": "code",
      "execution_count": null,
      "metadata": {
        "id": "EbfZBD1mNj_w"
      },
      "outputs": [],
      "source": [
        "print(\"Matous\", \"Marek\", \"Lukas\", sep=\"\\n\")  # volitelný (také nepovinný) argument 'sep'"
      ]
    },
    {
      "cell_type": "markdown",
      "metadata": {
        "id": "nBrRiWrgNj_x"
      },
      "source": [
        "**Argumenty** můžeš používat téměř u všech **zabudovaných funkcí**.\n",
        "\n",
        "Proto pokud budeš potřebovat pracovat s **zabudovanými funkcemi** vždy zkontroluj, jestli neobsahují nějaký nepovinný argument, který ti pomůže.\n"
      ]
    },
    {
      "cell_type": "code",
      "execution_count": null,
      "metadata": {
        "id": "mW7jdzzeNj_x"
      },
      "outputs": [],
      "source": [
        "help(enumerate)"
      ]
    },
    {
      "cell_type": "code",
      "execution_count": null,
      "metadata": {
        "id": "JSZowwi8Nj_x"
      },
      "outputs": [],
      "source": [
        "jmena = (\"Matous\", \"Marek\", \"Lukas\")\n",
        "\n",
        "tuple(enumerate(jmena, start=3))"
      ]
    },
    {
      "cell_type": "markdown",
      "metadata": {
        "id": "Q_4_NYyVNj_x"
      },
      "source": [
        "<br>\n",
        "\n",
        "<img src=\"https://external-content.duckduckgo.com/iu/?u=https%3A%2F%2Ftse1.mm.bing.net%2Fth%3Fid%3DOIP.SdA4GDooZXTMbDZDgDA6aQAAAA%26pid%3DApi&f=1\" width=\"200\">\n",
        "\n",
        "## Uživatelské funkce\n",
        "\n",
        "---"
      ]
    },
    {
      "cell_type": "markdown",
      "metadata": {
        "id": "gKPWpp_nNj_x"
      },
      "source": [
        "Můžeš se dostat do situace, kdy žádná z nabízených *zabudovaných funkcí* nedělá přesně to, co potřebuješ.\n",
        "\n",
        "V takovém případě potřebuješ vytvořit vlastní funkci, která ti bude umět pomoct.\n",
        "\n",
        "<br>\n",
        "\n",
        "Tvůj úkol je napsat proces, který sečte **všechny číselné hodnoty** uvnitř sekvence."
      ]
    },
    {
      "cell_type": "code",
      "execution_count": null,
      "metadata": {
        "id": "nDrGNtBBNj_x"
      },
      "outputs": [],
      "source": [
        "ciselna_rada = [1, 2, 3, 4]"
      ]
    },
    {
      "cell_type": "code",
      "execution_count": null,
      "metadata": {
        "id": "1RLH84hiNj_x"
      },
      "outputs": [],
      "source": [
        "print(sum(ciselna_rada))"
      ]
    },
    {
      "cell_type": "code",
      "execution_count": null,
      "metadata": {
        "id": "EnG8NjGcNj_x"
      },
      "outputs": [],
      "source": [
        "ciselna_rada = [1, 2, 3, 4, 2.3]"
      ]
    },
    {
      "cell_type": "code",
      "execution_count": null,
      "metadata": {
        "id": "QD4F4989Nj_x"
      },
      "outputs": [],
      "source": [
        "print(sum(ciselna_rada))"
      ]
    },
    {
      "cell_type": "markdown",
      "metadata": {
        "id": "sJJQjcJ4Nj_7"
      },
      "source": [
        "Pomocí zabudované funkce `sum` to není žádný problém.\n",
        "\n",
        "<br>"
      ]
    },
    {
      "cell_type": "markdown",
      "metadata": {
        "id": "pxgqdNAANj_7"
      },
      "source": [
        "Co když sekvence obsahuje **neočekávaný datový typ**:"
      ]
    },
    {
      "cell_type": "code",
      "execution_count": null,
      "metadata": {
        "id": "3Nsxu4SeNj_7"
      },
      "outputs": [],
      "source": [
        "ciselna_rada = (1, \"2\", 3, \"dva\", 4, 12.2)"
      ]
    },
    {
      "cell_type": "code",
      "execution_count": null,
      "metadata": {
        "id": "9FPULS3eNj_7"
      },
      "outputs": [],
      "source": [
        "soucet_cisel = 0"
      ]
    },
    {
      "cell_type": "code",
      "execution_count": null,
      "metadata": {
        "id": "0nJhyWmBNj_7"
      },
      "outputs": [],
      "source": [
        "for cislo in ciselna_rada:\n",
        "    if isinstance(cislo, str) and not cislo.isnumeric():\n",
        "        continue # zalezi co chceme aby se stalo\n",
        "    soucet_cisel = soucet_cisel + int(cislo)\n",
        "    # soucet_cisel += int(cislo)\n",
        "else:\n",
        "    print(soucet_cisel)"
      ]
    },
    {
      "cell_type": "markdown",
      "metadata": {
        "id": "dXscbMcPNj_7"
      },
      "source": [
        "<br>\n",
        "\n",
        "Co když ale dostaneš **pět různých sekvencí**?\n",
        "\n",
        "Můžeš samozřejmě přepsat zápis pro každou sekvenci zvlášť.\n",
        "\n",
        "Ale co když těch sekvencí bude **100**, **10 000**?\n",
        "\n",
        "Právě proto existují **uživatelské funkce**, kterou stačí **jedenkrát definovat** a následně spouštět kolikrát potřebuješ:"
      ]
    },
    {
      "cell_type": "code",
      "execution_count": null,
      "metadata": {
        "id": "t-I5DE4bNj_7"
      },
      "outputs": [],
      "source": [
        "ciselna_r_1 = (1, 2.0, 3, \"a\")\n",
        "ciselna_r_2 = (1, 2, 3, 4.0)\n",
        "ciselna_r_3 = (5, 6.0, 7, 8)\n",
        "ciselna_r_4 = (9, 10, 11, 12)"
      ]
    },
    {
      "cell_type": "code",
      "execution_count": null,
      "metadata": {
        "id": "ijWXnuM4Nj_8"
      },
      "outputs": [],
      "source": [
        "soucet_cisel = 0\n",
        "for cislo in ciselna_r_1:\n",
        "    if isinstance(cislo, str) and not cislo.isnumeric():\n",
        "        continue\n",
        "    soucet_cisel = soucet_cisel + int(cislo)\n",
        "    # soucet_cisel += int(cislo)\n",
        "else:\n",
        "    print(soucet_cisel)"
      ]
    },
    {
      "cell_type": "code",
      "execution_count": null,
      "metadata": {
        "id": "Qz3uREgdNj_8"
      },
      "outputs": [],
      "source": [
        "soucet_cisel = 0\n",
        "for cislo in ciselna_r_2:\n",
        "    if isinstance(cislo, str) and not cislo.isnumeric():\n",
        "        continue\n",
        "    soucet_cisel = soucet_cisel + int(cislo)\n",
        "    # soucet_cisel += int(cislo)\n",
        "else:\n",
        "    print(soucet_cisel)"
      ]
    },
    {
      "cell_type": "code",
      "execution_count": null,
      "metadata": {
        "id": "B_XMr2PMNj_8"
      },
      "outputs": [],
      "source": [
        "soucet_cisel = 0\n",
        "for cislo in ciselna_r_3:\n",
        "    if isinstance(cislo, str) and not cislo.isnumeric():\n",
        "        continue\n",
        "    soucet_cisel = soucet_cisel + int(cislo)\n",
        "    # soucet_cisel += int(cislo)\n",
        "else:\n",
        "    print(soucet_cisel)"
      ]
    },
    {
      "cell_type": "code",
      "execution_count": null,
      "metadata": {
        "id": "0dlmCkPhNj_8"
      },
      "outputs": [],
      "source": [
        "soucet_cisel = 0\n",
        "for cislo in ciselna_r_4:\n",
        "    if isinstance(cislo, str) and not cislo.isnumeric():\n",
        "        continue\n",
        "    soucet_cisel = soucet_cisel + int(cislo)\n",
        "    # soucet_cisel += int(cislo)\n",
        "else:\n",
        "    print(soucet_cisel)"
      ]
    },
    {
      "cell_type": "markdown",
      "metadata": {
        "id": "wrIZOgLTibCP"
      },
      "source": [
        "Doufám, že to nepřipomíná váš projekt číslo 1..."
      ]
    },
    {
      "cell_type": "markdown",
      "metadata": {
        "id": "yIdyhcF9V0s4"
      },
      "source": [
        "### A nebo na to jít přes funkce"
      ]
    },
    {
      "cell_type": "code",
      "execution_count": null,
      "metadata": {
        "id": "9lRReJklNj_8"
      },
      "outputs": [],
      "source": []
    },
    {
      "cell_type": "code",
      "execution_count": null,
      "metadata": {
        "id": "ulk2qrjZNj_8"
      },
      "outputs": [],
      "source": [
        "# Zatím neznámá syntaxe\n",
        "def secti_vsechny_cisla(sekvence):\n",
        "    soucet_cisel = 0\n",
        "\n",
        "    for cislo in sekvence:\n",
        "        if isinstance(cislo, str) and not cislo.isnumeric():\n",
        "            continue\n",
        "        soucet_cisel = soucet_cisel + int(cislo)\n",
        "    else:\n",
        "        print(soucet_cisel)"
      ]
    },
    {
      "cell_type": "code",
      "execution_count": null,
      "metadata": {
        "id": "DDx2xI9tNj_8"
      },
      "outputs": [],
      "source": [
        "secti_vsechny_cisla(ciselna_r_1)\n",
        "secti_vsechny_cisla(ciselna_r_2)\n",
        "secti_vsechny_cisla(ciselna_r_3)\n",
        "secti_vsechny_cisla(ciselna_r_4)"
      ]
    },
    {
      "cell_type": "markdown",
      "metadata": {
        "id": "ieKECNkANj_8"
      },
      "source": [
        "Ukázku výše **nemusíš nyní chápat**.\n",
        "\n",
        "Je tu hlavně pro ilustraci, jak je důležité mít uživatelské funkce."
      ]
    },
    {
      "cell_type": "markdown",
      "metadata": {
        "id": "TNmxrFZ_Nj_9"
      },
      "source": [
        "### Předpis funkcí\n",
        "\n",
        "---\n",
        "\n",
        "Jak tedy *uživatelskou funkci* správně používat?\n",
        "\n",
        "Z jakých kroků se správné použití skládá?\n",
        "\n",
        "<br>\n",
        "\n",
        "Nejprve musíš funkci:\n",
        "1. Jednou **definovat** (*vytvořit*),\n",
        "2. a potom ji můžeš začít opakovaně **spouštět**.\n",
        "\n",
        "Pořadí je **důležité**! Takže nemůžeš spouštět takovou uživatelskou funkci, kterou **prvně nedefinuješ**.\n"
      ]
    },
    {
      "cell_type": "code",
      "execution_count": null,
      "metadata": {
        "id": "pBMdDDiLNj_9"
      },
      "outputs": [],
      "source": [
        "vysledek = scitej_dve_hodnoty(1, 14)"
      ]
    },
    {
      "cell_type": "markdown",
      "metadata": {
        "id": "J_x1cQibWGCg"
      },
      "source": [
        "#### I definice a pojmenování argumentů může být součást dokumentace (a někdy ji dokonce nahradit)"
      ]
    },
    {
      "cell_type": "code",
      "execution_count": null,
      "metadata": {
        "id": "4a63Dn0GNj_9"
      },
      "outputs": [],
      "source": [
        "def scitej_dve_hodnoty(cislo_1, cislo_2):             # POVINNÉ: Předpis funkce a parametry funkce\n",
        "    \"\"\"\n",
        "    Vraci soucet dvou hodnot uvnitr parametru.\n",
        "    \"\"\"                                               # VOLITELNÉ: dokumentace funkce\n",
        "    return cislo_1 + cislo_2                          # VOLITELNÉ: vracené hodnoty"
      ]
    },
    {
      "cell_type": "code",
      "execution_count": null,
      "metadata": {
        "id": "iw57RzT9Nj_9"
      },
      "outputs": [],
      "source": [
        "def zkontroluj_udaje_udelej_statistiku_vypis_statistiku(...) # ta funkce dela moc veci"
      ]
    },
    {
      "cell_type": "code",
      "execution_count": null,
      "metadata": {
        "id": "vghW_RbYNj_9"
      },
      "outputs": [],
      "source": [
        "def zkontroluj_udaje(x, y): # co je x a co je y\n",
        "\n",
        "def zkontroluj_udaje(jmeno, heslo): # lepsi\n"
      ]
    },
    {
      "cell_type": "markdown",
      "metadata": {
        "id": "brYIe0zpNj__"
      },
      "source": [
        "Pokud si předchozí ukázku spustíš, nic se nestane. Je to kvůli tomu, že funkci **pouze definuješ** a nespouštíš.\n",
        "\n",
        "<br>\n",
        "\n",
        "V příkladu si můžeš všimnout těchto **charakteristických rysů** pro uživatelskou funkci:\n",
        "1. `def` je *klíčový výraz* označující předpis (definici) funkce,\n",
        "2. `scitej_dve_hodnoty` je tvoje označení funkce, díky kterému můžeš funkci později spustit (ideálně má představovat účel funkce),\n",
        "3. `(cislo_1, cislo_2)` v kulaté závorce jsou umístěné **parametry** funkce. Tedy proměnné, se kterými chceš, aby funkce pracovala.\n",
        "4. `:` předpisový řádek musí být ukončený dvojtečkou (jako u podmínkových zápisů, cyklů, aj.),\n",
        "5. `\"\"\"Vraci soucet dvou ..\"\"\"` na odsazeném řádku následuje *docstring*, tedy bližší popis účelu funkce (zejména pokud jméno nedostačuje),\n",
        "6. `return` ohlášení z funkce vrací žádané hodnoty (nemusí být součástí funkce vždy)."
      ]
    },
    {
      "cell_type": "markdown",
      "metadata": {
        "id": "InSZsQBVNj__"
      },
      "source": [
        "### Spuštění funkcí\n",
        "\n",
        "---\n",
        "\n",
        "Takže pokud máš funkci definovanou, můžeš ji spouštět kolikrát chceš a kde chceš (samozřejmě potom, co ji definuješ)."
      ]
    },
    {
      "cell_type": "code",
      "execution_count": null,
      "metadata": {
        "id": "Z0ELoFn1Nj__"
      },
      "outputs": [],
      "source": [
        "def scitej_dve_hodnoty(cislo_1, cislo_2):             # POVINNÉ: Předpis funkce a parametry funkce\n",
        "    \"\"\"\n",
        "    Vraci soucet dvou hodnot uvnitr parametru.\n",
        "    \"\"\"                                               # VOLITELNÉ: dokumentace funkce\n",
        "    return cislo_1 + cislo_2                          # VOLITELNÉ: vracené hodnoty"
      ]
    },
    {
      "cell_type": "code",
      "execution_count": null,
      "metadata": {
        "id": "VW-_rKBGNj__"
      },
      "outputs": [],
      "source": [
        "soucet_1 = scitej_dve_hodnoty(1, 14)  # 1. spuštění funkce\n",
        "soucet_2 = scitej_dve_hodnoty(2, 8)   # 2. spuštění funkce"
      ]
    },
    {
      "cell_type": "code",
      "execution_count": null,
      "metadata": {
        "id": "nYwfVBFHNj__"
      },
      "outputs": [],
      "source": [
        "print(soucet_1, soucet_2, sep=\"\\n\")"
      ]
    },
    {
      "cell_type": "markdown",
      "metadata": {
        "id": "K7eSPFFxNj__"
      },
      "source": [
        "### Které chyby jsou nejčastější\n",
        "* Chyby v syntaxi (většinou nás Python interpret upozorní)\n",
        "* Sémantické chyby (poznáme většinou na jiném místě, než vznikly)"
      ]
    },
    {
      "cell_type": "code",
      "execution_count": null,
      "metadata": {
        "id": "lppPxXU_NkAC"
      },
      "outputs": [],
      "source": [
        "scitej_dve_hodnoty  # zapoměl jsem závorky"
      ]
    },
    {
      "cell_type": "code",
      "execution_count": null,
      "metadata": {
        "id": "YxO8uZkGNkAC"
      },
      "outputs": [],
      "source": [
        "x = scitej_dve_hodnoty\n",
        "print(x - 1)"
      ]
    },
    {
      "cell_type": "code",
      "execution_count": null,
      "metadata": {
        "id": "2F7r4BbPNkAC"
      },
      "outputs": [],
      "source": [
        "scitej_dve_hodnoty()  # chybějící vstupní hodnoty, tzv. argumenty"
      ]
    },
    {
      "cell_type": "code",
      "execution_count": null,
      "metadata": {
        "id": "TAaMeQV9NkAC"
      },
      "outputs": [],
      "source": [
        "scitej_dve_hodnoty(1, 9, 5)  # špatný počet argumentů při spouštění"
      ]
    },
    {
      "cell_type": "code",
      "execution_count": null,
      "metadata": {
        "id": "x-rD9uQ3NkAC"
      },
      "outputs": [],
      "source": [
        "scitej_dve_hodnoty(1, 9  # zapoměl jsem závorky"
      ]
    },
    {
      "cell_type": "code",
      "execution_count": null,
      "metadata": {
        "id": "SolT6uMnNkAC"
      },
      "outputs": [],
      "source": [
        "vysledek = scitej_dve_hodnoty(2, 3)"
      ]
    },
    {
      "cell_type": "code",
      "execution_count": null,
      "metadata": {
        "id": "XFIuYKvuNkAC"
      },
      "outputs": [],
      "source": [
        "print(vysledek)"
      ]
    },
    {
      "cell_type": "markdown",
      "metadata": {
        "id": "koJdqj7kNkAD"
      },
      "source": [
        "Pár detailů pro spuštění funkcí:\n",
        "1. Funkci *spouštíš* přes její **jméno a kulaté závorky**,\n",
        "2. při definování, do kulatých závorek píšeš obecné proměnné, **parametry** funkcí (zajištují obecné použití),\n",
        "3. při spouštění, do kulatých závorek musíš zapsat skutečné hodnoty, tedy **argumenty** funkcí,\n",
        "4. argumenty si funkce sama skládá do parametrů podle několika vzorů,\n",
        "5. pokud má funkce vracet hodnoty, obsahuje ohlášení `return`,\n",
        "6. vrácenou hodnotu si musíš schovat do proměnné (`soucet_1`, `soucet_2`). Pokud to neuděláš, o součet **přijdeš**."
      ]
    },
    {
      "cell_type": "code",
      "execution_count": null,
      "metadata": {
        "id": "sMc6y5Ra3SrK"
      },
      "outputs": [],
      "source": [
        "# Úkol: přepište generátor nádhoných zaměstnanců z úvodu jako funkci"
      ]
    },
    {
      "cell_type": "code",
      "execution_count": null,
      "metadata": {
        "id": "8lRfUIGf3iYK"
      },
      "outputs": [],
      "source": [
        "import random\n",
        "import time\n",
        "\n",
        "zamestnanec = {}\n",
        "zamestnanec[\"zamestnanec_id\"] = random.randint(0, 1000)\n",
        "zamestnanec[\"jmeno\"] = random.choice(czech_first_names)\n",
        "zamestnanec[\"prijmeni\"] = random.choice(czech_surnames)\n",
        "zamestnanec[\"vytvoreno\"] = time.strftime(\"%d/%m/%Y\",time.localtime(time.time() - 60*60*24*random.randint(1,1000)))\n",
        "zamestnanec\n",
        "\n",
        "def random_zamestnanec(jmeno: list, prijmeni: list) -> dict:\n",
        "    zamestnanec = {}\n",
        "    zamestnanec[\"zamestnanec_id\"] = random.randint(0, 1000)\n",
        "    zamestnanec[\"jmeno\"] = random.choice(jmeno)\n",
        "    zamestnanec[\"prijmeni\"] = random.choice(prijmeni)\n",
        "    zamestnanec[\"vytvoreno\"] = time.strftime(\"%d/%m/%Y\",time.localtime(time.time() - 60*60*24*random.randint(1,1000)))\n",
        "\n",
        "    return zamestnanec"
      ]
    },
    {
      "cell_type": "markdown",
      "metadata": {
        "id": "7MaBA2AkNkAD"
      },
      "source": [
        "##### Demo: importování - kde se potkává lekce číslo 6 a 7"
      ]
    },
    {
      "cell_type": "markdown",
      "metadata": {
        "id": "UsqKVuIZNkAD"
      },
      "source": [
        "<br>\n",
        "\n",
        "<img src=\"https://external-content.duckduckgo.com/iu/?u=https%3A%2F%2Ftse4.mm.bing.net%2Fth%3Fid%3DOIP.8xc1q9ugaYbcV9Iu5UvRnwHaHa%26pid%3DApi&f=1\" width=\"200\">\n",
        "\n",
        "### Vstupy funkcí, rozdělení\n",
        "\n",
        "---\n"
      ]
    },
    {
      "cell_type": "markdown",
      "metadata": {
        "id": "ylmfWIUuNkAE"
      },
      "source": [
        "<br>\n",
        "\n",
        "<img src=\"http://mathinsight.org/media/image/image/function_machine.png\" width=\"400\">"
      ]
    },
    {
      "cell_type": "markdown",
      "metadata": {
        "id": "cCPHJ4kONkAE"
      },
      "source": [
        "Obecně funkce pracuje se **vstupy**.\n",
        "\n",
        "Tento pojem souhrnně označuje nejen *parametry*, ale také *argumenty*.\n",
        "\n",
        "Ty jsou potom do funkce dávkované dle několika vzorů.\n",
        "\n",
        "<br>\n",
        "\n",
        "Rozdíl mezi nimi je následující:\n",
        "- **parametry** slouží jako obecné proměnné při definici (placeholder),\n",
        "- **argumenty** jsou konkrétní hodnoty, které vkládáš při spouštění.\n",
        "\n",
        "<br>\n",
        "\n",
        "Prohlédni si ukázku:"
      ]
    },
    {
      "cell_type": "code",
      "execution_count": null,
      "metadata": {
        "id": "87cS59e1NkAE"
      },
      "outputs": [],
      "source": [
        "def spoj_cele_jmeno(jmeno, prijmeni): # parametr\n",
        "    \"\"\"\n",
        "    Spoj zformatovane hodnoty v parametrech.\n",
        "\n",
        "    Priklad:\n",
        "    >>> formatuj_cele_jmeno(\"Petr\", \"Svetr\")\n",
        "    p.svetr\n",
        "    \"\"\"\n",
        "    return \".\".join(\n",
        "        (\n",
        "            jmeno[0].lower(),\n",
        "            prijmeni.lower()\n",
        "        )\n",
        "    )"
      ]
    },
    {
      "cell_type": "code",
      "execution_count": null,
      "metadata": {
        "id": "umbpF3diNkAE"
      },
      "outputs": [],
      "source": [
        "print(spoj_cele_jmeno(\"Adam\", \"Novak\")) # argument"
      ]
    },
    {
      "cell_type": "markdown",
      "metadata": {
        "id": "haUgnemQNkAE"
      },
      "source": [
        "Co jsou tedy **parametry** a co **argumenty**?"
      ]
    },
    {
      "cell_type": "markdown",
      "metadata": {
        "id": "7SVfk6ItNkAE"
      },
      "source": [
        "<br>\n",
        "\n",
        "<img src=\"https://external-content.duckduckgo.com/iu/?u=https%3A%2F%2Ftse1.mm.bing.net%2Fth%3Fid%3DOIP.uufe_GDvF2057NFWgKOVXwAAAA%26pid%3DApi&f=1\" width=\"200\">\n",
        "\n",
        "## Dokumentace funkcí\n",
        "\n",
        "---\n"
      ]
    },
    {
      "cell_type": "markdown",
      "metadata": {
        "id": "5A_-VMrBNkAE"
      },
      "source": [
        "Psát **dokumentaci** funkce resp. *docstring* je volitelnou záležitostí, ale je to doporučené. Stejně jako:\n",
        "\n",
        "### Důsledné jméno funkce\n",
        "\n",
        "Někdy potřebuješ vytvořit jednoduchou funkci, jejíž účel plně vystihuje její **jméno**:"
      ]
    },
    {
      "cell_type": "code",
      "execution_count": null,
      "metadata": {
        "id": "zR767PW5NkAE"
      },
      "outputs": [],
      "source": [
        "def vynasob_dve_cisla(x, y):\n",
        "    return x * y"
      ]
    },
    {
      "cell_type": "code",
      "execution_count": null,
      "metadata": {
        "id": "ykfblJXkNkAE"
      },
      "outputs": [],
      "source": [
        "print(vynasob_dve_cisla(2, 8))"
      ]
    },
    {
      "cell_type": "code",
      "execution_count": null,
      "metadata": {
        "id": "tr3ZzPj3NkAE"
      },
      "outputs": [],
      "source": [
        "def spoj_cele_jmeno(x, y): # spatne\n",
        "    \"\"\"\n",
        "    Spoj zformatovane hodnoty v parametrech.\n",
        "\n",
        "    Priklad:\n",
        "    >>> formatuj_cele_jmeno(\"Petr\", \"Svetr\")\n",
        "    p.svetr\n",
        "    \"\"\"\n",
        "    return \".\".join(\n",
        "        (\n",
        "            x[0].lower(),\n",
        "            y.lower()\n",
        "        )\n",
        "    )"
      ]
    },
    {
      "cell_type": "markdown",
      "metadata": {
        "id": "ovAKt-J9NkAF"
      },
      "source": [
        "V takovém případě **není potřeba** zapisovat *docstring*.\n",
        "\n",
        "<br>\n",
        "\n",
        "Někdy se ale popis může hodit. Zejména tehdy pokud **jméno** *uživatelské funkce* **nedostačuje**:"
      ]
    },
    {
      "cell_type": "code",
      "execution_count": null,
      "metadata": {
        "id": "EHqFSWi3NkAF"
      },
      "outputs": [],
      "source": [
        "def vypocitej_vyskyt_dat(pismena):\n",
        "    vyskyt = dict()\n",
        "\n",
        "    for slovo in pismena:\n",
        "        vyskyt[slovo] = vyskyt.setdefault(slovo, 0) + 1  # overkill pro počítání výskytů\n",
        "    else:\n",
        "        return vyskyt"
      ]
    },
    {
      "cell_type": "code",
      "execution_count": null,
      "metadata": {
        "id": "olPfK8nKNkAF"
      },
      "outputs": [],
      "source": [
        "print(vypocitej_vyskyt_dat([\"a\", \"b\", \"a\", \"c\", \"d\", \"b\", \"a\"]))"
      ]
    },
    {
      "cell_type": "markdown",
      "metadata": {
        "id": "EAtcO6_MNkAF"
      },
      "source": [
        "Nyní už **není zcela patrné**, jaký je účel funkce, že?\n",
        "\n",
        "<br>\n",
        "\n",
        "### Popisek funkce\n",
        "\n",
        "**Jméno** samotné funkce, v ukázce výš, není dostačující:"
      ]
    },
    {
      "cell_type": "code",
      "execution_count": null,
      "metadata": {
        "id": "AzkeQf3PNkAF"
      },
      "outputs": [],
      "source": [
        "def vypocitej_vyskyt_dat(pismena):\n",
        "    \"\"\"\n",
        "    Vrať slovník, který obsahuje výčet jednotlivých prvků v zadaném parametru.\n",
        "    \"\"\"\n",
        "    vyskyt = dict()\n",
        "\n",
        "    for slovo in pismena:\n",
        "        vyskyt[slovo] = vyskyt.setdefault(slovo, 0) + 1\n",
        "    else:\n",
        "        return vyskyt"
      ]
    },
    {
      "cell_type": "code",
      "execution_count": null,
      "metadata": {
        "id": "G5nAI1vCNkAF"
      },
      "outputs": [],
      "source": [
        "print(vypocitej_vyskyt_dat((\"a\", \"b\", \"a\", \"c\", \"d\", \"b\", \"a\")))"
      ]
    },
    {
      "cell_type": "markdown",
      "metadata": {
        "id": "NwNfPC7WNkAF"
      },
      "source": [
        "Jednou větou **vysvětlená podstata** této *uživatelské funkce* lépe popíše účel funkce `vypocitej_vyskyt_dat`.\n",
        "\n",
        "<br>\n",
        "\n",
        "Dále můžeš tuto *nápovědu* získat pomocí zabudované funkce `help`:"
      ]
    },
    {
      "cell_type": "code",
      "execution_count": null,
      "metadata": {
        "id": "22RRy-pSNkAF"
      },
      "outputs": [],
      "source": [
        "help(vypocitej_vyskyt_dat)"
      ]
    },
    {
      "cell_type": "code",
      "execution_count": null,
      "metadata": {
        "id": "Qm8Bsy0RNkAG"
      },
      "outputs": [],
      "source": [
        "def odecti_dve_cisla(cislo_1: int, cislo_2: int) -> int:\n",
        "    \"\"\"\n",
        "    Funkce slouzi jako cast kalkulacky a umoznuje odcitat cisla\n",
        "    :param cislo_1: Prvni cislo\n",
        "    :param cislo_2: Druhe cislo\n",
        "    :return: Rozdil cisel\n",
        "    \"\"\"\n",
        "    return cislo_1 - cislo_2"
      ]
    },
    {
      "cell_type": "code",
      "execution_count": null,
      "metadata": {
        "id": "r3ftC3tPNkAG"
      },
      "outputs": [],
      "source": [
        "help(odecti_dve_cisla)"
      ]
    },
    {
      "cell_type": "markdown",
      "metadata": {
        "id": "eiMNxWlaNkAG"
      },
      "source": [
        "<br>\n",
        "\n",
        "\n",
        "### Vysvětlivky parametrů a vrácené hodnoty\n",
        "\n",
        "Pokud je krátký *docstring* **nedostatečný**, nebo pracuješ s různými **parametry**, které jsou pro uživatele komplikované, můžeš je také popsat:"
      ]
    },
    {
      "cell_type": "code",
      "execution_count": null,
      "metadata": {
        "id": "yR8y5_LONkAG"
      },
      "outputs": [],
      "source": [
        "def vypocitej_vyskyt_dat(pismena):\n",
        "    \"\"\"\n",
        "    Vrať slovník, který obsahuje výčet jednotlivých prvků v zadaném parametu.\n",
        "\n",
        "    :param pismena: parametr \"pismena\" obsahující zadaný text.\n",
        "    :type pismena: tuple\n",
        "    :return: hodnota se znaky z textu a počet jejich výskytů.\n",
        "    :rtype: dict\n",
        "    \"\"\"\n",
        "    vyskyt = {}\n",
        "\n",
        "    for slovo in pismena:\n",
        "        vyskyt[slovo] = vyskyt.setdefault(slovo, 0) + 1\n",
        "\n",
        "    return vyskyt"
      ]
    },
    {
      "cell_type": "code",
      "execution_count": null,
      "metadata": {
        "id": "H8Sv4HRuNkAG"
      },
      "outputs": [],
      "source": [
        "print(vypocitej_vyskyt_dat((\"a\", \"b\", \"a\", \"c\", \"d\", \"b\", \"a\")))"
      ]
    },
    {
      "cell_type": "markdown",
      "metadata": {
        "id": "ewTu3_AANkAG"
      },
      "source": [
        "<br>\n",
        "\n",
        "### Příklad průběhu funkce\n",
        "\n",
        "Někdy je dobrá ukázka lepší jak tisíc slov, proto je později vhodné úvadět **příklad použití**:"
      ]
    },
    {
      "cell_type": "code",
      "execution_count": null,
      "metadata": {
        "id": "XySZQXmtNkAG"
      },
      "outputs": [],
      "source": [
        "def vypocitej_vyskyt_dat(pismena):\n",
        "    \"\"\"\n",
        "    Vrať slovník, který obsahuje výčet jednotlivých prvků v zadaném parametru.\n",
        "\n",
        "    :param pismena: parametr \"pismena\" obsahující zadaný text.\n",
        "    :type pismena: tuple\n",
        "    :return: slovník se znaky z textu a počet jejich výskytů.\n",
        "    :rtype: dict\n",
        "\n",
        "    :Example:\n",
        "    >>> vysledek = vypocitej_vyskyt_dat((\"a\", \"b\", \"a\"))\n",
        "    >>> vysledek\n",
        "    {'a': 2, 'b': 1}\n",
        "    \"\"\"\n",
        "    vyskyt = dict()\n",
        "\n",
        "    for slovo in pismena:\n",
        "        vyskyt[slovo] = vyskyt.setdefault(slovo, 0) + 1\n",
        "\n",
        "    return vyskyt"
      ]
    },
    {
      "cell_type": "code",
      "execution_count": null,
      "metadata": {
        "id": "-SELF1UENkAH"
      },
      "outputs": [],
      "source": [
        "print(vypocitej_vyskyt_dat((\"a\", \"b\", \"a\", \"c\", \"d\", \"b\", \"a\")))"
      ]
    },
    {
      "cell_type": "markdown",
      "metadata": {
        "id": "QHsE2uXGNkAH"
      },
      "source": [
        "Je tedy **nutné** zapisovat *docstring*? Určitě to **není nutnost**.\n",
        "\n",
        "Ale rozhodně je to velmi nápomocné, protože ti pomůže uvědomit si:\n",
        "1. Jestli dostatečně rozumíš **účelu funkce**,\n",
        "2. jestli funkce skutečně **provádí jen to, co má**,\n",
        "3. jestli má správný **počet parametrů**, případně jakého typu,\n",
        "4. jestli a jaké objekty **funkce vrací**.\n",
        "\n",
        "<br>\n",
        "\n",
        "Do budoucna potom můžeš využít *docstring* při:\n",
        "1. Generování **dokumentace projektu** (https://wiki.python.org/moin/DocumentationTools),\n",
        "2. **testování funkcí** pomocí modulu [doctest](https://docs.python.org/3/library/doctest.html)."
      ]
    },
    {
      "cell_type": "code",
      "execution_count": null,
      "metadata": {
        "id": "B9tI_3N_NkAH"
      },
      "outputs": [],
      "source": [
        "# příklad použití\n",
        "# python -m doctest -v main.py\n",
        "# python -m pydoc main\n",
        "# python -m pydoc -w main"
      ]
    },
    {
      "cell_type": "code",
      "execution_count": null,
      "metadata": {
        "id": "7uFNFr1aNkAH"
      },
      "outputs": [],
      "source": []
    },
    {
      "cell_type": "code",
      "execution_count": null,
      "metadata": {
        "id": "3-xrniOvNkAH"
      },
      "outputs": [],
      "source": [
        "def vypocitej_vyskyt_dat(pismena):\n",
        "    \"\"\"\n",
        "    Vrať slovník, který obsahuje výčet jednotlivých prvků v zadaném parametru.\n",
        "\n",
        "    :param pismena: parametr \"pismena\" obsahující zadaný text.\n",
        "    :type pismena: tuple\n",
        "    :return: slovník se znaky z textu a počet jejich výskytů.\n",
        "    :rtype: dict\n",
        "\n",
        "    :Example:\n",
        "    >>> vysledek = vypocitej_vyskyt_dat((\"a\", \"b\", \"a\"))\n",
        "    >>> vysledek\n",
        "    {'a': 2, 'b': 1}\n",
        "    >>> vysledek = vypocitej_vyskyt_dat((\"a\", \"b\"))\n",
        "    >>> vysledek\n",
        "    {'a': 1, 'b': 1}\n",
        "    \"\"\"\n",
        "    vyskyt = dict()\n",
        "\n",
        "    for slovo in pismena:\n",
        "        vyskyt[slovo] = vyskyt.setdefault(slovo, 0) + 1\n",
        "\n",
        "    return vyskyt\n",
        "\n",
        "\n",
        "import doctest\n",
        "doctest.testmod()"
      ]
    },
    {
      "cell_type": "markdown",
      "metadata": {
        "id": "BGLtEIwlNkAH"
      },
      "source": [
        "<img src=\"https://external-content.duckduckgo.com/iu/?u=https%3A%2F%2Ftse2.mm.bing.net%2Fth%3Fid%3DOIP.cjfmUt8xYHoEdmQWxT1fBgHaHa%26pid%3DApi&f=1\" width=\"200\">\n",
        "\n",
        "## Co je `__name__`\n",
        "\n",
        "---"
      ]
    },
    {
      "cell_type": "markdown",
      "metadata": {
        "id": "z5_tc8t0NkAH"
      },
      "source": [
        "Velmi často se při čtení cizího kódu můžeš setkat s **tímto ohlášením**:\n",
        "```python\n",
        "if __name__ == \"__main__\":\n",
        "    # ...\n",
        "```\n",
        "\n",
        "Bývá velmi často vložené právě **na konci modulu** (tedy souboru s příponou `.py`)\n",
        "\n",
        "Představ si situaci, že potřebuješ nahrát jen funkci `funkce_2`:"
      ]
    },
    {
      "cell_type": "code",
      "execution_count": null,
      "metadata": {
        "id": "yzA-S3edNkAH"
      },
      "outputs": [],
      "source": [
        "# soubor muj_modul.py\n",
        "def hlavni_funkce():\n",
        "    funkce_1()\n",
        "    funkce_2()\n",
        "    funkce_3()\n",
        "\n",
        "def funkce_1():\n",
        "    print(\"Spouštění první funkce..\")\n",
        "\n",
        "def funkce_2():\n",
        "    \"\"\"Funkce, kterou potřebuješ.\"\"\"\n",
        "    print(\"Spouštění druhé funkce..\")\n",
        "\n",
        "def funkce_3():\n",
        "    print(\"Spouštění třetí funkce..\")\n",
        "\n",
        "hlavni_funkce()"
      ]
    },
    {
      "cell_type": "markdown",
      "metadata": {
        "id": "vGogZDkONkAH"
      },
      "source": [
        "Díky, **nahrávání knihoven** můžeš snadno použít *funkci* z jiného modulu.\n",
        "\n",
        "Víš totiž, kde je soubor `muj_soubor.py` umístěný:\n",
        "```python\n",
        "import muj_modul\n",
        "\n",
        "muj_modul.funkce_2()\n",
        "```"
      ]
    },
    {
      "cell_type": "markdown",
      "metadata": {
        "id": "r7htAnSfNkAI"
      },
      "source": [
        "Jakmile tebou vytvořený soubor **s nahraným modulem** spustíš, získáš tento výstup:\n",
        "```\n",
        "Spouštění první funkce...\n",
        "Spouštění druhé funkce...\n",
        "Spouštění třetí funkce...\n",
        "Spouštění druhé funkce...\n",
        "```"
      ]
    },
    {
      "cell_type": "markdown",
      "metadata": {
        "id": "zMhgiYJUNkAI"
      },
      "source": [
        "Místo, aby došlo ke spuštění **pouze** *uživatelské funkce* `funkce_2`, došlo ke spuštění všech funkcí.\n",
        "\n",
        "<br>\n",
        "\n",
        "V této ukázce to není tak zásadní problém. Ale představ si, že by spuštění funkcí trvalo **několik minut** a potřebovalo **nezanedbatelné množství paměti** tvého počítače.\n",
        "\n",
        "Tomu je potřeba rozhodně zabránit, jinak nemůžeš rozumně pracovat s takovým modulem.\n",
        "\n",
        "<br>\n",
        "\n",
        "Je tedy nutné:\n",
        "1. `muj_modul.py` **spouštět jako skript (program)** pro Python s funkcí `hlavni_funkce()`,\n",
        "2. `muj_modul.py` **nahrávat jako modul** Pythonu bez funkce `hlavni_funkce()`."
      ]
    },
    {
      "cell_type": "code",
      "execution_count": null,
      "metadata": {
        "id": "Ayz4RFibNkAI"
      },
      "outputs": [],
      "source": [
        "# soubor muj_modul.py\n",
        "def hlavni_funkce():\n",
        "    funkce_1()\n",
        "    funkce_2()\n",
        "    funkce_3()\n",
        "\n",
        "def funkce_1():\n",
        "    print(\"Spouštění první funkce...\")\n",
        "\n",
        "def funkce_2():\n",
        "    \"\"\"Funkce, kterou potřebuješ.\"\"\"\n",
        "    print(\"Spouštění druhé funkce...\")\n",
        "\n",
        "def funkce_3():\n",
        "    print(\"Spouštění třetí funkce...\")\n",
        "\n",
        "# nové ohlášení *name == main*\n",
        "if __name__ == \"__main__\":\n",
        "    print(\"Spouštění souboru..\")\n",
        "    hlavni_funkce()\n",
        "else:\n",
        "    print(\"Nahrávání modulu..\")"
      ]
    },
    {
      "cell_type": "markdown",
      "metadata": {
        "id": "l1-EHtxzNkAI"
      },
      "source": [
        "Pokud zkusíš tentokrát **spustit soubor** `muj_modul.py`:\n",
        "```\n",
        "$ python muj_modul.py\n",
        "```\n",
        "Dostaneš výstupem:\n",
        "```\n",
        "Spouštění souboru..\n",
        "Spouštění první funkce..\n",
        "Spouštění druhé funkce..\n",
        "Spouštění třetí funkce..\n",
        "```\n",
        "\n",
        "<br>\n",
        "\n",
        "Pokud budeš chtít `muj_modul.py` **nahrávat** pomocí ohlášení `import`:\n",
        "```python\n",
        "import muj_modul\n",
        "\n",
        "muj_modul.funkce_2()\n",
        "```\n",
        "Dostaneš jako výstup:\n",
        "```\n",
        "Nahrávání modulu..\n",
        "Spouštění druhé funkce..\n",
        "```\n",
        "\n",
        "<br>\n",
        "\n",
        "Tím dosáhneš toho, že tebou vytvořený soubor `muj_modul.py` funguje pro oba scénaře. Tedy pracuje jako **spustitelný soubor** (skript) a současně jako **plnohodnotný modul**."
      ]
    },
    {
      "cell_type": "markdown",
      "metadata": {
        "id": "N0RTcVVDNkAI"
      },
      "source": [
        "<img src=\"https://external-content.duckduckgo.com/iu/?u=https%3A%2F%2Ftse3.mm.bing.net%2Fth%3Fid%3DOIP.I_ciaAqJVtH3k_LDV-4a8AHaEc%26pid%3DApi&f=1&ipt=74100f497253ea415c13868adb6e91d832625b2dfe1b2cf852efaf93feeb7546&ipo=images\" width=\"350\">\n",
        "\n",
        "## Řádné funkce uživatele"
      ]
    },
    {
      "cell_type": "markdown",
      "metadata": {
        "id": "zECFygEyNkAI"
      },
      "source": [
        "Psaní uživatelských funkcí má ovšem jistá doporučení."
      ]
    },
    {
      "cell_type": "markdown",
      "metadata": {
        "id": "g0hL9ef7NkAI"
      },
      "source": [
        "### Znovu nevymýšlet kolo"
      ]
    },
    {
      "cell_type": "markdown",
      "metadata": {
        "id": "1dLA-1SUNkAI"
      },
      "source": [
        "Nejprve zkontroluji *zabudované funkce*, pak tvořím vlastní funkci:"
      ]
    },
    {
      "cell_type": "code",
      "execution_count": null,
      "metadata": {
        "id": "JNwQEV96NkAI"
      },
      "outputs": [],
      "source": [
        "cisla = (1, 2, 3)"
      ]
    },
    {
      "cell_type": "code",
      "execution_count": null,
      "metadata": {
        "id": "S5Y4C_2FNkAI"
      },
      "outputs": [],
      "source": [
        "# TAKHLE NE!\n",
        "def vypocitej_sumu(cisla):\n",
        "    suma = 0\n",
        "\n",
        "    for cislo in cisla:\n",
        "        suma = suma + cislo\n",
        "    return suma\n",
        "%timeit vypocitej_sumu(cisla)"
      ]
    },
    {
      "cell_type": "code",
      "execution_count": null,
      "metadata": {
        "id": "8C8j43S2NkAI"
      },
      "outputs": [],
      "source": [
        "# TAKHLE ANO!\n",
        "%timeit sum(cisla)"
      ]
    },
    {
      "cell_type": "markdown",
      "metadata": {
        "id": "tfAu9O-TNkAJ"
      },
      "source": [
        "### Na jménu záleží\n",
        "Popisuje totiž účel funkce (pokud nelze napsat, zapiš *docstring* funkce):"
      ]
    },
    {
      "cell_type": "code",
      "execution_count": null,
      "metadata": {
        "id": "Im4LrfriNkAJ"
      },
      "outputs": [],
      "source": [
        "# TAKHLE NE!\n",
        "def email():\n",
        "    pass\n",
        "\n",
        "email()"
      ]
    },
    {
      "cell_type": "code",
      "execution_count": null,
      "metadata": {
        "id": "lagyQQd6NkAJ"
      },
      "outputs": [],
      "source": [
        "# TAKHLE ANO!\n",
        "def posli_zpravu():\n",
        "    pass\n",
        "\n",
        "posli_zpravu()"
      ]
    },
    {
      "cell_type": "markdown",
      "metadata": {
        "id": "G3S8SmaNNkAJ"
      },
      "source": [
        "### Rozumné množství parametrů\n",
        "\n",
        "Ideálně **2-3 parametry** (jsou ovšem výjimky):"
      ]
    },
    {
      "cell_type": "code",
      "execution_count": null,
      "metadata": {
        "id": "6Ox-igkSNkAJ"
      },
      "outputs": [],
      "source": [
        "# TAKHLE NE!\n",
        "def zobraz_nabidku(title, body, tlacitko, datum):\n",
        "    pass"
      ]
    },
    {
      "cell_type": "code",
      "execution_count": null,
      "metadata": {
        "id": "C3lCTpnrNkAJ"
      },
      "outputs": [],
      "source": [
        "# TAKHLE ANO!\n",
        "def vytvor_popisek(title, body):\n",
        "    pass\n",
        "\n",
        "def vytvor_tlacitko(tlacitko):\n",
        "    pass\n",
        "\n",
        "def vytvor_datum():\n",
        "    pass"
      ]
    },
    {
      "cell_type": "markdown",
      "metadata": {
        "id": "Zw-ZB_ybNkAJ"
      },
      "source": [
        "### Co je psáno, to je dáno\n",
        "\n",
        "Funkce by měla provádět **jedinnou věc** (jinak je špatně čitelná, pochopitelná, testovatelná):"
      ]
    },
    {
      "cell_type": "code",
      "execution_count": null,
      "metadata": {
        "id": "aWiobWFrNkAJ"
      },
      "outputs": [],
      "source": [
        "# TAKHLE NE!\n",
        "def posli_email_seznamu_klientu(klienti):\n",
        "    \"\"\"Filtruj pouze aktivni klienty a odesli zpravu\"\"\"\n",
        "    for klient in klienti:\n",
        "        if klient.je_aktivni:\n",
        "            email(klient)"
      ]
    },
    {
      "cell_type": "code",
      "execution_count": null,
      "metadata": {
        "id": "mI2OpjrcNkAJ"
      },
      "outputs": [],
      "source": [
        "# TAKHLE ANO!\n",
        "def jen_aktivni_klienti(klienti):\n",
        "    return [klient for klient in klienti if klient.je_aktivni]\n",
        "\n",
        "def posli_email():\n",
        "    pass"
      ]
    },
    {
      "cell_type": "markdown",
      "metadata": {
        "id": "Ocu5XV5PNkAK"
      },
      "source": [
        "### Nespoleháme se na pomoc odjinud (ve funkci)\n",
        "\n",
        "funkce pracuje pouze **s vlastními parametry** (proměnnými):"
      ]
    },
    {
      "cell_type": "code",
      "execution_count": null,
      "metadata": {
        "id": "AqdkmxCqNkAK"
      },
      "outputs": [],
      "source": [
        "# TAKHLE NE!\n",
        "oddelovac = \"---\"\n",
        "datum = \"01.01.2001\"\n",
        "\n",
        "def vytvor_zpravu(autor, zapis):\n",
        "    vytvor_hlavicku(datum, oddelovac)\n",
        "    vytvor_text(autor, zapis)"
      ]
    },
    {
      "cell_type": "code",
      "execution_count": null,
      "metadata": {
        "id": "Rpu3Z0jaNkAK"
      },
      "outputs": [],
      "source": [
        "# TAKHLE ANO!\n",
        "def vytvor_zpravu(autor, zapis):\n",
        "    oddelovac = \"---\"\n",
        "    vytvor_hlavicku(dnesni_datum(), oddelovac)\n",
        "    vytvor_text(autor, zapis)\n",
        "\n",
        "def dnesni_datum():\n",
        "    pass"
      ]
    },
    {
      "cell_type": "markdown",
      "metadata": {
        "id": "fFXKAE5CNkAK"
      },
      "source": [
        "😍 Interpret Pythonu miluje funkce! 😍 Vytváří oddělená prostředí pro proměnné, se kterými efektivněji pracuje."
      ]
    },
    {
      "cell_type": "code",
      "execution_count": null,
      "metadata": {
        "id": "oUcPqD4dNkAK"
      },
      "outputs": [],
      "source": [
        "def spoj_text(txt_1: str, txt_2: str) -> str:  # type hints\n",
        "    return txt_1 + txt_2"
      ]
    },
    {
      "cell_type": "code",
      "execution_count": null,
      "metadata": {
        "id": "ZAMCRKPtNkAK"
      },
      "outputs": [],
      "source": [
        "spoj_text(\"Matouš\", \" Holinka\")"
      ]
    },
    {
      "cell_type": "code",
      "execution_count": null,
      "metadata": {
        "id": "Xj3_ZovINkAK"
      },
      "outputs": [],
      "source": [
        "spoj_text(1, 9)"
      ]
    },
    {
      "cell_type": "markdown",
      "metadata": {
        "id": "F6sHHU3QNkAK"
      },
      "source": [
        "<br>\n",
        "\n",
        "<img src=\"https://external-content.duckduckgo.com/iu/?u=https%3A%2F%2Ftse2.mm.bing.net%2Fth%3Fid%3DOIP.Y9SA-Zlyi8gB0rMDOSv2aAHaHa%26pid%3DApi&f=1&ipt=4d84427394f587517a3d2bed1b4a17deb8c262c544f634271dfc4911a12706b6&ipo=images\" width=\"200\">\n",
        "\n",
        "## Vícenásobné přiřazení hodnot\n",
        "\n",
        "---"
      ]
    },
    {
      "cell_type": "markdown",
      "metadata": {
        "id": "4062QQ6FNkAK"
      },
      "source": [
        "Doposud přiřazuješ hodnoty k odkazům tímto způsobem:"
      ]
    },
    {
      "cell_type": "code",
      "execution_count": null,
      "metadata": {
        "id": "Kgt-gP-UNkAK"
      },
      "outputs": [],
      "source": [
        "jmeno = \"Matous\""
      ]
    },
    {
      "cell_type": "code",
      "execution_count": null,
      "metadata": {
        "id": "x3NTRMnONkAK"
      },
      "outputs": [],
      "source": [
        "print(jmeno)"
      ]
    },
    {
      "cell_type": "code",
      "execution_count": null,
      "metadata": {
        "id": "bgtIUw5DNkAL"
      },
      "outputs": [],
      "source": [
        "jmeno_1 = [\"Matous\", \"Lukas\"][0]"
      ]
    },
    {
      "cell_type": "code",
      "execution_count": null,
      "metadata": {
        "id": "y02_TtfQNkAL"
      },
      "outputs": [],
      "source": [
        "jmeno_2 = [\"Matous\", \"Lukas\"][1]"
      ]
    },
    {
      "cell_type": "code",
      "execution_count": null,
      "metadata": {
        "id": "ln0Fv_AlNkAL"
      },
      "outputs": [],
      "source": [
        "print(jmeno_1, jmeno_2, sep=\"\\n\")"
      ]
    },
    {
      "cell_type": "markdown",
      "metadata": {
        "id": "kMn1W7StNkAL"
      },
      "source": [
        "Současně ale existují i **další varianty přiřazení** hodnoty/hodnot.\n",
        "\n",
        "### Vícenásobné přiřazení (LS = PS)\n",
        "\n",
        "Pokud máš na pravé straně (PS) více hodnot, můžeš je rozdělit.\n",
        "\n",
        "Rozdělení probíhá následovně:"
      ]
    },
    {
      "cell_type": "code",
      "execution_count": null,
      "metadata": {
        "id": "buvO97mlNkAL"
      },
      "outputs": [],
      "source": [
        "jmeno_1, jmeno_2 = [\"Matous\", \"Jan\"]"
      ]
    },
    {
      "cell_type": "code",
      "execution_count": null,
      "metadata": {
        "id": "R--oC1Q1NkAL"
      },
      "outputs": [],
      "source": [
        "print(jmeno_1, jmeno_2, sep=\"\\n\")"
      ]
    },
    {
      "cell_type": "code",
      "execution_count": null,
      "metadata": {
        "id": "bCfoaq-xNkAL"
      },
      "outputs": [],
      "source": [
        "jmeno_1, jmeno_3, jmeno_4, jmeno_2 = [\"Matous\", \"Jan\", \"Pavel\", \"Petr\"]"
      ]
    },
    {
      "cell_type": "code",
      "execution_count": null,
      "metadata": {
        "id": "DrmQKxMU54-D"
      },
      "outputs": [],
      "source": [
        "# co bude výstupem? proc je radek vyse matouci?\n",
        "print(jmeno_1, jmeno_2, sep=\"\\n\")"
      ]
    },
    {
      "cell_type": "markdown",
      "metadata": {
        "id": "5LNBkvdkNkAL"
      },
      "source": [
        "Co když nás ale opravdu zajíma jenom první a poslední jméno?"
      ]
    },
    {
      "cell_type": "code",
      "execution_count": null,
      "metadata": {
        "id": "3jCcz3b8NkAL"
      },
      "outputs": [],
      "source": [
        "jmeno_1, _, _, jmeno_2 = [\"Matous\", \"Jan\", \"Pavel\", \"Petr\"]"
      ]
    },
    {
      "cell_type": "code",
      "execution_count": null,
      "metadata": {
        "id": "q7MnNRD-6VFU"
      },
      "outputs": [],
      "source": [
        "print(jmeno_1, jmeno_2, sep=\"\\n\")"
      ]
    },
    {
      "cell_type": "markdown",
      "metadata": {
        "id": "bOv5S0iPNkAN"
      },
      "source": [
        "### Vícenásobné přiřazení s hvězdičkou (*)\n",
        "\n",
        "Syntaxe je velice podobná té předchozí.\n",
        "\n",
        "Nicméně doplněná hvězdička má za účel sbalit všechny zbývající hodnoty do jedinné proměnné."
      ]
    },
    {
      "cell_type": "code",
      "execution_count": null,
      "metadata": {
        "id": "_zCuf32BNkAN"
      },
      "outputs": [],
      "source": [
        "jmeno_1, *zbytek_jmen, jmeno_2 = [\"Matous\", \"Marek\", \"Lukas\", \"Jan\"]"
      ]
    },
    {
      "cell_type": "code",
      "execution_count": null,
      "metadata": {
        "id": "RZZ8ll5RNkAN"
      },
      "outputs": [],
      "source": [
        "print(jmeno_1, jmeno_2, zbytek_jmen, sep=\"\\n\")"
      ]
    },
    {
      "cell_type": "markdown",
      "metadata": {
        "id": "QzJhZCLrNkAN"
      },
      "source": [
        "Všimněte si jak se hodnoty v proměnných změní, pokud změníme pořadí, kdy hvězdičku zapíšeme:"
      ]
    },
    {
      "cell_type": "code",
      "execution_count": null,
      "metadata": {
        "id": "MIeLQZC7NkAN"
      },
      "outputs": [],
      "source": [
        "jmeno_1, jmeno_2, *zbytek_jmen,  = [\"Matous\", \"Marek\", \"Lukas\", \"Jan\"]"
      ]
    },
    {
      "cell_type": "code",
      "execution_count": null,
      "metadata": {
        "id": "UCkqU9tMNkAN"
      },
      "outputs": [],
      "source": [
        "print(jmeno_1, zbytek_jmen, jmeno_2, sep=\"\\n\")"
      ]
    },
    {
      "cell_type": "code",
      "execution_count": null,
      "metadata": {
        "id": "nD-t13_-NkAN"
      },
      "outputs": [],
      "source": [
        "jmeno_1, *_, jmeno_2 = [\"Matous\", \"Marek\", \"Lukas\", \"Jan\"]"
      ]
    },
    {
      "cell_type": "code",
      "execution_count": null,
      "metadata": {
        "id": "5bh54JS4NkAO"
      },
      "outputs": [],
      "source": [
        "print(jmeno_1, jmeno_2, sep=\"\\n\")"
      ]
    },
    {
      "cell_type": "markdown",
      "metadata": {
        "id": "d4AtYxSX6yBV"
      },
      "source": [
        "Ale pozor aby počty souhlasily"
      ]
    },
    {
      "cell_type": "code",
      "execution_count": null,
      "metadata": {
        "id": "vZD8CBg866wU"
      },
      "outputs": [],
      "source": [
        "jmeno_1, _, jmeno_2 = [\"Matous\", \"Jan\"]"
      ]
    },
    {
      "cell_type": "code",
      "execution_count": null,
      "metadata": {
        "id": "z2ILDJHh61Rt"
      },
      "outputs": [],
      "source": [
        "jmeno_1, *_, jmeno_2 = [\"Matous\", \"Jan\"]"
      ]
    },
    {
      "cell_type": "code",
      "execution_count": null,
      "metadata": {
        "id": "_UZsbaeY63oV"
      },
      "outputs": [],
      "source": [
        "jmeno_1, *_, jmeno_2 = [\"Matous\"]"
      ]
    },
    {
      "cell_type": "code",
      "execution_count": null,
      "metadata": {
        "id": "QE3iuTkK7BY8"
      },
      "outputs": [],
      "source": [
        "# nepřipomíná to for cyklus s funkci zip()?"
      ]
    },
    {
      "cell_type": "markdown",
      "metadata": {
        "id": "ez8pqhVtNkAO"
      },
      "source": [
        "<br>\n",
        "\n",
        "### Úkol\n",
        "\n",
        "---"
      ]
    },
    {
      "cell_type": "markdown",
      "metadata": {
        "id": "ac9zHieENkAO"
      },
      "source": [
        "Napiš funkci, která bude umět převádět označení typu bytu (**byt0001**, **byt0003**):\n",
        "```\n",
        "byt0001,55m2,Olomouc,ul.Heyrovského,\n",
        "byt0003,65m2,Olomouc,ul.Novosadský_dvůr,\n",
        "```"
      ]
    },
    {
      "cell_type": "code",
      "execution_count": null,
      "metadata": {
        "id": "qxMY6IPrNkAO"
      },
      "outputs": [],
      "source": [
        "vzor = {\n",
        "    \"byt0001\": \"1+1\",\n",
        "    \"byt0002\": \"2+1\",\n",
        "    \"byt0003\": \"2+kk\",\n",
        "    \"byt0004\": \"3+1\",\n",
        "    \"byt0005\": \"3+kk\",\n",
        "    \"byt0006\": \"4+1\",\n",
        "    \"byt0007\": \"4+kk\",\n",
        "}"
      ]
    },
    {
      "cell_type": "markdown",
      "metadata": {
        "id": "6eBdT4fYNkAO"
      },
      "source": [
        "Funkce musí umět extrahovat údaj a pak jej převést:\n",
        "```\n",
        "byt0001,55m2,Olomouc,ul.Heyrovského,\n",
        "byt0003,65m2,Olomouc,ul.Novosadský_dvůr,\n",
        "...\n",
        "```\n",
        "\n",
        "výstup bude vypadat jako:\n",
        "```\n",
        "1+1,55m2,Olomouc,ul.Heyrovského,\n",
        "2+kk,65m2,Olomouc,ul.Novosadský_dvůr,\n",
        "...\n",
        "```   "
      ]
    },
    {
      "cell_type": "markdown",
      "metadata": {
        "id": "zi-7tcFvNkAO"
      },
      "source": [
        "---"
      ]
    },
    {
      "cell_type": "markdown",
      "metadata": {
        "id": "gUaKD5-QQs1E"
      },
      "source": [
        "Odkazy k lekci (když zbyde čas...):\n",
        "\n",
        "* https://black.readthedocs.io/en/stable/the_black_code_style/current_style.html\n",
        "* https://flake8.pycqa.org/en/latest/index.html\n",
        "* https://pypi.org/project/pylint/\n",
        "* https://docs.python.org/3/library/pydoc.html\n",
        "* https://pypi.org/project/mypy/"
      ]
    },
    {
      "cell_type": "code",
      "execution_count": null,
      "metadata": {
        "id": "FI_2cZ7qQ0fd"
      },
      "outputs": [],
      "source": []
    }
  ],
  "metadata": {
    "colab": {
      "provenance": []
    },
    "kernelspec": {
      "display_name": "Python 3",
      "language": "python",
      "name": "python3"
    },
    "language_info": {
      "codemirror_mode": {
        "name": "ipython",
        "version": 3
      },
      "file_extension": ".py",
      "mimetype": "text/x-python",
      "name": "python",
      "nbconvert_exporter": "python",
      "pygments_lexer": "ipython3",
      "version": "3.8.6"
    }
  },
  "nbformat": 4,
  "nbformat_minor": 0
}
